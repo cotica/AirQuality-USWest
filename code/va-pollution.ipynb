{
 "cells": [
  {
   "cell_type": "markdown",
   "metadata": {},
   "source": [
    "# Question: How will carbon imprint from coastal wild fires impact air quality by 2025?\n",
    "\n",
    "\n",
    "* Dataset source: https://www.kaggle.com/sogun3/uspollution\n",
    "* Visualization: https://www.kaggle.com/jaeyoonpark/animation-basemap-plotly-for-air-quality-index"
   ]
  },
  {
   "cell_type": "code",
   "execution_count": 1,
   "metadata": {
    "ExecuteTime": {
     "end_time": "2021-05-07T16:25:49.826777Z",
     "start_time": "2021-05-07T16:25:48.710657Z"
    }
   },
   "outputs": [],
   "source": [
    "import pandas as pd"
   ]
  },
  {
   "cell_type": "code",
   "execution_count": 8,
   "metadata": {
    "ExecuteTime": {
     "end_time": "2021-05-07T16:37:00.748767Z",
     "start_time": "2021-05-07T16:36:52.389952Z"
    }
   },
   "outputs": [],
   "source": [
    "#syntactic ref from https://towardsdatascience.com/how-to-read-csv-file-using-pandas-ab1f5e7e7b58\n",
    "pollution = pd.read_csv(../data/ #verify after repo restructure!\n",
    "    'pollution_us_2000_2016.csv',#, index_col = 'Unnamed:0')\n",
    "usecols=['State Code', 'County Code', 'Site Num', 'Address',\n",
    "       'State', 'County', 'City', 'Date Local', 'NO2 Units', 'NO2 Mean',\n",
    "       'NO2 1st Max Value', 'NO2 1st Max Hour', 'NO2 AQI', 'O3 Units',\n",
    "       'O3 Mean', 'O3 1st Max Value', 'O3 1st Max Hour', 'O3 AQI', 'SO2 Units',\n",
    "       'SO2 Mean', 'SO2 1st Max Value', 'SO2 1st Max Hour', 'SO2 AQI',\n",
    "       'CO Units', 'CO Mean', 'CO 1st Max Value', 'CO 1st Max Hour', 'CO AQI']\n",
    ")"
   ]
  },
  {
   "cell_type": "code",
   "execution_count": 9,
   "metadata": {
    "ExecuteTime": {
     "end_time": "2021-05-07T16:37:03.075462Z",
     "start_time": "2021-05-07T16:37:03.062409Z"
    }
   },
   "outputs": [
    {
     "data": {
      "text/plain": [
       "Index(['State Code', 'County Code', 'Site Num', 'Address', 'State', 'County',\n",
       "       'City', 'Date Local', 'NO2 Units', 'NO2 Mean', 'NO2 1st Max Value',\n",
       "       'NO2 1st Max Hour', 'NO2 AQI', 'O3 Units', 'O3 Mean',\n",
       "       'O3 1st Max Value', 'O3 1st Max Hour', 'O3 AQI', 'SO2 Units',\n",
       "       'SO2 Mean', 'SO2 1st Max Value', 'SO2 1st Max Hour', 'SO2 AQI',\n",
       "       'CO Units', 'CO Mean', 'CO 1st Max Value', 'CO 1st Max Hour', 'CO AQI'],\n",
       "      dtype='object')"
      ]
     },
     "execution_count": 9,
     "metadata": {},
     "output_type": "execute_result"
    }
   ],
   "source": [
    "pollution.columns"
   ]
  },
  {
   "cell_type": "code",
   "execution_count": 11,
   "metadata": {
    "ExecuteTime": {
     "end_time": "2021-05-07T16:43:18.622803Z",
     "start_time": "2021-05-07T16:43:18.617932Z"
    }
   },
   "outputs": [
    {
     "data": {
      "text/plain": [
       "(1746661, 28)"
      ]
     },
     "execution_count": 11,
     "metadata": {},
     "output_type": "execute_result"
    }
   ],
   "source": [
    "pollution.shape"
   ]
  },
  {
   "cell_type": "code",
   "execution_count": 12,
   "metadata": {
    "ExecuteTime": {
     "end_time": "2021-05-07T16:43:44.204001Z",
     "start_time": "2021-05-07T16:43:44.168187Z"
    }
   },
   "outputs": [
    {
     "data": {
      "text/html": [
       "<div>\n",
       "<style scoped>\n",
       "    .dataframe tbody tr th:only-of-type {\n",
       "        vertical-align: middle;\n",
       "    }\n",
       "\n",
       "    .dataframe tbody tr th {\n",
       "        vertical-align: top;\n",
       "    }\n",
       "\n",
       "    .dataframe thead th {\n",
       "        text-align: right;\n",
       "    }\n",
       "</style>\n",
       "<table border=\"1\" class=\"dataframe\">\n",
       "  <thead>\n",
       "    <tr style=\"text-align: right;\">\n",
       "      <th></th>\n",
       "      <th>0</th>\n",
       "      <th>1</th>\n",
       "    </tr>\n",
       "  </thead>\n",
       "  <tbody>\n",
       "    <tr>\n",
       "      <th>State Code</th>\n",
       "      <td>4</td>\n",
       "      <td>4</td>\n",
       "    </tr>\n",
       "    <tr>\n",
       "      <th>County Code</th>\n",
       "      <td>13</td>\n",
       "      <td>13</td>\n",
       "    </tr>\n",
       "    <tr>\n",
       "      <th>Site Num</th>\n",
       "      <td>3002</td>\n",
       "      <td>3002</td>\n",
       "    </tr>\n",
       "    <tr>\n",
       "      <th>Address</th>\n",
       "      <td>1645 E ROOSEVELT ST-CENTRAL PHOENIX STN</td>\n",
       "      <td>1645 E ROOSEVELT ST-CENTRAL PHOENIX STN</td>\n",
       "    </tr>\n",
       "    <tr>\n",
       "      <th>State</th>\n",
       "      <td>Arizona</td>\n",
       "      <td>Arizona</td>\n",
       "    </tr>\n",
       "    <tr>\n",
       "      <th>County</th>\n",
       "      <td>Maricopa</td>\n",
       "      <td>Maricopa</td>\n",
       "    </tr>\n",
       "    <tr>\n",
       "      <th>City</th>\n",
       "      <td>Phoenix</td>\n",
       "      <td>Phoenix</td>\n",
       "    </tr>\n",
       "    <tr>\n",
       "      <th>Date Local</th>\n",
       "      <td>2000-01-01</td>\n",
       "      <td>2000-01-01</td>\n",
       "    </tr>\n",
       "    <tr>\n",
       "      <th>NO2 Units</th>\n",
       "      <td>Parts per billion</td>\n",
       "      <td>Parts per billion</td>\n",
       "    </tr>\n",
       "    <tr>\n",
       "      <th>NO2 Mean</th>\n",
       "      <td>19.0417</td>\n",
       "      <td>19.0417</td>\n",
       "    </tr>\n",
       "    <tr>\n",
       "      <th>NO2 1st Max Value</th>\n",
       "      <td>49</td>\n",
       "      <td>49</td>\n",
       "    </tr>\n",
       "    <tr>\n",
       "      <th>NO2 1st Max Hour</th>\n",
       "      <td>19</td>\n",
       "      <td>19</td>\n",
       "    </tr>\n",
       "    <tr>\n",
       "      <th>NO2 AQI</th>\n",
       "      <td>46</td>\n",
       "      <td>46</td>\n",
       "    </tr>\n",
       "    <tr>\n",
       "      <th>O3 Units</th>\n",
       "      <td>Parts per million</td>\n",
       "      <td>Parts per million</td>\n",
       "    </tr>\n",
       "    <tr>\n",
       "      <th>O3 Mean</th>\n",
       "      <td>0.0225</td>\n",
       "      <td>0.0225</td>\n",
       "    </tr>\n",
       "    <tr>\n",
       "      <th>O3 1st Max Value</th>\n",
       "      <td>0.04</td>\n",
       "      <td>0.04</td>\n",
       "    </tr>\n",
       "    <tr>\n",
       "      <th>O3 1st Max Hour</th>\n",
       "      <td>10</td>\n",
       "      <td>10</td>\n",
       "    </tr>\n",
       "    <tr>\n",
       "      <th>O3 AQI</th>\n",
       "      <td>34</td>\n",
       "      <td>34</td>\n",
       "    </tr>\n",
       "    <tr>\n",
       "      <th>SO2 Units</th>\n",
       "      <td>Parts per billion</td>\n",
       "      <td>Parts per billion</td>\n",
       "    </tr>\n",
       "    <tr>\n",
       "      <th>SO2 Mean</th>\n",
       "      <td>3</td>\n",
       "      <td>3</td>\n",
       "    </tr>\n",
       "    <tr>\n",
       "      <th>SO2 1st Max Value</th>\n",
       "      <td>9</td>\n",
       "      <td>9</td>\n",
       "    </tr>\n",
       "    <tr>\n",
       "      <th>SO2 1st Max Hour</th>\n",
       "      <td>21</td>\n",
       "      <td>21</td>\n",
       "    </tr>\n",
       "    <tr>\n",
       "      <th>SO2 AQI</th>\n",
       "      <td>13</td>\n",
       "      <td>13</td>\n",
       "    </tr>\n",
       "    <tr>\n",
       "      <th>CO Units</th>\n",
       "      <td>Parts per million</td>\n",
       "      <td>Parts per million</td>\n",
       "    </tr>\n",
       "    <tr>\n",
       "      <th>CO Mean</th>\n",
       "      <td>1.14583</td>\n",
       "      <td>0.878947</td>\n",
       "    </tr>\n",
       "    <tr>\n",
       "      <th>CO 1st Max Value</th>\n",
       "      <td>4.2</td>\n",
       "      <td>2.2</td>\n",
       "    </tr>\n",
       "    <tr>\n",
       "      <th>CO 1st Max Hour</th>\n",
       "      <td>21</td>\n",
       "      <td>23</td>\n",
       "    </tr>\n",
       "    <tr>\n",
       "      <th>CO AQI</th>\n",
       "      <td>NaN</td>\n",
       "      <td>25</td>\n",
       "    </tr>\n",
       "  </tbody>\n",
       "</table>\n",
       "</div>"
      ],
      "text/plain": [
       "                                                         0  \\\n",
       "State Code                                               4   \n",
       "County Code                                             13   \n",
       "Site Num                                              3002   \n",
       "Address            1645 E ROOSEVELT ST-CENTRAL PHOENIX STN   \n",
       "State                                              Arizona   \n",
       "County                                            Maricopa   \n",
       "City                                               Phoenix   \n",
       "Date Local                                      2000-01-01   \n",
       "NO2 Units                                Parts per billion   \n",
       "NO2 Mean                                           19.0417   \n",
       "NO2 1st Max Value                                       49   \n",
       "NO2 1st Max Hour                                        19   \n",
       "NO2 AQI                                                 46   \n",
       "O3 Units                                 Parts per million   \n",
       "O3 Mean                                             0.0225   \n",
       "O3 1st Max Value                                      0.04   \n",
       "O3 1st Max Hour                                         10   \n",
       "O3 AQI                                                  34   \n",
       "SO2 Units                                Parts per billion   \n",
       "SO2 Mean                                                 3   \n",
       "SO2 1st Max Value                                        9   \n",
       "SO2 1st Max Hour                                        21   \n",
       "SO2 AQI                                                 13   \n",
       "CO Units                                 Parts per million   \n",
       "CO Mean                                            1.14583   \n",
       "CO 1st Max Value                                       4.2   \n",
       "CO 1st Max Hour                                         21   \n",
       "CO AQI                                                 NaN   \n",
       "\n",
       "                                                         1  \n",
       "State Code                                               4  \n",
       "County Code                                             13  \n",
       "Site Num                                              3002  \n",
       "Address            1645 E ROOSEVELT ST-CENTRAL PHOENIX STN  \n",
       "State                                              Arizona  \n",
       "County                                            Maricopa  \n",
       "City                                               Phoenix  \n",
       "Date Local                                      2000-01-01  \n",
       "NO2 Units                                Parts per billion  \n",
       "NO2 Mean                                           19.0417  \n",
       "NO2 1st Max Value                                       49  \n",
       "NO2 1st Max Hour                                        19  \n",
       "NO2 AQI                                                 46  \n",
       "O3 Units                                 Parts per million  \n",
       "O3 Mean                                             0.0225  \n",
       "O3 1st Max Value                                      0.04  \n",
       "O3 1st Max Hour                                         10  \n",
       "O3 AQI                                                  34  \n",
       "SO2 Units                                Parts per billion  \n",
       "SO2 Mean                                                 3  \n",
       "SO2 1st Max Value                                        9  \n",
       "SO2 1st Max Hour                                        21  \n",
       "SO2 AQI                                                 13  \n",
       "CO Units                                 Parts per million  \n",
       "CO Mean                                           0.878947  \n",
       "CO 1st Max Value                                       2.2  \n",
       "CO 1st Max Hour                                         23  \n",
       "CO AQI                                                  25  "
      ]
     },
     "execution_count": 12,
     "metadata": {},
     "output_type": "execute_result"
    }
   ],
   "source": [
    "pollution.head(2).T"
   ]
  },
  {
   "cell_type": "code",
   "execution_count": 14,
   "metadata": {
    "ExecuteTime": {
     "end_time": "2021-05-07T16:45:12.088288Z",
     "start_time": "2021-05-07T16:45:11.866883Z"
    }
   },
   "outputs": [
    {
     "data": {
      "text/plain": [
       "California              576142\n",
       "Pennsylvania            188892\n",
       "Texas                   123208\n",
       "New York                 70487\n",
       "Arizona                  69840\n",
       "Illinois                 50116\n",
       "North Carolina           37126\n",
       "Virginia                 36422\n",
       "Arkansas                 35332\n",
       "Colorado                 35188\n",
       "Oklahoma                 34420\n",
       "Kansas                   31480\n",
       "Connecticut              29933\n",
       "New Jersey               26732\n",
       "Florida                  25918\n",
       "Iowa                     25850\n",
       "District Of Columbia     25696\n",
       "Louisiana                23874\n",
       "Maine                    23623\n",
       "Maryland                 23538\n",
       "Ohio                     22934\n",
       "Massachusetts            21572\n",
       "Hawaii                   20276\n",
       "Missouri                 19778\n",
       "Kentucky                 14686\n",
       "Indiana                  13926\n",
       "Wyoming                  13048\n",
       "Oregon                   11794\n",
       "North Dakota             11018\n",
       "Nevada                    9698\n",
       "Country Of Mexico         9506\n",
       "New Hampshire             9294\n",
       "Utah                      8668\n",
       "South Dakota              8316\n",
       "Michigan                  8182\n",
       "Georgia                   7722\n",
       "New Mexico                7130\n",
       "South Carolina            6536\n",
       "Rhode Island              6324\n",
       "Tennessee                 5842\n",
       "Delaware                  3630\n",
       "Minnesota                 3558\n",
       "Alabama                   3126\n",
       "Alaska                    1974\n",
       "Idaho                     1828\n",
       "Wisconsin                 1516\n",
       "Washington                 962\n",
       "Name: State, dtype: int64"
      ]
     },
     "execution_count": 14,
     "metadata": {},
     "output_type": "execute_result"
    }
   ],
   "source": [
    "pollution['State'].value_counts()"
   ]
  },
  {
   "cell_type": "code",
   "execution_count": null,
   "metadata": {},
   "outputs": [],
   "source": []
  }
 ],
 "metadata": {
  "kernelspec": {
   "display_name": "Python 3",
   "language": "python",
   "name": "python3"
  },
  "language_info": {
   "codemirror_mode": {
    "name": "ipython",
    "version": 3
   },
   "file_extension": ".py",
   "mimetype": "text/x-python",
   "name": "python",
   "nbconvert_exporter": "python",
   "pygments_lexer": "ipython3",
   "version": "3.8.3"
  },
  "toc": {
   "base_numbering": 1,
   "nav_menu": {},
   "number_sections": true,
   "sideBar": true,
   "skip_h1_title": false,
   "title_cell": "Table of Contents",
   "title_sidebar": "Contents",
   "toc_cell": false,
   "toc_position": {},
   "toc_section_display": true,
   "toc_window_display": false
  },
  "varInspector": {
   "cols": {
    "lenName": 16,
    "lenType": 16,
    "lenVar": 40
   },
   "kernels_config": {
    "python": {
     "delete_cmd_postfix": "",
     "delete_cmd_prefix": "del ",
     "library": "var_list.py",
     "varRefreshCmd": "print(var_dic_list())"
    },
    "r": {
     "delete_cmd_postfix": ") ",
     "delete_cmd_prefix": "rm(",
     "library": "var_list.r",
     "varRefreshCmd": "cat(var_dic_list()) "
    }
   },
   "types_to_exclude": [
    "module",
    "function",
    "builtin_function_or_method",
    "instance",
    "_Feature"
   ],
   "window_display": false
  }
 },
 "nbformat": 4,
 "nbformat_minor": 4
}
