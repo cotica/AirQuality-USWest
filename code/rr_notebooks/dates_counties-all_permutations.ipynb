{
 "cells": [
  {
   "cell_type": "markdown",
   "metadata": {},
   "source": [
    "I ran the following code as part of an effort to adjust one of my maps in Tableau"
   ]
  },
  {
   "cell_type": "code",
   "execution_count": 2,
   "metadata": {
    "ExecuteTime": {
     "end_time": "2021-05-22T04:50:33.183804Z",
     "start_time": "2021-05-22T04:50:32.812527Z"
    }
   },
   "outputs": [],
   "source": [
    "import pandas as pd"
   ]
  },
  {
   "cell_type": "code",
   "execution_count": 3,
   "metadata": {
    "ExecuteTime": {
     "end_time": "2021-05-22T04:50:34.218764Z",
     "start_time": "2021-05-22T04:50:34.213772Z"
    },
    "scrolled": true
   },
   "outputs": [],
   "source": [
    "counties = pd.read_csv('../../data/TableauDataSets/counties.csv')\n",
    "counties = list(counties['merge_county'])\n",
    "# counties"
   ]
  },
  {
   "cell_type": "code",
   "execution_count": 4,
   "metadata": {
    "ExecuteTime": {
     "end_time": "2021-05-22T04:50:39.245694Z",
     "start_time": "2021-05-22T04:50:39.238418Z"
    }
   },
   "outputs": [],
   "source": [
    "dates = pd.read_csv('../../data/TableauDataSets/dates.csv', parse_dates=True, infer_datetime_format=True)\n",
    "# dates\n",
    "dates = list(dates['Dates'])\n",
    "# dates"
   ]
  },
  {
   "cell_type": "code",
   "execution_count": 5,
   "metadata": {
    "ExecuteTime": {
     "end_time": "2021-05-22T04:50:45.645209Z",
     "start_time": "2021-05-22T04:50:44.527754Z"
    }
   },
   "outputs": [],
   "source": [
    "all_combos = []\n",
    "\n",
    "for date in dates:\n",
    "    for county in counties:\n",
    "        all_combos.append([date, county])\n",
    "# all_combos"
   ]
  },
  {
   "cell_type": "code",
   "execution_count": 6,
   "metadata": {
    "ExecuteTime": {
     "end_time": "2021-05-22T04:50:47.404848Z",
     "start_time": "2021-05-22T04:50:47.113007Z"
    }
   },
   "outputs": [],
   "source": [
    "df = pd.DataFrame(all_combos)"
   ]
  },
  {
   "cell_type": "code",
   "execution_count": 7,
   "metadata": {
    "ExecuteTime": {
     "end_time": "2021-05-22T04:50:48.883274Z",
     "start_time": "2021-05-22T04:50:48.875058Z"
    }
   },
   "outputs": [],
   "source": [
    "df['score'] = 0"
   ]
  },
  {
   "cell_type": "code",
   "execution_count": 8,
   "metadata": {
    "ExecuteTime": {
     "end_time": "2021-05-22T04:50:51.843016Z",
     "start_time": "2021-05-22T04:50:51.839670Z"
    }
   },
   "outputs": [],
   "source": [
    "df.rename(columns={0:'date', 1:'county'}, inplace=True)"
   ]
  },
  {
   "cell_type": "code",
   "execution_count": 9,
   "metadata": {
    "ExecuteTime": {
     "end_time": "2021-05-22T04:50:53.484965Z",
     "start_time": "2021-05-22T04:50:53.468977Z"
    }
   },
   "outputs": [
    {
     "data": {
      "text/html": [
       "<div>\n",
       "<style scoped>\n",
       "    .dataframe tbody tr th:only-of-type {\n",
       "        vertical-align: middle;\n",
       "    }\n",
       "\n",
       "    .dataframe tbody tr th {\n",
       "        vertical-align: top;\n",
       "    }\n",
       "\n",
       "    .dataframe thead th {\n",
       "        text-align: right;\n",
       "    }\n",
       "</style>\n",
       "<table border=\"1\" class=\"dataframe\">\n",
       "  <thead>\n",
       "    <tr style=\"text-align: right;\">\n",
       "      <th></th>\n",
       "      <th>date</th>\n",
       "      <th>county</th>\n",
       "      <th>score</th>\n",
       "    </tr>\n",
       "  </thead>\n",
       "  <tbody>\n",
       "    <tr>\n",
       "      <th>0</th>\n",
       "      <td>2010-January-01</td>\n",
       "      <td>Ada County</td>\n",
       "      <td>0</td>\n",
       "    </tr>\n",
       "    <tr>\n",
       "      <th>1</th>\n",
       "      <td>2010-January-01</td>\n",
       "      <td>Adams County</td>\n",
       "      <td>0</td>\n",
       "    </tr>\n",
       "    <tr>\n",
       "      <th>2</th>\n",
       "      <td>2010-January-01</td>\n",
       "      <td>Alameda County</td>\n",
       "      <td>0</td>\n",
       "    </tr>\n",
       "    <tr>\n",
       "      <th>3</th>\n",
       "      <td>2010-January-01</td>\n",
       "      <td>Alpine County</td>\n",
       "      <td>0</td>\n",
       "    </tr>\n",
       "    <tr>\n",
       "      <th>4</th>\n",
       "      <td>2010-January-01</td>\n",
       "      <td>Amador County</td>\n",
       "      <td>0</td>\n",
       "    </tr>\n",
       "    <tr>\n",
       "      <th>...</th>\n",
       "      <td>...</td>\n",
       "      <td>...</td>\n",
       "      <td>...</td>\n",
       "    </tr>\n",
       "    <tr>\n",
       "      <th>1811387</th>\n",
       "      <td>2019-December-31</td>\n",
       "      <td>Yavapai County</td>\n",
       "      <td>0</td>\n",
       "    </tr>\n",
       "    <tr>\n",
       "      <th>1811388</th>\n",
       "      <td>2019-December-31</td>\n",
       "      <td>Yellowstone County</td>\n",
       "      <td>0</td>\n",
       "    </tr>\n",
       "    <tr>\n",
       "      <th>1811389</th>\n",
       "      <td>2019-December-31</td>\n",
       "      <td>Yolo County</td>\n",
       "      <td>0</td>\n",
       "    </tr>\n",
       "    <tr>\n",
       "      <th>1811390</th>\n",
       "      <td>2019-December-31</td>\n",
       "      <td>Yuba County</td>\n",
       "      <td>0</td>\n",
       "    </tr>\n",
       "    <tr>\n",
       "      <th>1811391</th>\n",
       "      <td>2019-December-31</td>\n",
       "      <td>Yuma County</td>\n",
       "      <td>0</td>\n",
       "    </tr>\n",
       "  </tbody>\n",
       "</table>\n",
       "<p>1811392 rows × 3 columns</p>\n",
       "</div>"
      ],
      "text/plain": [
       "                     date              county  score\n",
       "0         2010-January-01          Ada County      0\n",
       "1         2010-January-01        Adams County      0\n",
       "2         2010-January-01      Alameda County      0\n",
       "3         2010-January-01       Alpine County      0\n",
       "4         2010-January-01       Amador County      0\n",
       "...                   ...                 ...    ...\n",
       "1811387  2019-December-31      Yavapai County      0\n",
       "1811388  2019-December-31  Yellowstone County      0\n",
       "1811389  2019-December-31         Yolo County      0\n",
       "1811390  2019-December-31         Yuba County      0\n",
       "1811391  2019-December-31         Yuma County      0\n",
       "\n",
       "[1811392 rows x 3 columns]"
      ]
     },
     "execution_count": 9,
     "metadata": {},
     "output_type": "execute_result"
    }
   ],
   "source": [
    "df"
   ]
  },
  {
   "cell_type": "code",
   "execution_count": 11,
   "metadata": {
    "ExecuteTime": {
     "end_time": "2021-05-18T08:15:14.364183Z",
     "start_time": "2021-05-18T08:15:09.547756Z"
    }
   },
   "outputs": [],
   "source": [
    "df.to_csv('tableau_timemap_base.csv')"
   ]
  }
 ],
 "metadata": {
  "kernelspec": {
   "display_name": "Python 3",
   "language": "python",
   "name": "python3"
  },
  "language_info": {
   "codemirror_mode": {
    "name": "ipython",
    "version": 3
   },
   "file_extension": ".py",
   "mimetype": "text/x-python",
   "name": "python",
   "nbconvert_exporter": "python",
   "pygments_lexer": "ipython3",
   "version": "3.8.5"
  },
  "toc": {
   "base_numbering": 1,
   "nav_menu": {},
   "number_sections": false,
   "sideBar": true,
   "skip_h1_title": false,
   "title_cell": "Table of Contents",
   "title_sidebar": "Contents",
   "toc_cell": false,
   "toc_position": {},
   "toc_section_display": true,
   "toc_window_display": true
  },
  "varInspector": {
   "cols": {
    "lenName": 16,
    "lenType": 16,
    "lenVar": 40
   },
   "kernels_config": {
    "python": {
     "delete_cmd_postfix": "",
     "delete_cmd_prefix": "del ",
     "library": "var_list.py",
     "varRefreshCmd": "print(var_dic_list())"
    },
    "r": {
     "delete_cmd_postfix": ") ",
     "delete_cmd_prefix": "rm(",
     "library": "var_list.r",
     "varRefreshCmd": "cat(var_dic_list()) "
    }
   },
   "types_to_exclude": [
    "module",
    "function",
    "builtin_function_or_method",
    "instance",
    "_Feature"
   ],
   "window_display": false
  }
 },
 "nbformat": 4,
 "nbformat_minor": 4
}
