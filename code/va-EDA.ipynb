{
 "cells": [
  {
   "cell_type": "markdown",
   "metadata": {},
   "source": [
    "# What relationships exists between wildfire emissions and air quality?"
   ]
  },
  {
   "cell_type": "markdown",
   "metadata": {},
   "source": [
    "_This is an EDA notebook. Other notebooks, including for scraping / data acquisition, cleaning, merging and modeling, can be found in the same `/code/` folder._\n",
    "\n",
    "Our team:\n",
    "\n",
    "* Helen Meigs\n",
    "* Veronica Antonova\n",
    "* Riley Robertson"
   ]
  },
  {
   "cell_type": "markdown",
   "metadata": {},
   "source": [
    "Let's start with all the required library imports to read in and analyze our data."
   ]
  },
  {
   "cell_type": "code",
   "execution_count": 1,
   "metadata": {
    "ExecuteTime": {
     "end_time": "2021-05-21T05:53:59.890578Z",
     "start_time": "2021-05-21T05:53:53.355064Z"
    }
   },
   "outputs": [],
   "source": [
    "import pandas as pd, matplotlib.pyplot as plt, seaborn as sns, \\\n",
    "numpy as np"
   ]
  },
  {
   "cell_type": "markdown",
   "metadata": {},
   "source": [
    "We have several major areas requiring analysis:\n",
    "\n",
    "1. Air pollution / quality data\n",
    "2. Fire and smoke data"
   ]
  },
  {
   "cell_type": "markdown",
   "metadata": {},
   "source": [
    "## Terminology"
   ]
  },
  {
   "cell_type": "markdown",
   "metadata": {},
   "source": [
    "* AQI: air quality index; measured from Good (Green) to Hazardous (Purple).\n",
    "\n",
    "* Prescribed fire: abbreviated 'rx'; a planned fire executed by Tribal, Federal, State, and county agencies to meet management objectives. Rx fires are used to benefit natural resource management, get rid of excessive fuel loads before they become a bonafide wildfires, and research.\n",
    "\n",
    "* Wildfire: an uncontrolled burn, originating in wildlands or rural areas (ie not a car burning on a Gotham street corner)\n",
    "\n",
    "* Smoke score: a classification of light, medium, or heavy corresponding to the density of smoke coverage derived from NOAA's Hazard Mapping Systems satellite imaging (<=5%, 16%, and 27%+, respectively)"
   ]
  },
  {
   "cell_type": "markdown",
   "metadata": {},
   "source": [
    "## Pollution"
   ]
  },
  {
   "cell_type": "markdown",
   "metadata": {},
   "source": [
    "Questions to be answered:\n",
    "\n",
    "* Relationship in the max / peak time of the different pollutants\n"
   ]
  },
  {
   "cell_type": "markdown",
   "metadata": {},
   "source": [
    "Let's read in our data."
   ]
  },
  {
   "cell_type": "markdown",
   "metadata": {},
   "source": [
    "* Pollution dataset source: https://www.kaggle.com/sogun3/uspollution\n",
    "* PM2.5 dataset source: Kaggle"
   ]
  },
  {
   "cell_type": "code",
   "execution_count": 2,
   "metadata": {
    "ExecuteTime": {
     "end_time": "2021-05-21T05:54:19.772535Z",
     "start_time": "2021-05-21T05:53:59.896963Z"
    }
   },
   "outputs": [],
   "source": [
    "#syntactic ref from https://towardsdatascience.com/how-to-read-csv-file-using-pandas-ab1f5e7e7b58\n",
    "pollution = pd.read_csv(\n",
    "    '../data/pollution/pollution_us_2000_2016.csv',#, index_col = 'Unnamed:0')\n",
    "usecols=['State Code', 'County Code', 'Site Num', 'Address',\n",
    "       'State', 'County', 'City', 'Date Local', 'NO2 Units', 'NO2 Mean',\n",
    "       'NO2 1st Max Value', 'NO2 1st Max Hour', 'NO2 AQI', 'O3 Units',\n",
    "       'O3 Mean', 'O3 1st Max Value', 'O3 1st Max Hour', 'O3 AQI', 'SO2 Units',\n",
    "       'SO2 Mean', 'SO2 1st Max Value', 'SO2 1st Max Hour', 'SO2 AQI',\n",
    "       'CO Units', 'CO Mean', 'CO 1st Max Value', 'CO 1st Max Hour', 'CO AQI']\n",
    ")"
   ]
  },
  {
   "cell_type": "markdown",
   "metadata": {},
   "source": [
    "### Pollution dataset exploration"
   ]
  },
  {
   "cell_type": "markdown",
   "metadata": {},
   "source": [
    "Let's understand the structure of our files."
   ]
  },
  {
   "cell_type": "code",
   "execution_count": 3,
   "metadata": {
    "ExecuteTime": {
     "end_time": "2021-05-21T05:54:19.999034Z",
     "start_time": "2021-05-21T05:54:19.840413Z"
    },
    "scrolled": true
   },
   "outputs": [
    {
     "data": {
      "text/plain": [
       "Index(['State Code', 'County Code', 'Site Num', 'Address', 'State', 'County',\n",
       "       'City', 'Date Local', 'NO2 Units', 'NO2 Mean', 'NO2 1st Max Value',\n",
       "       'NO2 1st Max Hour', 'NO2 AQI', 'O3 Units', 'O3 Mean',\n",
       "       'O3 1st Max Value', 'O3 1st Max Hour', 'O3 AQI', 'SO2 Units',\n",
       "       'SO2 Mean', 'SO2 1st Max Value', 'SO2 1st Max Hour', 'SO2 AQI',\n",
       "       'CO Units', 'CO Mean', 'CO 1st Max Value', 'CO 1st Max Hour', 'CO AQI'],\n",
       "      dtype='object')"
      ]
     },
     "execution_count": 3,
     "metadata": {},
     "output_type": "execute_result"
    }
   ],
   "source": [
    "pollution.columns"
   ]
  },
  {
   "cell_type": "code",
   "execution_count": 4,
   "metadata": {
    "ExecuteTime": {
     "end_time": "2021-05-21T05:54:20.100232Z",
     "start_time": "2021-05-21T05:54:20.016148Z"
    }
   },
   "outputs": [
    {
     "data": {
      "text/plain": [
       "State Code             int64\n",
       "County Code            int64\n",
       "Site Num               int64\n",
       "Address               object\n",
       "State                 object\n",
       "County                object\n",
       "City                  object\n",
       "Date Local            object\n",
       "NO2 Units             object\n",
       "NO2 Mean             float64\n",
       "NO2 1st Max Value    float64\n",
       "NO2 1st Max Hour       int64\n",
       "NO2 AQI                int64\n",
       "O3 Units              object\n",
       "O3 Mean              float64\n",
       "O3 1st Max Value     float64\n",
       "O3 1st Max Hour        int64\n",
       "O3 AQI                 int64\n",
       "SO2 Units             object\n",
       "SO2 Mean             float64\n",
       "SO2 1st Max Value    float64\n",
       "SO2 1st Max Hour       int64\n",
       "SO2 AQI              float64\n",
       "CO Units              object\n",
       "CO Mean              float64\n",
       "CO 1st Max Value     float64\n",
       "CO 1st Max Hour        int64\n",
       "CO AQI               float64\n",
       "dtype: object"
      ]
     },
     "execution_count": 4,
     "metadata": {},
     "output_type": "execute_result"
    }
   ],
   "source": [
    "pollution.dtypes"
   ]
  },
  {
   "cell_type": "markdown",
   "metadata": {},
   "source": [
    "We have a few columns acting as numeric, when they are not; let's convert them."
   ]
  },
  {
   "cell_type": "code",
   "execution_count": 5,
   "metadata": {
    "ExecuteTime": {
     "end_time": "2021-05-21T05:54:23.984397Z",
     "start_time": "2021-05-21T05:54:20.122484Z"
    }
   },
   "outputs": [],
   "source": [
    "#from docstring: df.astype({'col1': 'int32'}).dtypes\n",
    "pollution['State Code'] = pollution.astype(\n",
    "    {'State Code': 'category'}).dtypes"
   ]
  },
  {
   "cell_type": "code",
   "execution_count": 6,
   "metadata": {
    "ExecuteTime": {
     "end_time": "2021-05-21T05:54:25.933778Z",
     "start_time": "2021-05-21T05:54:23.996094Z"
    }
   },
   "outputs": [],
   "source": [
    "pollution['County Code'] = pollution.astype(\n",
    "    {'County Code': 'category'}).dtypes"
   ]
  },
  {
   "cell_type": "code",
   "execution_count": 7,
   "metadata": {
    "ExecuteTime": {
     "end_time": "2021-05-21T05:54:28.058078Z",
     "start_time": "2021-05-21T05:54:25.936662Z"
    }
   },
   "outputs": [],
   "source": [
    "pollution['Site Num'] = pollution.astype(\n",
    "    {'Site Num': 'category'}).dtypes"
   ]
  },
  {
   "cell_type": "code",
   "execution_count": 8,
   "metadata": {
    "ExecuteTime": {
     "end_time": "2021-05-21T05:54:28.110119Z",
     "start_time": "2021-05-21T05:54:28.064463Z"
    }
   },
   "outputs": [
    {
     "data": {
      "text/plain": [
       "State Code            object\n",
       "County Code           object\n",
       "Site Num              object\n",
       "Address               object\n",
       "State                 object\n",
       "County                object\n",
       "City                  object\n",
       "Date Local            object\n",
       "NO2 Units             object\n",
       "NO2 Mean             float64\n",
       "NO2 1st Max Value    float64\n",
       "NO2 1st Max Hour       int64\n",
       "NO2 AQI                int64\n",
       "O3 Units              object\n",
       "O3 Mean              float64\n",
       "O3 1st Max Value     float64\n",
       "O3 1st Max Hour        int64\n",
       "O3 AQI                 int64\n",
       "SO2 Units             object\n",
       "SO2 Mean             float64\n",
       "SO2 1st Max Value    float64\n",
       "SO2 1st Max Hour       int64\n",
       "SO2 AQI              float64\n",
       "CO Units              object\n",
       "CO Mean              float64\n",
       "CO 1st Max Value     float64\n",
       "CO 1st Max Hour        int64\n",
       "CO AQI               float64\n",
       "dtype: object"
      ]
     },
     "execution_count": 8,
     "metadata": {},
     "output_type": "execute_result"
    }
   ],
   "source": [
    "#confirm types now\n",
    "pollution.dtypes"
   ]
  },
  {
   "cell_type": "markdown",
   "metadata": {},
   "source": [
    "How big is our data?"
   ]
  },
  {
   "cell_type": "code",
   "execution_count": 9,
   "metadata": {
    "ExecuteTime": {
     "end_time": "2021-05-21T05:54:28.152086Z",
     "start_time": "2021-05-21T05:54:28.121874Z"
    }
   },
   "outputs": [
    {
     "data": {
      "text/plain": [
       "(1746661, 28)"
      ]
     },
     "execution_count": 9,
     "metadata": {},
     "output_type": "execute_result"
    }
   ],
   "source": [
    "pollution.shape"
   ]
  },
  {
   "cell_type": "code",
   "execution_count": 10,
   "metadata": {
    "ExecuteTime": {
     "end_time": "2021-05-21T05:54:35.122487Z",
     "start_time": "2021-05-21T05:54:28.156465Z"
    }
   },
   "outputs": [],
   "source": [
    "pollution.drop_duplicates(inplace=True)"
   ]
  },
  {
   "cell_type": "markdown",
   "metadata": {},
   "source": [
    "Let's see, what's inside our data."
   ]
  },
  {
   "cell_type": "code",
   "execution_count": 11,
   "metadata": {
    "ExecuteTime": {
     "end_time": "2021-05-21T05:54:35.273751Z",
     "start_time": "2021-05-21T05:54:35.160754Z"
    },
    "scrolled": false
   },
   "outputs": [
    {
     "data": {
      "text/html": [
       "<div>\n",
       "<style scoped>\n",
       "    .dataframe tbody tr th:only-of-type {\n",
       "        vertical-align: middle;\n",
       "    }\n",
       "\n",
       "    .dataframe tbody tr th {\n",
       "        vertical-align: top;\n",
       "    }\n",
       "\n",
       "    .dataframe thead th {\n",
       "        text-align: right;\n",
       "    }\n",
       "</style>\n",
       "<table border=\"1\" class=\"dataframe\">\n",
       "  <thead>\n",
       "    <tr style=\"text-align: right;\">\n",
       "      <th></th>\n",
       "      <th>0</th>\n",
       "      <th>1</th>\n",
       "    </tr>\n",
       "  </thead>\n",
       "  <tbody>\n",
       "    <tr>\n",
       "      <th>State Code</th>\n",
       "      <td>NaN</td>\n",
       "      <td>NaN</td>\n",
       "    </tr>\n",
       "    <tr>\n",
       "      <th>County Code</th>\n",
       "      <td>NaN</td>\n",
       "      <td>NaN</td>\n",
       "    </tr>\n",
       "    <tr>\n",
       "      <th>Site Num</th>\n",
       "      <td>NaN</td>\n",
       "      <td>NaN</td>\n",
       "    </tr>\n",
       "    <tr>\n",
       "      <th>Address</th>\n",
       "      <td>1645 E ROOSEVELT ST-CENTRAL PHOENIX STN</td>\n",
       "      <td>1645 E ROOSEVELT ST-CENTRAL PHOENIX STN</td>\n",
       "    </tr>\n",
       "    <tr>\n",
       "      <th>State</th>\n",
       "      <td>Arizona</td>\n",
       "      <td>Arizona</td>\n",
       "    </tr>\n",
       "    <tr>\n",
       "      <th>County</th>\n",
       "      <td>Maricopa</td>\n",
       "      <td>Maricopa</td>\n",
       "    </tr>\n",
       "    <tr>\n",
       "      <th>City</th>\n",
       "      <td>Phoenix</td>\n",
       "      <td>Phoenix</td>\n",
       "    </tr>\n",
       "    <tr>\n",
       "      <th>Date Local</th>\n",
       "      <td>2000-01-01</td>\n",
       "      <td>2000-01-01</td>\n",
       "    </tr>\n",
       "    <tr>\n",
       "      <th>NO2 Units</th>\n",
       "      <td>Parts per billion</td>\n",
       "      <td>Parts per billion</td>\n",
       "    </tr>\n",
       "    <tr>\n",
       "      <th>NO2 Mean</th>\n",
       "      <td>19.0417</td>\n",
       "      <td>19.0417</td>\n",
       "    </tr>\n",
       "    <tr>\n",
       "      <th>NO2 1st Max Value</th>\n",
       "      <td>49</td>\n",
       "      <td>49</td>\n",
       "    </tr>\n",
       "    <tr>\n",
       "      <th>NO2 1st Max Hour</th>\n",
       "      <td>19</td>\n",
       "      <td>19</td>\n",
       "    </tr>\n",
       "    <tr>\n",
       "      <th>NO2 AQI</th>\n",
       "      <td>46</td>\n",
       "      <td>46</td>\n",
       "    </tr>\n",
       "    <tr>\n",
       "      <th>O3 Units</th>\n",
       "      <td>Parts per million</td>\n",
       "      <td>Parts per million</td>\n",
       "    </tr>\n",
       "    <tr>\n",
       "      <th>O3 Mean</th>\n",
       "      <td>0.0225</td>\n",
       "      <td>0.0225</td>\n",
       "    </tr>\n",
       "    <tr>\n",
       "      <th>O3 1st Max Value</th>\n",
       "      <td>0.04</td>\n",
       "      <td>0.04</td>\n",
       "    </tr>\n",
       "    <tr>\n",
       "      <th>O3 1st Max Hour</th>\n",
       "      <td>10</td>\n",
       "      <td>10</td>\n",
       "    </tr>\n",
       "    <tr>\n",
       "      <th>O3 AQI</th>\n",
       "      <td>34</td>\n",
       "      <td>34</td>\n",
       "    </tr>\n",
       "    <tr>\n",
       "      <th>SO2 Units</th>\n",
       "      <td>Parts per billion</td>\n",
       "      <td>Parts per billion</td>\n",
       "    </tr>\n",
       "    <tr>\n",
       "      <th>SO2 Mean</th>\n",
       "      <td>3</td>\n",
       "      <td>3</td>\n",
       "    </tr>\n",
       "    <tr>\n",
       "      <th>SO2 1st Max Value</th>\n",
       "      <td>9</td>\n",
       "      <td>9</td>\n",
       "    </tr>\n",
       "    <tr>\n",
       "      <th>SO2 1st Max Hour</th>\n",
       "      <td>21</td>\n",
       "      <td>21</td>\n",
       "    </tr>\n",
       "    <tr>\n",
       "      <th>SO2 AQI</th>\n",
       "      <td>13</td>\n",
       "      <td>13</td>\n",
       "    </tr>\n",
       "    <tr>\n",
       "      <th>CO Units</th>\n",
       "      <td>Parts per million</td>\n",
       "      <td>Parts per million</td>\n",
       "    </tr>\n",
       "    <tr>\n",
       "      <th>CO Mean</th>\n",
       "      <td>1.14583</td>\n",
       "      <td>0.878947</td>\n",
       "    </tr>\n",
       "    <tr>\n",
       "      <th>CO 1st Max Value</th>\n",
       "      <td>4.2</td>\n",
       "      <td>2.2</td>\n",
       "    </tr>\n",
       "    <tr>\n",
       "      <th>CO 1st Max Hour</th>\n",
       "      <td>21</td>\n",
       "      <td>23</td>\n",
       "    </tr>\n",
       "    <tr>\n",
       "      <th>CO AQI</th>\n",
       "      <td>NaN</td>\n",
       "      <td>25</td>\n",
       "    </tr>\n",
       "  </tbody>\n",
       "</table>\n",
       "</div>"
      ],
      "text/plain": [
       "                                                         0  \\\n",
       "State Code                                             NaN   \n",
       "County Code                                            NaN   \n",
       "Site Num                                               NaN   \n",
       "Address            1645 E ROOSEVELT ST-CENTRAL PHOENIX STN   \n",
       "State                                              Arizona   \n",
       "County                                            Maricopa   \n",
       "City                                               Phoenix   \n",
       "Date Local                                      2000-01-01   \n",
       "NO2 Units                                Parts per billion   \n",
       "NO2 Mean                                           19.0417   \n",
       "NO2 1st Max Value                                       49   \n",
       "NO2 1st Max Hour                                        19   \n",
       "NO2 AQI                                                 46   \n",
       "O3 Units                                 Parts per million   \n",
       "O3 Mean                                             0.0225   \n",
       "O3 1st Max Value                                      0.04   \n",
       "O3 1st Max Hour                                         10   \n",
       "O3 AQI                                                  34   \n",
       "SO2 Units                                Parts per billion   \n",
       "SO2 Mean                                                 3   \n",
       "SO2 1st Max Value                                        9   \n",
       "SO2 1st Max Hour                                        21   \n",
       "SO2 AQI                                                 13   \n",
       "CO Units                                 Parts per million   \n",
       "CO Mean                                            1.14583   \n",
       "CO 1st Max Value                                       4.2   \n",
       "CO 1st Max Hour                                         21   \n",
       "CO AQI                                                 NaN   \n",
       "\n",
       "                                                         1  \n",
       "State Code                                             NaN  \n",
       "County Code                                            NaN  \n",
       "Site Num                                               NaN  \n",
       "Address            1645 E ROOSEVELT ST-CENTRAL PHOENIX STN  \n",
       "State                                              Arizona  \n",
       "County                                            Maricopa  \n",
       "City                                               Phoenix  \n",
       "Date Local                                      2000-01-01  \n",
       "NO2 Units                                Parts per billion  \n",
       "NO2 Mean                                           19.0417  \n",
       "NO2 1st Max Value                                       49  \n",
       "NO2 1st Max Hour                                        19  \n",
       "NO2 AQI                                                 46  \n",
       "O3 Units                                 Parts per million  \n",
       "O3 Mean                                             0.0225  \n",
       "O3 1st Max Value                                      0.04  \n",
       "O3 1st Max Hour                                         10  \n",
       "O3 AQI                                                  34  \n",
       "SO2 Units                                Parts per billion  \n",
       "SO2 Mean                                                 3  \n",
       "SO2 1st Max Value                                        9  \n",
       "SO2 1st Max Hour                                        21  \n",
       "SO2 AQI                                                 13  \n",
       "CO Units                                 Parts per million  \n",
       "CO Mean                                           0.878947  \n",
       "CO 1st Max Value                                       2.2  \n",
       "CO 1st Max Hour                                         23  \n",
       "CO AQI                                                  25  "
      ]
     },
     "execution_count": 11,
     "metadata": {},
     "output_type": "execute_result"
    }
   ],
   "source": [
    "pollution.head(2).T"
   ]
  },
  {
   "cell_type": "code",
   "execution_count": 12,
   "metadata": {
    "ExecuteTime": {
     "end_time": "2021-05-21T05:54:36.992691Z",
     "start_time": "2021-05-21T05:54:35.276701Z"
    }
   },
   "outputs": [
    {
     "data": {
      "text/html": [
       "<div>\n",
       "<style scoped>\n",
       "    .dataframe tbody tr th:only-of-type {\n",
       "        vertical-align: middle;\n",
       "    }\n",
       "\n",
       "    .dataframe tbody tr th {\n",
       "        vertical-align: top;\n",
       "    }\n",
       "\n",
       "    .dataframe thead th {\n",
       "        text-align: right;\n",
       "    }\n",
       "</style>\n",
       "<table border=\"1\" class=\"dataframe\">\n",
       "  <thead>\n",
       "    <tr style=\"text-align: right;\">\n",
       "      <th></th>\n",
       "      <th>count</th>\n",
       "      <th>mean</th>\n",
       "      <th>std</th>\n",
       "      <th>min</th>\n",
       "      <th>25%</th>\n",
       "      <th>50%</th>\n",
       "      <th>75%</th>\n",
       "      <th>max</th>\n",
       "    </tr>\n",
       "  </thead>\n",
       "  <tbody>\n",
       "    <tr>\n",
       "      <th>NO2 Mean</th>\n",
       "      <td>1741629.0</td>\n",
       "      <td>12.8222</td>\n",
       "      <td>9.5091</td>\n",
       "      <td>-2.0000</td>\n",
       "      <td>5.7500</td>\n",
       "      <td>10.7391</td>\n",
       "      <td>17.7143</td>\n",
       "      <td>139.5417</td>\n",
       "    </tr>\n",
       "    <tr>\n",
       "      <th>NO2 1st Max Value</th>\n",
       "      <td>1741629.0</td>\n",
       "      <td>25.4111</td>\n",
       "      <td>15.9996</td>\n",
       "      <td>-2.0000</td>\n",
       "      <td>13.0000</td>\n",
       "      <td>24.0000</td>\n",
       "      <td>35.6000</td>\n",
       "      <td>267.0000</td>\n",
       "    </tr>\n",
       "    <tr>\n",
       "      <th>NO2 1st Max Hour</th>\n",
       "      <td>1741629.0</td>\n",
       "      <td>11.7281</td>\n",
       "      <td>7.8766</td>\n",
       "      <td>0.0000</td>\n",
       "      <td>5.0000</td>\n",
       "      <td>9.0000</td>\n",
       "      <td>20.0000</td>\n",
       "      <td>23.0000</td>\n",
       "    </tr>\n",
       "    <tr>\n",
       "      <th>NO2 AQI</th>\n",
       "      <td>1741629.0</td>\n",
       "      <td>23.8946</td>\n",
       "      <td>15.1613</td>\n",
       "      <td>0.0000</td>\n",
       "      <td>12.0000</td>\n",
       "      <td>23.0000</td>\n",
       "      <td>33.0000</td>\n",
       "      <td>132.0000</td>\n",
       "    </tr>\n",
       "    <tr>\n",
       "      <th>O3 Mean</th>\n",
       "      <td>1741629.0</td>\n",
       "      <td>0.0261</td>\n",
       "      <td>0.0114</td>\n",
       "      <td>0.0000</td>\n",
       "      <td>0.0179</td>\n",
       "      <td>0.0259</td>\n",
       "      <td>0.0339</td>\n",
       "      <td>0.0951</td>\n",
       "    </tr>\n",
       "    <tr>\n",
       "      <th>O3 1st Max Value</th>\n",
       "      <td>1741629.0</td>\n",
       "      <td>0.0392</td>\n",
       "      <td>0.0153</td>\n",
       "      <td>0.0000</td>\n",
       "      <td>0.0290</td>\n",
       "      <td>0.0380</td>\n",
       "      <td>0.0480</td>\n",
       "      <td>0.1410</td>\n",
       "    </tr>\n",
       "    <tr>\n",
       "      <th>O3 1st Max Hour</th>\n",
       "      <td>1741629.0</td>\n",
       "      <td>10.1679</td>\n",
       "      <td>4.0020</td>\n",
       "      <td>0.0000</td>\n",
       "      <td>9.0000</td>\n",
       "      <td>10.0000</td>\n",
       "      <td>11.0000</td>\n",
       "      <td>23.0000</td>\n",
       "    </tr>\n",
       "    <tr>\n",
       "      <th>O3 AQI</th>\n",
       "      <td>1741629.0</td>\n",
       "      <td>36.0363</td>\n",
       "      <td>19.7428</td>\n",
       "      <td>0.0000</td>\n",
       "      <td>25.0000</td>\n",
       "      <td>33.0000</td>\n",
       "      <td>42.0000</td>\n",
       "      <td>218.0000</td>\n",
       "    </tr>\n",
       "    <tr>\n",
       "      <th>SO2 Mean</th>\n",
       "      <td>1741629.0</td>\n",
       "      <td>1.8722</td>\n",
       "      <td>2.7626</td>\n",
       "      <td>-2.0000</td>\n",
       "      <td>0.2571</td>\n",
       "      <td>0.9875</td>\n",
       "      <td>2.3286</td>\n",
       "      <td>321.6250</td>\n",
       "    </tr>\n",
       "    <tr>\n",
       "      <th>SO2 1st Max Value</th>\n",
       "      <td>1741629.0</td>\n",
       "      <td>4.4963</td>\n",
       "      <td>7.6855</td>\n",
       "      <td>-2.0000</td>\n",
       "      <td>0.9000</td>\n",
       "      <td>2.0000</td>\n",
       "      <td>5.0000</td>\n",
       "      <td>351.0000</td>\n",
       "    </tr>\n",
       "    <tr>\n",
       "      <th>SO2 1st Max Hour</th>\n",
       "      <td>1741629.0</td>\n",
       "      <td>9.6632</td>\n",
       "      <td>6.7293</td>\n",
       "      <td>0.0000</td>\n",
       "      <td>5.0000</td>\n",
       "      <td>8.0000</td>\n",
       "      <td>14.0000</td>\n",
       "      <td>23.0000</td>\n",
       "    </tr>\n",
       "    <tr>\n",
       "      <th>SO2 AQI</th>\n",
       "      <td>871285.0</td>\n",
       "      <td>7.1213</td>\n",
       "      <td>11.9430</td>\n",
       "      <td>0.0000</td>\n",
       "      <td>1.0000</td>\n",
       "      <td>3.0000</td>\n",
       "      <td>9.0000</td>\n",
       "      <td>200.0000</td>\n",
       "    </tr>\n",
       "    <tr>\n",
       "      <th>CO Mean</th>\n",
       "      <td>1741629.0</td>\n",
       "      <td>0.3683</td>\n",
       "      <td>0.3140</td>\n",
       "      <td>-0.4375</td>\n",
       "      <td>0.1833</td>\n",
       "      <td>0.2939</td>\n",
       "      <td>0.4667</td>\n",
       "      <td>7.5083</td>\n",
       "    </tr>\n",
       "    <tr>\n",
       "      <th>CO 1st Max Value</th>\n",
       "      <td>1741629.0</td>\n",
       "      <td>0.6203</td>\n",
       "      <td>0.6439</td>\n",
       "      <td>-0.4000</td>\n",
       "      <td>0.2920</td>\n",
       "      <td>0.4000</td>\n",
       "      <td>0.8000</td>\n",
       "      <td>19.9000</td>\n",
       "    </tr>\n",
       "    <tr>\n",
       "      <th>CO 1st Max Hour</th>\n",
       "      <td>1741629.0</td>\n",
       "      <td>7.8726</td>\n",
       "      <td>7.9777</td>\n",
       "      <td>0.0000</td>\n",
       "      <td>0.0000</td>\n",
       "      <td>6.0000</td>\n",
       "      <td>13.0000</td>\n",
       "      <td>23.0000</td>\n",
       "    </tr>\n",
       "    <tr>\n",
       "      <th>CO AQI</th>\n",
       "      <td>870641.0</td>\n",
       "      <td>5.9959</td>\n",
       "      <td>5.8454</td>\n",
       "      <td>0.0000</td>\n",
       "      <td>2.0000</td>\n",
       "      <td>5.0000</td>\n",
       "      <td>8.0000</td>\n",
       "      <td>201.0000</td>\n",
       "    </tr>\n",
       "  </tbody>\n",
       "</table>\n",
       "</div>"
      ],
      "text/plain": [
       "                       count     mean      std     min      25%      50%  \\\n",
       "NO2 Mean           1741629.0  12.8222   9.5091 -2.0000   5.7500  10.7391   \n",
       "NO2 1st Max Value  1741629.0  25.4111  15.9996 -2.0000  13.0000  24.0000   \n",
       "NO2 1st Max Hour   1741629.0  11.7281   7.8766  0.0000   5.0000   9.0000   \n",
       "NO2 AQI            1741629.0  23.8946  15.1613  0.0000  12.0000  23.0000   \n",
       "O3 Mean            1741629.0   0.0261   0.0114  0.0000   0.0179   0.0259   \n",
       "O3 1st Max Value   1741629.0   0.0392   0.0153  0.0000   0.0290   0.0380   \n",
       "O3 1st Max Hour    1741629.0  10.1679   4.0020  0.0000   9.0000  10.0000   \n",
       "O3 AQI             1741629.0  36.0363  19.7428  0.0000  25.0000  33.0000   \n",
       "SO2 Mean           1741629.0   1.8722   2.7626 -2.0000   0.2571   0.9875   \n",
       "SO2 1st Max Value  1741629.0   4.4963   7.6855 -2.0000   0.9000   2.0000   \n",
       "SO2 1st Max Hour   1741629.0   9.6632   6.7293  0.0000   5.0000   8.0000   \n",
       "SO2 AQI             871285.0   7.1213  11.9430  0.0000   1.0000   3.0000   \n",
       "CO Mean            1741629.0   0.3683   0.3140 -0.4375   0.1833   0.2939   \n",
       "CO 1st Max Value   1741629.0   0.6203   0.6439 -0.4000   0.2920   0.4000   \n",
       "CO 1st Max Hour    1741629.0   7.8726   7.9777  0.0000   0.0000   6.0000   \n",
       "CO AQI              870641.0   5.9959   5.8454  0.0000   2.0000   5.0000   \n",
       "\n",
       "                       75%       max  \n",
       "NO2 Mean           17.7143  139.5417  \n",
       "NO2 1st Max Value  35.6000  267.0000  \n",
       "NO2 1st Max Hour   20.0000   23.0000  \n",
       "NO2 AQI            33.0000  132.0000  \n",
       "O3 Mean             0.0339    0.0951  \n",
       "O3 1st Max Value    0.0480    0.1410  \n",
       "O3 1st Max Hour    11.0000   23.0000  \n",
       "O3 AQI             42.0000  218.0000  \n",
       "SO2 Mean            2.3286  321.6250  \n",
       "SO2 1st Max Value   5.0000  351.0000  \n",
       "SO2 1st Max Hour   14.0000   23.0000  \n",
       "SO2 AQI             9.0000  200.0000  \n",
       "CO Mean             0.4667    7.5083  \n",
       "CO 1st Max Value    0.8000   19.9000  \n",
       "CO 1st Max Hour    13.0000   23.0000  \n",
       "CO AQI              8.0000  201.0000  "
      ]
     },
     "execution_count": 12,
     "metadata": {},
     "output_type": "execute_result"
    }
   ],
   "source": [
    "pollution.describe().T.round(4)"
   ]
  },
  {
   "cell_type": "markdown",
   "metadata": {},
   "source": [
    "Which states have the most emissions?"
   ]
  },
  {
   "cell_type": "code",
   "execution_count": 13,
   "metadata": {
    "ExecuteTime": {
     "end_time": "2021-05-21T05:54:37.534029Z",
     "start_time": "2021-05-21T05:54:37.002552Z"
    }
   },
   "outputs": [
    {
     "data": {
      "text/plain": [
       "California              575628\n",
       "Pennsylvania            188764\n",
       "Texas                   120485\n",
       "New York                 70487\n",
       "Arizona                  69840\n",
       "Illinois                 50112\n",
       "North Carolina           37062\n",
       "Virginia                 36422\n",
       "Colorado                 35124\n",
       "Arkansas                 35117\n",
       "Oklahoma                 34420\n",
       "Kansas                   31480\n",
       "Connecticut              29933\n",
       "New Jersey               26668\n",
       "Florida                  25902\n",
       "District Of Columbia     25696\n",
       "Iowa                     25270\n",
       "Louisiana                23874\n",
       "Maine                    23623\n",
       "Maryland                 23538\n",
       "Ohio                     22882\n",
       "Massachusetts            21020\n",
       "Hawaii                   20274\n",
       "Missouri                 19778\n",
       "Kentucky                 14678\n",
       "Indiana                  13926\n",
       "Wyoming                  13048\n",
       "Oregon                   11794\n",
       "North Dakota             11018\n",
       "Nevada                    9678\n",
       "Country Of Mexico         9506\n",
       "New Hampshire             9294\n",
       "Utah                      8660\n",
       "South Dakota              8308\n",
       "Michigan                  8182\n",
       "Georgia                   7722\n",
       "New Mexico                7130\n",
       "South Carolina            6532\n",
       "Rhode Island              6324\n",
       "Tennessee                 5842\n",
       "Delaware                  3630\n",
       "Minnesota                 3552\n",
       "Alabama                   3126\n",
       "Alaska                    1974\n",
       "Idaho                     1828\n",
       "Wisconsin                 1516\n",
       "Washington                 962\n",
       "Name: State, dtype: int64"
      ]
     },
     "execution_count": 13,
     "metadata": {},
     "output_type": "execute_result"
    }
   ],
   "source": [
    "pollution['State'].value_counts()"
   ]
  },
  {
   "cell_type": "markdown",
   "metadata": {},
   "source": [
    "Most of our emissions are found in the following:\n",
    "\n",
    "California              \n",
    "Pennsylvania            \n",
    "Texas                   \n",
    "New York                 \n",
    "Arizona\n",
    "\n",
    "However, for purposes, we are going to concentrate on states west of the Rocky mountains."
   ]
  },
  {
   "cell_type": "markdown",
   "metadata": {},
   "source": [
    "State lines are superficial for purposes of understanding movement of fires. So the idea here is that the Rockies provide a better 'line' for us to make a cutoff, since they really do break airflow, and there will be drastically different air-quality and pollution-scapes to the east v. west."
   ]
  },
  {
   "cell_type": "markdown",
   "metadata": {},
   "source": [
    "### Particulate matter dataset"
   ]
  },
  {
   "cell_type": "markdown",
   "metadata": {},
   "source": [
    "We will repeat the initial file review steps for the PM dataset as well."
   ]
  },
  {
   "cell_type": "code",
   "execution_count": 14,
   "metadata": {
    "ExecuteTime": {
     "end_time": "2021-05-21T05:54:41.435643Z",
     "start_time": "2021-05-21T05:54:37.544373Z"
    }
   },
   "outputs": [],
   "source": [
    "#pull in file\n",
    "pm = pd.read_csv('../data/pollution/pm2.5_epa_2010_2017.csv')"
   ]
  },
  {
   "cell_type": "code",
   "execution_count": 15,
   "metadata": {
    "ExecuteTime": {
     "end_time": "2021-05-21T05:54:41.542077Z",
     "start_time": "2021-05-21T05:54:41.452562Z"
    },
    "scrolled": true
   },
   "outputs": [
    {
     "data": {
      "text/html": [
       "<div>\n",
       "<style scoped>\n",
       "    .dataframe tbody tr th:only-of-type {\n",
       "        vertical-align: middle;\n",
       "    }\n",
       "\n",
       "    .dataframe tbody tr th {\n",
       "        vertical-align: top;\n",
       "    }\n",
       "\n",
       "    .dataframe thead th {\n",
       "        text-align: right;\n",
       "    }\n",
       "</style>\n",
       "<table border=\"1\" class=\"dataframe\">\n",
       "  <thead>\n",
       "    <tr style=\"text-align: right;\">\n",
       "      <th></th>\n",
       "      <th>state_code</th>\n",
       "      <th>county_code</th>\n",
       "      <th>site_num</th>\n",
       "      <th>parameter_code</th>\n",
       "      <th>poc</th>\n",
       "      <th>latitude</th>\n",
       "      <th>longitude</th>\n",
       "      <th>datum</th>\n",
       "      <th>parameter_name</th>\n",
       "      <th>sample_duration</th>\n",
       "      <th>...</th>\n",
       "      <th>aqi</th>\n",
       "      <th>method_code</th>\n",
       "      <th>method_name</th>\n",
       "      <th>local_site_name</th>\n",
       "      <th>address</th>\n",
       "      <th>state_name</th>\n",
       "      <th>county_name</th>\n",
       "      <th>city_name</th>\n",
       "      <th>cbsa_name</th>\n",
       "      <th>date_of_last_change</th>\n",
       "    </tr>\n",
       "  </thead>\n",
       "  <tbody>\n",
       "    <tr>\n",
       "      <th>0</th>\n",
       "      <td>6</td>\n",
       "      <td>83</td>\n",
       "      <td>9000</td>\n",
       "      <td>88128</td>\n",
       "      <td>1</td>\n",
       "      <td>34.733889</td>\n",
       "      <td>-120.008349</td>\n",
       "      <td>WGS84</td>\n",
       "      <td>Lead PM2.5 LC</td>\n",
       "      <td>24 HOUR</td>\n",
       "      <td>...</td>\n",
       "      <td>NaN</td>\n",
       "      <td>800</td>\n",
       "      <td>IMPROVE Module A with Cyclone Inlet-Teflon Fil...</td>\n",
       "      <td>San Rafael Wilderness</td>\n",
       "      <td>San Rafael</td>\n",
       "      <td>California</td>\n",
       "      <td>Santa Barbara</td>\n",
       "      <td>Not in a city</td>\n",
       "      <td>Santa Maria-Santa Barbara CA</td>\n",
       "      <td>2016-08-30</td>\n",
       "    </tr>\n",
       "    <tr>\n",
       "      <th>1</th>\n",
       "      <td>49</td>\n",
       "      <td>17</td>\n",
       "      <td>101</td>\n",
       "      <td>88132</td>\n",
       "      <td>1</td>\n",
       "      <td>37.618383</td>\n",
       "      <td>-112.174368</td>\n",
       "      <td>WGS84</td>\n",
       "      <td>Manganese PM2.5 LC</td>\n",
       "      <td>24 HOUR</td>\n",
       "      <td>...</td>\n",
       "      <td>NaN</td>\n",
       "      <td>800</td>\n",
       "      <td>IMPROVE Module A with Cyclone Inlet-Teflon Fil...</td>\n",
       "      <td>NaN</td>\n",
       "      <td>Bryce Canyon NP</td>\n",
       "      <td>Utah</td>\n",
       "      <td>Garfield</td>\n",
       "      <td>Not in a city</td>\n",
       "      <td>NaN</td>\n",
       "      <td>2015-07-28</td>\n",
       "    </tr>\n",
       "    <tr>\n",
       "      <th>2</th>\n",
       "      <td>16</td>\n",
       "      <td>23</td>\n",
       "      <td>101</td>\n",
       "      <td>88136</td>\n",
       "      <td>1</td>\n",
       "      <td>43.460556</td>\n",
       "      <td>-113.562222</td>\n",
       "      <td>WGS84</td>\n",
       "      <td>Nickel PM2.5 LC</td>\n",
       "      <td>24 HOUR</td>\n",
       "      <td>...</td>\n",
       "      <td>NaN</td>\n",
       "      <td>800</td>\n",
       "      <td>IMPROVE Module A with Cyclone Inlet-Teflon Fil...</td>\n",
       "      <td>Craters of the Moon National Monument Visitor ...</td>\n",
       "      <td>CRATERS OF THE MOON NATIONAL MON IDAHO</td>\n",
       "      <td>Idaho</td>\n",
       "      <td>Butte</td>\n",
       "      <td>Not in a city</td>\n",
       "      <td>Idaho Falls ID</td>\n",
       "      <td>2015-07-31</td>\n",
       "    </tr>\n",
       "  </tbody>\n",
       "</table>\n",
       "<p>3 rows × 29 columns</p>\n",
       "</div>"
      ],
      "text/plain": [
       "   state_code  county_code  site_num  parameter_code  poc   latitude  \\\n",
       "0           6           83      9000           88128    1  34.733889   \n",
       "1          49           17       101           88132    1  37.618383   \n",
       "2          16           23       101           88136    1  43.460556   \n",
       "\n",
       "    longitude  datum      parameter_name sample_duration  ...  aqi  \\\n",
       "0 -120.008349  WGS84       Lead PM2.5 LC         24 HOUR  ...  NaN   \n",
       "1 -112.174368  WGS84  Manganese PM2.5 LC         24 HOUR  ...  NaN   \n",
       "2 -113.562222  WGS84     Nickel PM2.5 LC         24 HOUR  ...  NaN   \n",
       "\n",
       "  method_code                                        method_name  \\\n",
       "0         800  IMPROVE Module A with Cyclone Inlet-Teflon Fil...   \n",
       "1         800  IMPROVE Module A with Cyclone Inlet-Teflon Fil...   \n",
       "2         800  IMPROVE Module A with Cyclone Inlet-Teflon Fil...   \n",
       "\n",
       "                                     local_site_name  \\\n",
       "0                              San Rafael Wilderness   \n",
       "1                                                NaN   \n",
       "2  Craters of the Moon National Monument Visitor ...   \n",
       "\n",
       "                                  address  state_name    county_name  \\\n",
       "0                              San Rafael  California  Santa Barbara   \n",
       "1                         Bryce Canyon NP        Utah       Garfield   \n",
       "2  CRATERS OF THE MOON NATIONAL MON IDAHO       Idaho          Butte   \n",
       "\n",
       "       city_name                     cbsa_name  date_of_last_change  \n",
       "0  Not in a city  Santa Maria-Santa Barbara CA           2016-08-30  \n",
       "1  Not in a city                           NaN           2015-07-28  \n",
       "2  Not in a city                Idaho Falls ID           2015-07-31  \n",
       "\n",
       "[3 rows x 29 columns]"
      ]
     },
     "execution_count": 15,
     "metadata": {},
     "output_type": "execute_result"
    }
   ],
   "source": [
    "#peek\n",
    "pm.head(3)"
   ]
  },
  {
   "cell_type": "markdown",
   "metadata": {},
   "source": [
    "_Use [Census coding](https://www2.census.gov/programs-surveys/decennial/2010/partners/pdf/FIPS_StateCounty_Code.pdf) to decipher state and county code data._"
   ]
  },
  {
   "cell_type": "code",
   "execution_count": 16,
   "metadata": {
    "ExecuteTime": {
     "end_time": "2021-05-21T05:54:41.593570Z",
     "start_time": "2021-05-21T05:54:41.584621Z"
    }
   },
   "outputs": [
    {
     "data": {
      "text/plain": [
       "(338926, 29)"
      ]
     },
     "execution_count": 16,
     "metadata": {},
     "output_type": "execute_result"
    }
   ],
   "source": [
    "#shape\n",
    "pm.shape"
   ]
  },
  {
   "cell_type": "code",
   "execution_count": 17,
   "metadata": {
    "ExecuteTime": {
     "end_time": "2021-05-21T05:54:43.208658Z",
     "start_time": "2021-05-21T05:54:41.599507Z"
    }
   },
   "outputs": [],
   "source": [
    "pm.drop_duplicates(inplace=True)"
   ]
  },
  {
   "cell_type": "code",
   "execution_count": 18,
   "metadata": {
    "ExecuteTime": {
     "end_time": "2021-05-21T05:54:43.235504Z",
     "start_time": "2021-05-21T05:54:43.217368Z"
    },
    "scrolled": true
   },
   "outputs": [
    {
     "data": {
      "text/plain": [
       "state_code               int64\n",
       "county_code              int64\n",
       "site_num                 int64\n",
       "parameter_code           int64\n",
       "poc                      int64\n",
       "latitude               float64\n",
       "longitude              float64\n",
       "datum                   object\n",
       "parameter_name          object\n",
       "sample_duration         object\n",
       "pollutant_standard     float64\n",
       "date_local              object\n",
       "units_of_measure        object\n",
       "event_type              object\n",
       "observation_count        int64\n",
       "observation_percent    float64\n",
       "arithmetic_mean        float64\n",
       "first_max_value        float64\n",
       "first_max_hour           int64\n",
       "aqi                    float64\n",
       "method_code              int64\n",
       "method_name             object\n",
       "local_site_name         object\n",
       "address                 object\n",
       "state_name              object\n",
       "county_name             object\n",
       "city_name               object\n",
       "cbsa_name               object\n",
       "date_of_last_change     object\n",
       "dtype: object"
      ]
     },
     "execution_count": 18,
     "metadata": {},
     "output_type": "execute_result"
    }
   ],
   "source": [
    "#dtypes\n",
    "pm.dtypes"
   ]
  },
  {
   "cell_type": "code",
   "execution_count": 19,
   "metadata": {
    "ExecuteTime": {
     "end_time": "2021-05-21T05:54:44.000613Z",
     "start_time": "2021-05-21T05:54:43.240970Z"
    }
   },
   "outputs": [],
   "source": [
    "#conversions\n",
    "pm['state_code'] = pm.astype(\n",
    "    {'state_code': 'category'}).dtypes"
   ]
  },
  {
   "cell_type": "code",
   "execution_count": 20,
   "metadata": {
    "ExecuteTime": {
     "end_time": "2021-05-21T05:54:44.509740Z",
     "start_time": "2021-05-21T05:54:44.006255Z"
    }
   },
   "outputs": [],
   "source": [
    "pm['county_code'] = pm.astype(\n",
    "    {'county_code': 'category'}).dtypes"
   ]
  },
  {
   "cell_type": "code",
   "execution_count": 21,
   "metadata": {
    "ExecuteTime": {
     "end_time": "2021-05-21T05:54:45.183391Z",
     "start_time": "2021-05-21T05:54:44.516878Z"
    }
   },
   "outputs": [],
   "source": [
    "pm['site_num'] = pm.astype(\n",
    "    {'site_num': 'category'}).dtypes"
   ]
  },
  {
   "cell_type": "code",
   "execution_count": 22,
   "metadata": {
    "ExecuteTime": {
     "end_time": "2021-05-21T05:54:45.834866Z",
     "start_time": "2021-05-21T05:54:45.188433Z"
    }
   },
   "outputs": [],
   "source": [
    "pm['parameter_code'] = pm.astype(\n",
    "    {'parameter_code': 'category'}).dtypes"
   ]
  },
  {
   "cell_type": "code",
   "execution_count": 23,
   "metadata": {
    "ExecuteTime": {
     "end_time": "2021-05-21T05:54:46.345210Z",
     "start_time": "2021-05-21T05:54:45.851357Z"
    }
   },
   "outputs": [],
   "source": [
    "pm['poc'] = pm.astype(\n",
    "    {'poc': 'category'}).dtypes"
   ]
  },
  {
   "cell_type": "code",
   "execution_count": 24,
   "metadata": {
    "ExecuteTime": {
     "end_time": "2021-05-21T05:54:46.376361Z",
     "start_time": "2021-05-21T05:54:46.355387Z"
    }
   },
   "outputs": [
    {
     "data": {
      "text/plain": [
       "state_code              object\n",
       "county_code             object\n",
       "site_num                object\n",
       "parameter_code          object\n",
       "poc                     object\n",
       "latitude               float64\n",
       "longitude              float64\n",
       "datum                   object\n",
       "parameter_name          object\n",
       "sample_duration         object\n",
       "pollutant_standard     float64\n",
       "date_local              object\n",
       "units_of_measure        object\n",
       "event_type              object\n",
       "observation_count        int64\n",
       "observation_percent    float64\n",
       "arithmetic_mean        float64\n",
       "first_max_value        float64\n",
       "first_max_hour           int64\n",
       "aqi                    float64\n",
       "method_code              int64\n",
       "method_name             object\n",
       "local_site_name         object\n",
       "address                 object\n",
       "state_name              object\n",
       "county_name             object\n",
       "city_name               object\n",
       "cbsa_name               object\n",
       "date_of_last_change     object\n",
       "dtype: object"
      ]
     },
     "execution_count": 24,
     "metadata": {},
     "output_type": "execute_result"
    }
   ],
   "source": [
    "#confirm types\n",
    "pm.dtypes"
   ]
  },
  {
   "cell_type": "code",
   "execution_count": 25,
   "metadata": {
    "ExecuteTime": {
     "end_time": "2021-05-21T05:54:46.912621Z",
     "start_time": "2021-05-21T05:54:46.386244Z"
    }
   },
   "outputs": [
    {
     "data": {
      "text/html": [
       "<div>\n",
       "<style scoped>\n",
       "    .dataframe tbody tr th:only-of-type {\n",
       "        vertical-align: middle;\n",
       "    }\n",
       "\n",
       "    .dataframe tbody tr th {\n",
       "        vertical-align: top;\n",
       "    }\n",
       "\n",
       "    .dataframe thead th {\n",
       "        text-align: right;\n",
       "    }\n",
       "</style>\n",
       "<table border=\"1\" class=\"dataframe\">\n",
       "  <thead>\n",
       "    <tr style=\"text-align: right;\">\n",
       "      <th></th>\n",
       "      <th>count</th>\n",
       "      <th>mean</th>\n",
       "      <th>std</th>\n",
       "      <th>min</th>\n",
       "      <th>25%</th>\n",
       "      <th>50%</th>\n",
       "      <th>75%</th>\n",
       "      <th>max</th>\n",
       "    </tr>\n",
       "  </thead>\n",
       "  <tbody>\n",
       "    <tr>\n",
       "      <th>latitude</th>\n",
       "      <td>338926.0</td>\n",
       "      <td>38.8288</td>\n",
       "      <td>5.0309</td>\n",
       "      <td>31.3374</td>\n",
       "      <td>34.1939</td>\n",
       "      <td>37.6875</td>\n",
       "      <td>42.9099</td>\n",
       "      <td>48.7314</td>\n",
       "    </tr>\n",
       "    <tr>\n",
       "      <th>longitude</th>\n",
       "      <td>338926.0</td>\n",
       "      <td>-117.5479</td>\n",
       "      <td>4.3689</td>\n",
       "      <td>-124.6249</td>\n",
       "      <td>-121.4271</td>\n",
       "      <td>-118.8248</td>\n",
       "      <td>-112.8010</td>\n",
       "      <td>-109.3891</td>\n",
       "    </tr>\n",
       "    <tr>\n",
       "      <th>pollutant_standard</th>\n",
       "      <td>0.0</td>\n",
       "      <td>NaN</td>\n",
       "      <td>NaN</td>\n",
       "      <td>NaN</td>\n",
       "      <td>NaN</td>\n",
       "      <td>NaN</td>\n",
       "      <td>NaN</td>\n",
       "      <td>NaN</td>\n",
       "    </tr>\n",
       "    <tr>\n",
       "      <th>observation_count</th>\n",
       "      <td>338926.0</td>\n",
       "      <td>1.0000</td>\n",
       "      <td>0.0000</td>\n",
       "      <td>1.0000</td>\n",
       "      <td>1.0000</td>\n",
       "      <td>1.0000</td>\n",
       "      <td>1.0000</td>\n",
       "      <td>1.0000</td>\n",
       "    </tr>\n",
       "    <tr>\n",
       "      <th>observation_percent</th>\n",
       "      <td>338926.0</td>\n",
       "      <td>100.0000</td>\n",
       "      <td>0.0000</td>\n",
       "      <td>100.0000</td>\n",
       "      <td>100.0000</td>\n",
       "      <td>100.0000</td>\n",
       "      <td>100.0000</td>\n",
       "      <td>100.0000</td>\n",
       "    </tr>\n",
       "    <tr>\n",
       "      <th>arithmetic_mean</th>\n",
       "      <td>338926.0</td>\n",
       "      <td>0.0009</td>\n",
       "      <td>0.0107</td>\n",
       "      <td>-0.0140</td>\n",
       "      <td>0.0000</td>\n",
       "      <td>0.0000</td>\n",
       "      <td>0.0010</td>\n",
       "      <td>5.0000</td>\n",
       "    </tr>\n",
       "    <tr>\n",
       "      <th>first_max_value</th>\n",
       "      <td>338926.0</td>\n",
       "      <td>0.0009</td>\n",
       "      <td>0.0107</td>\n",
       "      <td>-0.0140</td>\n",
       "      <td>0.0000</td>\n",
       "      <td>0.0000</td>\n",
       "      <td>0.0010</td>\n",
       "      <td>5.0000</td>\n",
       "    </tr>\n",
       "    <tr>\n",
       "      <th>first_max_hour</th>\n",
       "      <td>338926.0</td>\n",
       "      <td>0.0004</td>\n",
       "      <td>0.0714</td>\n",
       "      <td>0.0000</td>\n",
       "      <td>0.0000</td>\n",
       "      <td>0.0000</td>\n",
       "      <td>0.0000</td>\n",
       "      <td>12.0000</td>\n",
       "    </tr>\n",
       "    <tr>\n",
       "      <th>aqi</th>\n",
       "      <td>0.0</td>\n",
       "      <td>NaN</td>\n",
       "      <td>NaN</td>\n",
       "      <td>NaN</td>\n",
       "      <td>NaN</td>\n",
       "      <td>NaN</td>\n",
       "      <td>NaN</td>\n",
       "      <td>NaN</td>\n",
       "    </tr>\n",
       "    <tr>\n",
       "      <th>method_code</th>\n",
       "      <td>338926.0</td>\n",
       "      <td>803.9735</td>\n",
       "      <td>6.1617</td>\n",
       "      <td>800.0000</td>\n",
       "      <td>800.0000</td>\n",
       "      <td>800.0000</td>\n",
       "      <td>811.0000</td>\n",
       "      <td>884.0000</td>\n",
       "    </tr>\n",
       "  </tbody>\n",
       "</table>\n",
       "</div>"
      ],
      "text/plain": [
       "                        count      mean     std       min       25%       50%  \\\n",
       "latitude             338926.0   38.8288  5.0309   31.3374   34.1939   37.6875   \n",
       "longitude            338926.0 -117.5479  4.3689 -124.6249 -121.4271 -118.8248   \n",
       "pollutant_standard        0.0       NaN     NaN       NaN       NaN       NaN   \n",
       "observation_count    338926.0    1.0000  0.0000    1.0000    1.0000    1.0000   \n",
       "observation_percent  338926.0  100.0000  0.0000  100.0000  100.0000  100.0000   \n",
       "arithmetic_mean      338926.0    0.0009  0.0107   -0.0140    0.0000    0.0000   \n",
       "first_max_value      338926.0    0.0009  0.0107   -0.0140    0.0000    0.0000   \n",
       "first_max_hour       338926.0    0.0004  0.0714    0.0000    0.0000    0.0000   \n",
       "aqi                       0.0       NaN     NaN       NaN       NaN       NaN   \n",
       "method_code          338926.0  803.9735  6.1617  800.0000  800.0000  800.0000   \n",
       "\n",
       "                          75%       max  \n",
       "latitude              42.9099   48.7314  \n",
       "longitude           -112.8010 -109.3891  \n",
       "pollutant_standard        NaN       NaN  \n",
       "observation_count      1.0000    1.0000  \n",
       "observation_percent  100.0000  100.0000  \n",
       "arithmetic_mean        0.0010    5.0000  \n",
       "first_max_value        0.0010    5.0000  \n",
       "first_max_hour         0.0000   12.0000  \n",
       "aqi                       NaN       NaN  \n",
       "method_code          811.0000  884.0000  "
      ]
     },
     "execution_count": 25,
     "metadata": {},
     "output_type": "execute_result"
    }
   ],
   "source": [
    "#desc stats\n",
    "pm.describe().T.round(4)"
   ]
  },
  {
   "cell_type": "markdown",
   "metadata": {},
   "source": [
    "_We abandoned looking at invidivual pollutants at this stage._"
   ]
  },
  {
   "cell_type": "markdown",
   "metadata": {},
   "source": [
    "## Fire and smoke"
   ]
  },
  {
   "cell_type": "markdown",
   "metadata": {},
   "source": [
    "Questions to be answered:\n",
    "\n",
    "* Number of prescribed fires vs. wildfires per state, per year --> trends over years?  trends change over years in a certain state?  does more prescribed burns necessarily equal fewer wildfires?\n",
    "\n",
    "* similar to above, but # acres instead of count\n",
    "\n",
    "* map counties with the worst smoke_score (most days of smoke_score=3) -- same counties hit every year?  or totally random?\n",
    "\n",
    "* Looking at similiar-size fires and their impacts throughout time"
   ]
  },
  {
   "cell_type": "markdown",
   "metadata": {},
   "source": [
    "Note on data: data may include international locations."
   ]
  },
  {
   "cell_type": "markdown",
   "metadata": {},
   "source": [
    "Data source: fire resarch contact, Cristobal Martinez, cpaismz@berkeley.edu."
   ]
  },
  {
   "cell_type": "markdown",
   "metadata": {},
   "source": [
    "_Additional information about some of the calculations around fire perimeters can be found at this [source](https://frap.fire.ca.gov/frap-projects/fire-perimeters/)._"
   ]
  },
  {
   "cell_type": "code",
   "execution_count": 28,
   "metadata": {
    "ExecuteTime": {
     "end_time": "2021-05-21T05:54:47.374562Z",
     "start_time": "2021-05-21T05:54:46.938419Z"
    }
   },
   "outputs": [],
   "source": [
    "#pull in data\n",
    "smoke = pd.read_csv(\n",
    "    '../data/fire/MTBS_merge_smoke_inProgress.csv')"
   ]
  },
  {
   "cell_type": "code",
   "execution_count": 29,
   "metadata": {
    "ExecuteTime": {
     "end_time": "2021-05-21T05:54:48.003848Z",
     "start_time": "2021-05-21T05:54:47.377760Z"
    }
   },
   "outputs": [],
   "source": [
    "also_smoke = pd.read_csv('../data/model_data.csv')"
   ]
  },
  {
   "cell_type": "code",
   "execution_count": 30,
   "metadata": {
    "ExecuteTime": {
     "end_time": "2021-05-21T05:54:48.125592Z",
     "start_time": "2021-05-21T05:54:48.006127Z"
    }
   },
   "outputs": [
    {
     "data": {
      "text/html": [
       "<div>\n",
       "<style scoped>\n",
       "    .dataframe tbody tr th:only-of-type {\n",
       "        vertical-align: middle;\n",
       "    }\n",
       "\n",
       "    .dataframe tbody tr th {\n",
       "        vertical-align: top;\n",
       "    }\n",
       "\n",
       "    .dataframe thead th {\n",
       "        text-align: right;\n",
       "    }\n",
       "</style>\n",
       "<table border=\"1\" class=\"dataframe\">\n",
       "  <thead>\n",
       "    <tr style=\"text-align: right;\">\n",
       "      <th></th>\n",
       "      <th>state</th>\n",
       "      <th>county_name</th>\n",
       "      <th>date</th>\n",
       "      <th>smoke_score</th>\n",
       "      <th>lat_smo</th>\n",
       "      <th>lon_smo</th>\n",
       "      <th>event_id</th>\n",
       "      <th>incid_name</th>\n",
       "      <th>incid_type</th>\n",
       "      <th>asmnt_type</th>\n",
       "      <th>...</th>\n",
       "      <th>burnbndlon</th>\n",
       "      <th>nodata_t</th>\n",
       "      <th>incgreen_t</th>\n",
       "      <th>low_t</th>\n",
       "      <th>mod_t</th>\n",
       "      <th>high_t</th>\n",
       "      <th>lon_wf</th>\n",
       "      <th>lat_wf</th>\n",
       "      <th>reverse_geocode</th>\n",
       "      <th>state_full</th>\n",
       "    </tr>\n",
       "  </thead>\n",
       "  <tbody>\n",
       "    <tr>\n",
       "      <th>0</th>\n",
       "      <td>AZ</td>\n",
       "      <td>Gila County</td>\n",
       "      <td>20100604</td>\n",
       "      <td>1.0</td>\n",
       "      <td>33.799665</td>\n",
       "      <td>-110.811659</td>\n",
       "      <td>NaN</td>\n",
       "      <td>NaN</td>\n",
       "      <td>NaN</td>\n",
       "      <td>NaN</td>\n",
       "      <td>...</td>\n",
       "      <td>NaN</td>\n",
       "      <td>NaN</td>\n",
       "      <td>NaN</td>\n",
       "      <td>NaN</td>\n",
       "      <td>NaN</td>\n",
       "      <td>NaN</td>\n",
       "      <td>NaN</td>\n",
       "      <td>NaN</td>\n",
       "      <td>NaN</td>\n",
       "      <td>NaN</td>\n",
       "    </tr>\n",
       "    <tr>\n",
       "      <th>1</th>\n",
       "      <td>AZ</td>\n",
       "      <td>Gila County</td>\n",
       "      <td>20100606</td>\n",
       "      <td>1.0</td>\n",
       "      <td>33.799665</td>\n",
       "      <td>-110.811659</td>\n",
       "      <td>NaN</td>\n",
       "      <td>NaN</td>\n",
       "      <td>NaN</td>\n",
       "      <td>NaN</td>\n",
       "      <td>...</td>\n",
       "      <td>NaN</td>\n",
       "      <td>NaN</td>\n",
       "      <td>NaN</td>\n",
       "      <td>NaN</td>\n",
       "      <td>NaN</td>\n",
       "      <td>NaN</td>\n",
       "      <td>NaN</td>\n",
       "      <td>NaN</td>\n",
       "      <td>NaN</td>\n",
       "      <td>NaN</td>\n",
       "    </tr>\n",
       "    <tr>\n",
       "      <th>2</th>\n",
       "      <td>AZ</td>\n",
       "      <td>Gila County</td>\n",
       "      <td>20100624</td>\n",
       "      <td>1.0</td>\n",
       "      <td>33.799665</td>\n",
       "      <td>-110.811659</td>\n",
       "      <td>NaN</td>\n",
       "      <td>NaN</td>\n",
       "      <td>NaN</td>\n",
       "      <td>NaN</td>\n",
       "      <td>...</td>\n",
       "      <td>NaN</td>\n",
       "      <td>NaN</td>\n",
       "      <td>NaN</td>\n",
       "      <td>NaN</td>\n",
       "      <td>NaN</td>\n",
       "      <td>NaN</td>\n",
       "      <td>NaN</td>\n",
       "      <td>NaN</td>\n",
       "      <td>NaN</td>\n",
       "      <td>NaN</td>\n",
       "    </tr>\n",
       "    <tr>\n",
       "      <th>3</th>\n",
       "      <td>AZ</td>\n",
       "      <td>Gila County</td>\n",
       "      <td>20100627</td>\n",
       "      <td>1.0</td>\n",
       "      <td>33.799665</td>\n",
       "      <td>-110.811659</td>\n",
       "      <td>NaN</td>\n",
       "      <td>NaN</td>\n",
       "      <td>NaN</td>\n",
       "      <td>NaN</td>\n",
       "      <td>...</td>\n",
       "      <td>NaN</td>\n",
       "      <td>NaN</td>\n",
       "      <td>NaN</td>\n",
       "      <td>NaN</td>\n",
       "      <td>NaN</td>\n",
       "      <td>NaN</td>\n",
       "      <td>NaN</td>\n",
       "      <td>NaN</td>\n",
       "      <td>NaN</td>\n",
       "      <td>NaN</td>\n",
       "    </tr>\n",
       "    <tr>\n",
       "      <th>4</th>\n",
       "      <td>AZ</td>\n",
       "      <td>Gila County</td>\n",
       "      <td>20100713</td>\n",
       "      <td>1.0</td>\n",
       "      <td>33.799665</td>\n",
       "      <td>-110.811659</td>\n",
       "      <td>NaN</td>\n",
       "      <td>NaN</td>\n",
       "      <td>NaN</td>\n",
       "      <td>NaN</td>\n",
       "      <td>...</td>\n",
       "      <td>NaN</td>\n",
       "      <td>NaN</td>\n",
       "      <td>NaN</td>\n",
       "      <td>NaN</td>\n",
       "      <td>NaN</td>\n",
       "      <td>NaN</td>\n",
       "      <td>NaN</td>\n",
       "      <td>NaN</td>\n",
       "      <td>NaN</td>\n",
       "      <td>NaN</td>\n",
       "    </tr>\n",
       "  </tbody>\n",
       "</table>\n",
       "<p>5 rows × 22 columns</p>\n",
       "</div>"
      ],
      "text/plain": [
       "  state  county_name      date  smoke_score    lat_smo     lon_smo event_id  \\\n",
       "0    AZ  Gila County  20100604          1.0  33.799665 -110.811659      NaN   \n",
       "1    AZ  Gila County  20100606          1.0  33.799665 -110.811659      NaN   \n",
       "2    AZ  Gila County  20100624          1.0  33.799665 -110.811659      NaN   \n",
       "3    AZ  Gila County  20100627          1.0  33.799665 -110.811659      NaN   \n",
       "4    AZ  Gila County  20100713          1.0  33.799665 -110.811659      NaN   \n",
       "\n",
       "  incid_name incid_type asmnt_type  ...  burnbndlon  nodata_t  incgreen_t  \\\n",
       "0        NaN        NaN        NaN  ...         NaN       NaN         NaN   \n",
       "1        NaN        NaN        NaN  ...         NaN       NaN         NaN   \n",
       "2        NaN        NaN        NaN  ...         NaN       NaN         NaN   \n",
       "3        NaN        NaN        NaN  ...         NaN       NaN         NaN   \n",
       "4        NaN        NaN        NaN  ...         NaN       NaN         NaN   \n",
       "\n",
       "   low_t  mod_t  high_t  lon_wf  lat_wf  reverse_geocode  state_full  \n",
       "0    NaN    NaN     NaN     NaN     NaN              NaN         NaN  \n",
       "1    NaN    NaN     NaN     NaN     NaN              NaN         NaN  \n",
       "2    NaN    NaN     NaN     NaN     NaN              NaN         NaN  \n",
       "3    NaN    NaN     NaN     NaN     NaN              NaN         NaN  \n",
       "4    NaN    NaN     NaN     NaN     NaN              NaN         NaN  \n",
       "\n",
       "[5 rows x 22 columns]"
      ]
     },
     "execution_count": 30,
     "metadata": {},
     "output_type": "execute_result"
    }
   ],
   "source": [
    "#peek\n",
    "smoke.head()"
   ]
  },
  {
   "cell_type": "code",
   "execution_count": 31,
   "metadata": {
    "ExecuteTime": {
     "end_time": "2021-05-21T05:54:48.149384Z",
     "start_time": "2021-05-21T05:54:48.140427Z"
    }
   },
   "outputs": [
    {
     "data": {
      "text/plain": [
       "(67561, 22)"
      ]
     },
     "execution_count": 31,
     "metadata": {},
     "output_type": "execute_result"
    }
   ],
   "source": [
    "#grasp the size of data\n",
    "smoke.shape"
   ]
  },
  {
   "cell_type": "code",
   "execution_count": 32,
   "metadata": {
    "ExecuteTime": {
     "end_time": "2021-05-21T05:54:48.958548Z",
     "start_time": "2021-05-21T05:54:48.172546Z"
    }
   },
   "outputs": [],
   "source": [
    "smoke.drop_duplicates(inplace=True)"
   ]
  },
  {
   "cell_type": "code",
   "execution_count": 33,
   "metadata": {
    "ExecuteTime": {
     "end_time": "2021-05-21T05:54:48.992933Z",
     "start_time": "2021-05-21T05:54:48.965562Z"
    },
    "scrolled": true
   },
   "outputs": [
    {
     "data": {
      "text/plain": [
       "state               object\n",
       "county_name         object\n",
       "date                 int64\n",
       "smoke_score        float64\n",
       "lat_smo            float64\n",
       "lon_smo            float64\n",
       "event_id            object\n",
       "incid_name          object\n",
       "incid_type          object\n",
       "asmnt_type          object\n",
       "burnbndac          float64\n",
       "burnbndlat         float64\n",
       "burnbndlon         float64\n",
       "nodata_t           float64\n",
       "incgreen_t         float64\n",
       "low_t              float64\n",
       "mod_t              float64\n",
       "high_t             float64\n",
       "lon_wf             float64\n",
       "lat_wf             float64\n",
       "reverse_geocode     object\n",
       "state_full          object\n",
       "dtype: object"
      ]
     },
     "execution_count": 33,
     "metadata": {},
     "output_type": "execute_result"
    }
   ],
   "source": [
    "#look at data types\n",
    "smoke.dtypes"
   ]
  },
  {
   "cell_type": "markdown",
   "metadata": {},
   "source": [
    "Let's convert date to the correct type."
   ]
  },
  {
   "cell_type": "code",
   "execution_count": 34,
   "metadata": {
    "ExecuteTime": {
     "end_time": "2021-05-21T05:54:49.040785Z",
     "start_time": "2021-05-21T05:54:48.999014Z"
    }
   },
   "outputs": [],
   "source": [
    "smoke['date'] = pd.to_datetime(\\\n",
    "       smoke['date'], format='%Y%m%d', errors='ignore')"
   ]
  },
  {
   "cell_type": "markdown",
   "metadata": {},
   "source": [
    "Note: `burnbndac` refers to acres within the burn boundaries."
   ]
  },
  {
   "cell_type": "markdown",
   "metadata": {},
   "source": [
    "What types of fires do we have?"
   ]
  },
  {
   "cell_type": "code",
   "execution_count": 35,
   "metadata": {
    "ExecuteTime": {
     "end_time": "2021-05-21T05:54:49.061996Z",
     "start_time": "2021-05-21T05:54:49.043764Z"
    },
    "scrolled": true
   },
   "outputs": [
    {
     "data": {
      "text/plain": [
       "Wildfire           1875\n",
       "Prescribed Fire     114\n",
       "Unknown              17\n",
       "Name: incid_type, dtype: int64"
      ]
     },
     "execution_count": 35,
     "metadata": {},
     "output_type": "execute_result"
    }
   ],
   "source": [
    "#understand the data some more\n",
    "smoke['incid_type'].value_counts()"
   ]
  },
  {
   "cell_type": "code",
   "execution_count": 36,
   "metadata": {
    "ExecuteTime": {
     "end_time": "2021-05-21T05:54:49.773540Z",
     "start_time": "2021-05-21T05:54:49.066120Z"
    }
   },
   "outputs": [
    {
     "data": {
      "text/plain": [
       "Wildfire           0.93\n",
       "Prescribed Fire    0.06\n",
       "Unknown            0.01\n",
       "Name: incid_type, dtype: float64"
      ]
     },
     "execution_count": 36,
     "metadata": {},
     "output_type": "execute_result"
    }
   ],
   "source": [
    "smoke['incid_type'].value_counts(normalize=True).round(2)"
   ]
  },
  {
   "cell_type": "markdown",
   "metadata": {},
   "source": [
    "As expected based on our initial investigation (offline), we have two types of fire: Wildfire and Prescribed. Per [source](https://www.nps.gov/articles/what-is-a-prescribed-fire.htm), a prescribed fire is a planned fire and an important forestry management techniuqe. Specifically:\n",
    "\n",
    "\"Prescribed fire is one of the most important tools used to manage fire today. A scientific prescription for each fire, prepared in advance, describes its objectives, fuels, size, the precise environmental conditions under which it will burn, and conditions under which it may be suppressed. The fire may be designed to create a mosaic of diverse habitats for plants and animals, to help endangered species recover, or to reduce fuels and thereby prevent a destructive fire.\""
   ]
  },
  {
   "cell_type": "code",
   "execution_count": 37,
   "metadata": {
    "ExecuteTime": {
     "end_time": "2021-05-21T05:54:49.837300Z",
     "start_time": "2021-05-21T05:54:49.779813Z"
    }
   },
   "outputs": [],
   "source": [
    "#drop unknown fire types\n",
    "#df = df.drop(df[<some boolean condition>].index) from https://stackoverflow.com/questions/13851535/how-to-delete-rows-from-a-pandas-dataframe-based-on-a-conditional-expression\n",
    "\n",
    "smoke.drop(\n",
    "    smoke[smoke['incid_type'] == 'Unknown'].index,\n",
    "    inplace=True)\n"
   ]
  },
  {
   "cell_type": "markdown",
   "metadata": {},
   "source": [
    "Let's further check out and understand the types of fire."
   ]
  },
  {
   "cell_type": "code",
   "execution_count": 38,
   "metadata": {
    "ExecuteTime": {
     "end_time": "2021-05-21T05:54:49.861385Z",
     "start_time": "2021-05-21T05:54:49.842928Z"
    },
    "scrolled": false
   },
   "outputs": [
    {
     "data": {
      "text/plain": [
       "Initial          1143\n",
       "Extended          779\n",
       "Initial (SS)       59\n",
       "Extended (SS)       8\n",
       "Name: asmnt_type, dtype: int64"
      ]
     },
     "execution_count": 38,
     "metadata": {},
     "output_type": "execute_result"
    }
   ],
   "source": [
    "smoke['asmnt_type'].value_counts()"
   ]
  },
  {
   "cell_type": "markdown",
   "metadata": {},
   "source": [
    "How big are fires?"
   ]
  },
  {
   "cell_type": "code",
   "execution_count": 39,
   "metadata": {
    "ExecuteTime": {
     "end_time": "2021-05-21T05:54:49.881471Z",
     "start_time": "2021-05-21T05:54:49.864530Z"
    }
   },
   "outputs": [
    {
     "data": {
      "text/plain": [
       "1.0    0.70\n",
       "2.0    0.23\n",
       "3.0    0.08\n",
       "Name: smoke_score, dtype: float64"
      ]
     },
     "execution_count": 39,
     "metadata": {},
     "output_type": "execute_result"
    }
   ],
   "source": [
    "smoke['smoke_score'].value_counts(\n",
    "    normalize=True).round(2)"
   ]
  },
  {
   "cell_type": "code",
   "execution_count": 40,
   "metadata": {
    "ExecuteTime": {
     "end_time": "2021-05-21T05:54:49.895171Z",
     "start_time": "2021-05-21T05:54:49.884484Z"
    },
    "scrolled": true
   },
   "outputs": [
    {
     "data": {
      "text/plain": [
       "Index(['state', 'county_name', 'date', 'incid_type', 'yes_fire', 'burnbndac',\n",
       "       'smoke_score', 'no2_max_ppb', 'no2_aqi_label', 'o3_max_ppb',\n",
       "       'o3_aqi_label', 'so2_max_ppb', 'so2_aqi_label', 'co_max_ppm',\n",
       "       'co_aqi_label', 'incid_name', 'event_id', 'burnbndlat', 'burnbndlon',\n",
       "       'lat_smo', 'lon_smo', 'no2_aqi_num', 'o3_aqi_num', 'so2_aqi_num',\n",
       "       'co_aqi_num', 'overall_aqi', 'any_lat', 'any_lon', 'cluster',\n",
       "       'class_g'],\n",
       "      dtype='object')"
      ]
     },
     "execution_count": 40,
     "metadata": {},
     "output_type": "execute_result"
    }
   ],
   "source": [
    "also_smoke.columns"
   ]
  },
  {
   "cell_type": "code",
   "execution_count": 41,
   "metadata": {
    "ExecuteTime": {
     "end_time": "2021-05-21T05:54:49.921752Z",
     "start_time": "2021-05-21T05:54:49.900220Z"
    },
    "scrolled": true
   },
   "outputs": [
    {
     "data": {
      "text/plain": [
       "0.0    45433\n",
       "1.0    43048\n",
       "Name: yes_fire, dtype: int64"
      ]
     },
     "execution_count": 41,
     "metadata": {},
     "output_type": "execute_result"
    }
   ],
   "source": [
    "also_smoke['yes_fire'].value_counts()"
   ]
  },
  {
   "cell_type": "code",
   "execution_count": 45,
   "metadata": {
    "ExecuteTime": {
     "end_time": "2021-05-21T05:57:07.469762Z",
     "start_time": "2021-05-21T05:57:07.306698Z"
    },
    "scrolled": false
   },
   "outputs": [
    {
     "data": {
      "text/plain": [
       "Index(['state', 'county_name', 'date', 'incid_type', 'yes_fire', 'burnbndac',\n",
       "       'smoke_score', 'no2_max_ppb', 'no2_aqi_label', 'o3_max_ppb',\n",
       "       'o3_aqi_label', 'so2_max_ppb', 'so2_aqi_label', 'co_max_ppm',\n",
       "       'co_aqi_label', 'incid_name', 'event_id', 'burnbndlat', 'burnbndlon',\n",
       "       'lat_smo', 'lon_smo', 'no2_aqi_num', 'o3_aqi_num', 'so2_aqi_num',\n",
       "       'co_aqi_num', 'overall_aqi', 'any_lat', 'any_lon', 'cluster',\n",
       "       'class_g'],\n",
       "      dtype='object')"
      ]
     },
     "execution_count": 45,
     "metadata": {},
     "output_type": "execute_result"
    }
   ],
   "source": [
    "subset_df = also_smoke.loc[also_smoke['yes_fire'] == 1]\n",
    "cols = subset_df.columns\n",
    "cols"
   ]
  },
  {
   "cell_type": "code",
   "execution_count": 46,
   "metadata": {
    "ExecuteTime": {
     "end_time": "2021-05-21T05:57:07.747624Z",
     "start_time": "2021-05-21T05:57:07.475480Z"
    },
    "scrolled": true
   },
   "outputs": [
    {
     "data": {
      "text/html": [
       "<div>\n",
       "<style scoped>\n",
       "    .dataframe tbody tr th:only-of-type {\n",
       "        vertical-align: middle;\n",
       "    }\n",
       "\n",
       "    .dataframe tbody tr th {\n",
       "        vertical-align: top;\n",
       "    }\n",
       "\n",
       "    .dataframe thead th {\n",
       "        text-align: right;\n",
       "    }\n",
       "</style>\n",
       "<table border=\"1\" class=\"dataframe\">\n",
       "  <thead>\n",
       "    <tr style=\"text-align: right;\">\n",
       "      <th></th>\n",
       "      <th></th>\n",
       "      <th>mean</th>\n",
       "      <th>count</th>\n",
       "    </tr>\n",
       "    <tr>\n",
       "      <th>smoke_score</th>\n",
       "      <th>incid_type</th>\n",
       "      <th></th>\n",
       "      <th></th>\n",
       "    </tr>\n",
       "  </thead>\n",
       "  <tbody>\n",
       "    <tr>\n",
       "      <th rowspan=\"2\" valign=\"top\">1.0</th>\n",
       "      <th>Prescribed Fire</th>\n",
       "      <td>393.044346</td>\n",
       "      <td>451</td>\n",
       "    </tr>\n",
       "    <tr>\n",
       "      <th>Wildfire</th>\n",
       "      <td>488.651959</td>\n",
       "      <td>24908</td>\n",
       "    </tr>\n",
       "    <tr>\n",
       "      <th rowspan=\"2\" valign=\"top\">4.0</th>\n",
       "      <th>Prescribed Fire</th>\n",
       "      <td>416.735849</td>\n",
       "      <td>159</td>\n",
       "    </tr>\n",
       "    <tr>\n",
       "      <th>Wildfire</th>\n",
       "      <td>753.506510</td>\n",
       "      <td>11751</td>\n",
       "    </tr>\n",
       "    <tr>\n",
       "      <th rowspan=\"2\" valign=\"top\">9.0</th>\n",
       "      <th>Prescribed Fire</th>\n",
       "      <td>411.461538</td>\n",
       "      <td>52</td>\n",
       "    </tr>\n",
       "    <tr>\n",
       "      <th>Wildfire</th>\n",
       "      <td>1216.923061</td>\n",
       "      <td>4965</td>\n",
       "    </tr>\n",
       "  </tbody>\n",
       "</table>\n",
       "</div>"
      ],
      "text/plain": [
       "                                    mean  count\n",
       "smoke_score incid_type                         \n",
       "1.0         Prescribed Fire   393.044346    451\n",
       "            Wildfire          488.651959  24908\n",
       "4.0         Prescribed Fire   416.735849    159\n",
       "            Wildfire          753.506510  11751\n",
       "9.0         Prescribed Fire   411.461538     52\n",
       "            Wildfire         1216.923061   4965"
      ]
     },
     "execution_count": 46,
     "metadata": {},
     "output_type": "execute_result"
    }
   ],
   "source": [
    "grouped = pd.DataFrame(subset_df.groupby([\n",
    "    'smoke_score', 'incid_type'])['burnbndac'].agg(\n",
    "    ['mean', 'count']))\n",
    "grouped"
   ]
  },
  {
   "cell_type": "code",
   "execution_count": 47,
   "metadata": {
    "ExecuteTime": {
     "end_time": "2021-05-21T05:57:09.065995Z",
     "start_time": "2021-05-21T05:57:07.755093Z"
    },
    "scrolled": false
   },
   "outputs": [
    {
     "data": {
      "image/png": "[encoded data removed]",
      "text/plain": [
       "<Figure size 432x288 with 1 Axes>"
      ]
     },
     "metadata": {
      "needs_background": "light"
     },
     "output_type": "display_data"
    }
   ],
   "source": [
    "#dist of smoke scores\n",
    "grouped.plot(kind='bar');\n",
    "plt.title('Distribution of smoke scores', size = 15)\n",
    "plt.xlabel('Score', size = 12);\n",
    "plt.ylabel('Number of fires since 2012', size = 12);\n",
    "#plt.xticks([1.00, 2.00, 3.00]);\n",
    "plt.yticks(size=12)\n",
    "#plt.savefig('../assets/fires_by_score.jpg');"
   ]
  },
  {
   "cell_type": "markdown",
   "metadata": {},
   "source": [
    "The vast majority of fires score between 1 and 1.2. Just under 1/3rd of fires score a 2 or more.\n",
    "\n",
    "Most days of the year there is no smoke -- [0 to 5] -- _pull for only when there are fires._ (filter on event ID - basic) - or use the is_fire eng. (impact of ignition dates vs. duration)\n",
    "\n",
    "~Light \n",
    "\n",
    "Let's understand the size of the fires."
   ]
  },
  {
   "cell_type": "code",
   "execution_count": 48,
   "metadata": {
    "ExecuteTime": {
     "end_time": "2021-05-21T05:57:09.092877Z",
     "start_time": "2021-05-21T05:57:09.071725Z"
    },
    "scrolled": true
   },
   "outputs": [
    {
     "data": {
      "text/plain": [
       "CA    19035\n",
       "ID    13837\n",
       "OR    12072\n",
       "WA    11370\n",
       "UT     4177\n",
       "NV     3494\n",
       "AZ     3401\n",
       "MT       97\n",
       "WY       42\n",
       "NM       14\n",
       "CO        5\n",
       "Name: state, dtype: int64"
      ]
     },
     "execution_count": 48,
     "metadata": {},
     "output_type": "execute_result"
    }
   ],
   "source": [
    "#frequency of fire by state\n",
    "smoke['state'].value_counts()"
   ]
  },
  {
   "cell_type": "code",
   "execution_count": 49,
   "metadata": {
    "ExecuteTime": {
     "end_time": "2021-05-21T05:57:09.566070Z",
     "start_time": "2021-05-21T05:57:09.097394Z"
    }
   },
   "outputs": [
    {
     "data": {
      "image/png": "[encoded data removed]",
      "text/plain": [
       "<Figure size 432x288 with 1 Axes>"
      ]
     },
     "metadata": {
      "needs_background": "light"
     },
     "output_type": "display_data"
    }
   ],
   "source": [
    "#by acreage\n",
    "smoke['burnbndac'].hist();"
   ]
  },
  {
   "cell_type": "code",
   "execution_count": 50,
   "metadata": {
    "ExecuteTime": {
     "end_time": "2021-05-21T05:57:10.130985Z",
     "start_time": "2021-05-21T05:57:09.568620Z"
    },
    "scrolled": false
   },
   "outputs": [
    {
     "data": {
      "image/png": "[encoded data removed]",
      "text/plain": [
       "<Figure size 1080x576 with 1 Axes>"
      ]
     },
     "metadata": {
      "needs_background": "light"
     },
     "output_type": "display_data"
    }
   ],
   "source": [
    "#timelapse\n",
    "\n",
    "plt.figure(figsize = (15,8))\n",
    "plt.scatter(smoke['date'], smoke['burnbndac'], marker = '^');\n",
    "plt.xticks(size=14)\n",
    "plt.yticks(size=14)\n",
    "plt.title('Timeline of fire burning impact by acreage', size=18);\n",
    "plt.savefig('../assets/fire_by_acreage.jpg');"
   ]
  },
  {
   "cell_type": "code",
   "execution_count": 51,
   "metadata": {
    "ExecuteTime": {
     "end_time": "2021-05-21T05:57:10.634108Z",
     "start_time": "2021-05-21T05:57:10.136498Z"
    },
    "scrolled": true
   },
   "outputs": [
    {
     "data": {
      "image/png": "[encoded data removed]",
      "text/plain": [
       "<Figure size 1080x576 with 1 Axes>"
      ]
     },
     "metadata": {
      "needs_background": "light"
     },
     "output_type": "display_data"
    }
   ],
   "source": [
    "#scatter by smoke score to acreage\n",
    "plt.figure(figsize = (15,8))\n",
    "plt.scatter(smoke['burnbndac'], smoke['smoke_score'], marker = '^');\n",
    "plt.xticks(size=14)\n",
    "plt.yticks(size=14)\n",
    "plt.title('Relationship between smoke score and burning impact by acreage', size=18);\n"
   ]
  },
  {
   "cell_type": "markdown",
   "metadata": {},
   "source": [
    "There seems to be no relationship we can see between the smoke score and acreage."
   ]
  },
  {
   "cell_type": "markdown",
   "metadata": {},
   "source": [
    "## Putting it all together"
   ]
  },
  {
   "cell_type": "markdown",
   "metadata": {},
   "source": [
    "Let's look at just the states of interest and see if there are any insights to draw when we pull together pollution and fire data."
   ]
  },
  {
   "cell_type": "code",
   "execution_count": 53,
   "metadata": {
    "ExecuteTime": {
     "end_time": "2021-05-21T05:57:11.270536Z",
     "start_time": "2021-05-21T05:57:10.651860Z"
    },
    "scrolled": true
   },
   "outputs": [],
   "source": [
    "#pull in merged file\n",
    "merged = pd.read_csv(\n",
    "    '../data/matched_smoke_fire_pollution_CORRECT.csv')"
   ]
  },
  {
   "cell_type": "code",
   "execution_count": 54,
   "metadata": {
    "ExecuteTime": {
     "end_time": "2021-05-21T05:57:11.650478Z",
     "start_time": "2021-05-21T05:57:11.281306Z"
    }
   },
   "outputs": [],
   "source": [
    "#clean out dupes\n",
    "merged.drop_duplicates(inplace=True)"
   ]
  },
  {
   "cell_type": "markdown",
   "metadata": {},
   "source": [
    "Because of the way the data were merged, we _expect_ many nulls. This is because not every air quality measurement will have corresponding fire data, as an example."
   ]
  },
  {
   "cell_type": "code",
   "execution_count": 55,
   "metadata": {
    "ExecuteTime": {
     "end_time": "2021-05-21T05:57:11.674547Z",
     "start_time": "2021-05-21T05:57:11.656431Z"
    }
   },
   "outputs": [
    {
     "data": {
      "text/html": [
       "<div>\n",
       "<style scoped>\n",
       "    .dataframe tbody tr th:only-of-type {\n",
       "        vertical-align: middle;\n",
       "    }\n",
       "\n",
       "    .dataframe tbody tr th {\n",
       "        vertical-align: top;\n",
       "    }\n",
       "\n",
       "    .dataframe thead th {\n",
       "        text-align: right;\n",
       "    }\n",
       "</style>\n",
       "<table border=\"1\" class=\"dataframe\">\n",
       "  <thead>\n",
       "    <tr style=\"text-align: right;\">\n",
       "      <th></th>\n",
       "      <th>0</th>\n",
       "      <th>1</th>\n",
       "    </tr>\n",
       "  </thead>\n",
       "  <tbody>\n",
       "    <tr>\n",
       "      <th>state</th>\n",
       "      <td>AZ</td>\n",
       "      <td>AZ</td>\n",
       "    </tr>\n",
       "    <tr>\n",
       "      <th>city</th>\n",
       "      <td>NaN</td>\n",
       "      <td>NaN</td>\n",
       "    </tr>\n",
       "    <tr>\n",
       "      <th>county_name</th>\n",
       "      <td>Gila County</td>\n",
       "      <td>Gila County</td>\n",
       "    </tr>\n",
       "    <tr>\n",
       "      <th>date</th>\n",
       "      <td>20100604</td>\n",
       "      <td>20100606</td>\n",
       "    </tr>\n",
       "    <tr>\n",
       "      <th>incid_type</th>\n",
       "      <td>NaN</td>\n",
       "      <td>NaN</td>\n",
       "    </tr>\n",
       "    <tr>\n",
       "      <th>burnbndac</th>\n",
       "      <td>NaN</td>\n",
       "      <td>NaN</td>\n",
       "    </tr>\n",
       "    <tr>\n",
       "      <th>smoke_score</th>\n",
       "      <td>1</td>\n",
       "      <td>1</td>\n",
       "    </tr>\n",
       "    <tr>\n",
       "      <th>no2_max_ppb</th>\n",
       "      <td>NaN</td>\n",
       "      <td>NaN</td>\n",
       "    </tr>\n",
       "    <tr>\n",
       "      <th>no2_aqi_label</th>\n",
       "      <td>NaN</td>\n",
       "      <td>NaN</td>\n",
       "    </tr>\n",
       "    <tr>\n",
       "      <th>o3_max_ppb</th>\n",
       "      <td>NaN</td>\n",
       "      <td>NaN</td>\n",
       "    </tr>\n",
       "    <tr>\n",
       "      <th>o3_aqi_label</th>\n",
       "      <td>NaN</td>\n",
       "      <td>NaN</td>\n",
       "    </tr>\n",
       "    <tr>\n",
       "      <th>so2_max_ppb</th>\n",
       "      <td>NaN</td>\n",
       "      <td>NaN</td>\n",
       "    </tr>\n",
       "    <tr>\n",
       "      <th>so2_aqi_label</th>\n",
       "      <td>NaN</td>\n",
       "      <td>NaN</td>\n",
       "    </tr>\n",
       "    <tr>\n",
       "      <th>co_max_ppm</th>\n",
       "      <td>NaN</td>\n",
       "      <td>NaN</td>\n",
       "    </tr>\n",
       "    <tr>\n",
       "      <th>co_aqi_label</th>\n",
       "      <td>NaN</td>\n",
       "      <td>NaN</td>\n",
       "    </tr>\n",
       "    <tr>\n",
       "      <th>incid_name</th>\n",
       "      <td>NaN</td>\n",
       "      <td>NaN</td>\n",
       "    </tr>\n",
       "    <tr>\n",
       "      <th>event_id</th>\n",
       "      <td>NaN</td>\n",
       "      <td>NaN</td>\n",
       "    </tr>\n",
       "    <tr>\n",
       "      <th>burnbndlat</th>\n",
       "      <td>NaN</td>\n",
       "      <td>NaN</td>\n",
       "    </tr>\n",
       "    <tr>\n",
       "      <th>burnbndlon</th>\n",
       "      <td>NaN</td>\n",
       "      <td>NaN</td>\n",
       "    </tr>\n",
       "    <tr>\n",
       "      <th>lat_smo</th>\n",
       "      <td>33.7997</td>\n",
       "      <td>33.7997</td>\n",
       "    </tr>\n",
       "    <tr>\n",
       "      <th>lon_smo</th>\n",
       "      <td>-110.812</td>\n",
       "      <td>-110.812</td>\n",
       "    </tr>\n",
       "    <tr>\n",
       "      <th>aqi_address</th>\n",
       "      <td>NaN</td>\n",
       "      <td>NaN</td>\n",
       "    </tr>\n",
       "    <tr>\n",
       "      <th>geometry_wf</th>\n",
       "      <td>NaN</td>\n",
       "      <td>NaN</td>\n",
       "    </tr>\n",
       "    <tr>\n",
       "      <th>reverse_geocode_fire_ig</th>\n",
       "      <td>NaN</td>\n",
       "      <td>NaN</td>\n",
       "    </tr>\n",
       "  </tbody>\n",
       "</table>\n",
       "</div>"
      ],
      "text/plain": [
       "                                   0            1\n",
       "state                             AZ           AZ\n",
       "city                             NaN          NaN\n",
       "county_name              Gila County  Gila County\n",
       "date                        20100604     20100606\n",
       "incid_type                       NaN          NaN\n",
       "burnbndac                        NaN          NaN\n",
       "smoke_score                        1            1\n",
       "no2_max_ppb                      NaN          NaN\n",
       "no2_aqi_label                    NaN          NaN\n",
       "o3_max_ppb                       NaN          NaN\n",
       "o3_aqi_label                     NaN          NaN\n",
       "so2_max_ppb                      NaN          NaN\n",
       "so2_aqi_label                    NaN          NaN\n",
       "co_max_ppm                       NaN          NaN\n",
       "co_aqi_label                     NaN          NaN\n",
       "incid_name                       NaN          NaN\n",
       "event_id                         NaN          NaN\n",
       "burnbndlat                       NaN          NaN\n",
       "burnbndlon                       NaN          NaN\n",
       "lat_smo                      33.7997      33.7997\n",
       "lon_smo                     -110.812     -110.812\n",
       "aqi_address                      NaN          NaN\n",
       "geometry_wf                      NaN          NaN\n",
       "reverse_geocode_fire_ig          NaN          NaN"
      ]
     },
     "execution_count": 55,
     "metadata": {},
     "output_type": "execute_result"
    }
   ],
   "source": [
    "merged.head(2).T"
   ]
  },
  {
   "cell_type": "code",
   "execution_count": 56,
   "metadata": {
    "ExecuteTime": {
     "end_time": "2021-05-21T05:57:11.724624Z",
     "start_time": "2021-05-21T05:57:11.685493Z"
    }
   },
   "outputs": [
    {
     "data": {
      "text/html": [
       "<div>\n",
       "<style scoped>\n",
       "    .dataframe tbody tr th:only-of-type {\n",
       "        vertical-align: middle;\n",
       "    }\n",
       "\n",
       "    .dataframe tbody tr th {\n",
       "        vertical-align: top;\n",
       "    }\n",
       "\n",
       "    .dataframe thead th {\n",
       "        text-align: right;\n",
       "    }\n",
       "</style>\n",
       "<table border=\"1\" class=\"dataframe\">\n",
       "  <thead>\n",
       "    <tr style=\"text-align: right;\">\n",
       "      <th></th>\n",
       "      <th>state</th>\n",
       "    </tr>\n",
       "  </thead>\n",
       "  <tbody>\n",
       "    <tr>\n",
       "      <th>CA</th>\n",
       "      <td>29054</td>\n",
       "    </tr>\n",
       "    <tr>\n",
       "      <th>WA</th>\n",
       "      <td>15717</td>\n",
       "    </tr>\n",
       "    <tr>\n",
       "      <th>OR</th>\n",
       "      <td>15541</td>\n",
       "    </tr>\n",
       "    <tr>\n",
       "      <th>ID</th>\n",
       "      <td>15359</td>\n",
       "    </tr>\n",
       "    <tr>\n",
       "      <th>NV</th>\n",
       "      <td>4748</td>\n",
       "    </tr>\n",
       "    <tr>\n",
       "      <th>UT</th>\n",
       "      <td>4216</td>\n",
       "    </tr>\n",
       "    <tr>\n",
       "      <th>AZ</th>\n",
       "      <td>3710</td>\n",
       "    </tr>\n",
       "    <tr>\n",
       "      <th>MT</th>\n",
       "      <td>88</td>\n",
       "    </tr>\n",
       "    <tr>\n",
       "      <th>WY</th>\n",
       "      <td>33</td>\n",
       "    </tr>\n",
       "    <tr>\n",
       "      <th>NM</th>\n",
       "      <td>11</td>\n",
       "    </tr>\n",
       "    <tr>\n",
       "      <th>CO</th>\n",
       "      <td>4</td>\n",
       "    </tr>\n",
       "  </tbody>\n",
       "</table>\n",
       "</div>"
      ],
      "text/plain": [
       "    state\n",
       "CA  29054\n",
       "WA  15717\n",
       "OR  15541\n",
       "ID  15359\n",
       "NV   4748\n",
       "UT   4216\n",
       "AZ   3710\n",
       "MT     88\n",
       "WY     33\n",
       "NM     11\n",
       "CO      4"
      ]
     },
     "execution_count": 56,
     "metadata": {},
     "output_type": "execute_result"
    }
   ],
   "source": [
    "#confirm the locations\n",
    "pd.DataFrame(merged['state'].value_counts())"
   ]
  },
  {
   "cell_type": "code",
   "execution_count": 57,
   "metadata": {
    "ExecuteTime": {
     "end_time": "2021-05-21T05:57:11.735327Z",
     "start_time": "2021-05-21T05:57:11.727419Z"
    }
   },
   "outputs": [
    {
     "data": {
      "text/plain": [
       "(88481, 24)"
      ]
     },
     "execution_count": 57,
     "metadata": {},
     "output_type": "execute_result"
    }
   ],
   "source": [
    "merged.shape"
   ]
  },
  {
   "cell_type": "code",
   "execution_count": 58,
   "metadata": {
    "ExecuteTime": {
     "end_time": "2021-05-21T05:57:11.751304Z",
     "start_time": "2021-05-21T05:57:11.742400Z"
    },
    "scrolled": true
   },
   "outputs": [
    {
     "data": {
      "text/plain": [
       "Index(['state', 'city', 'county_name', 'date', 'incid_type', 'burnbndac',\n",
       "       'smoke_score', 'no2_max_ppb', 'no2_aqi_label', 'o3_max_ppb',\n",
       "       'o3_aqi_label', 'so2_max_ppb', 'so2_aqi_label', 'co_max_ppm',\n",
       "       'co_aqi_label', 'incid_name', 'event_id', 'burnbndlat', 'burnbndlon',\n",
       "       'lat_smo', 'lon_smo', 'aqi_address', 'geometry_wf',\n",
       "       'reverse_geocode_fire_ig'],\n",
       "      dtype='object')"
      ]
     },
     "execution_count": 58,
     "metadata": {},
     "output_type": "execute_result"
    }
   ],
   "source": [
    "merged.columns"
   ]
  },
  {
   "cell_type": "code",
   "execution_count": 59,
   "metadata": {
    "ExecuteTime": {
     "end_time": "2021-05-21T05:57:11.770512Z",
     "start_time": "2021-05-21T05:57:11.756051Z"
    }
   },
   "outputs": [
    {
     "data": {
      "text/plain": [
       "state                       object\n",
       "city                        object\n",
       "county_name                 object\n",
       "date                         int64\n",
       "incid_type                  object\n",
       "burnbndac                  float64\n",
       "smoke_score                float64\n",
       "no2_max_ppb                float64\n",
       "no2_aqi_label               object\n",
       "o3_max_ppb                 float64\n",
       "o3_aqi_label                object\n",
       "so2_max_ppb                float64\n",
       "so2_aqi_label               object\n",
       "co_max_ppm                 float64\n",
       "co_aqi_label                object\n",
       "incid_name                  object\n",
       "event_id                    object\n",
       "burnbndlat                 float64\n",
       "burnbndlon                 float64\n",
       "lat_smo                    float64\n",
       "lon_smo                    float64\n",
       "aqi_address                 object\n",
       "geometry_wf                 object\n",
       "reverse_geocode_fire_ig     object\n",
       "dtype: object"
      ]
     },
     "execution_count": 59,
     "metadata": {},
     "output_type": "execute_result"
    }
   ],
   "source": [
    "#check types\n",
    "merged.dtypes"
   ]
  },
  {
   "cell_type": "markdown",
   "metadata": {},
   "source": [
    "### Data wrangling and some feature eng"
   ]
  },
  {
   "cell_type": "code",
   "execution_count": 60,
   "metadata": {
    "ExecuteTime": {
     "end_time": "2021-05-21T05:57:11.796801Z",
     "start_time": "2021-05-21T05:57:11.777539Z"
    }
   },
   "outputs": [],
   "source": [
    "#convert dates to datetime format - from docstring:\n",
    "#pd.to_datetime('13000101', format='%Y%m%d', errors='ignore')\n",
    "\n",
    "merged['date'] = pd.to_datetime(\\\n",
    "       merged['date'], format='%Y%m%d', errors='ignore')"
   ]
  },
  {
   "cell_type": "code",
   "execution_count": 61,
   "metadata": {
    "ExecuteTime": {
     "end_time": "2021-05-21T05:57:12.040357Z",
     "start_time": "2021-05-21T05:57:11.802352Z"
    }
   },
   "outputs": [],
   "source": [
    "#Feature eng from Helen\n",
    "overall_aqi_dict = {'good':1, 'moderate':2, 'unhealthy for at-risk':4, 'unhealthy': 4,\n",
    "                   'very unhealthy':5, 'hazardous':5, 0:0}\n",
    "\n",
    "poll_cols = [\n",
    "    'no2_aqi_label', 'o3_aqi_label', 'so2_aqi_label', 'co_aqi_label']\n",
    "\n",
    "poll = ['no2', 'o3', 'so2', 'co']\n",
    "\n",
    "zipper = list(zip(poll_cols, poll))\n",
    "\n",
    "for i in poll_cols:\n",
    "    merged[i] = merged[i].fillna(0)\n",
    "    \n",
    "for i,j in zipper:\n",
    "    merged[j+'_aqi_num'] = merged[i].map(overall_aqi_dict)\n",
    "\n",
    "merged['overall_aqi'] = merged[\n",
    "    'no2_aqi_num'] * merged[\n",
    "    'so2_aqi_num'] * merged['o3_aqi_num'] * merged['co_aqi_num']"
   ]
  },
  {
   "cell_type": "code",
   "execution_count": 62,
   "metadata": {
    "ExecuteTime": {
     "end_time": "2021-05-21T05:57:12.071042Z",
     "start_time": "2021-05-21T05:57:12.050848Z"
    }
   },
   "outputs": [
    {
     "data": {
      "text/plain": [
       "state                              object\n",
       "city                               object\n",
       "county_name                        object\n",
       "date                       datetime64[ns]\n",
       "incid_type                         object\n",
       "burnbndac                         float64\n",
       "smoke_score                       float64\n",
       "no2_max_ppb                       float64\n",
       "no2_aqi_label                      object\n",
       "o3_max_ppb                        float64\n",
       "o3_aqi_label                       object\n",
       "so2_max_ppb                       float64\n",
       "so2_aqi_label                      object\n",
       "co_max_ppm                        float64\n",
       "co_aqi_label                       object\n",
       "incid_name                         object\n",
       "event_id                           object\n",
       "burnbndlat                        float64\n",
       "burnbndlon                        float64\n",
       "lat_smo                           float64\n",
       "lon_smo                           float64\n",
       "aqi_address                        object\n",
       "geometry_wf                        object\n",
       "reverse_geocode_fire_ig            object\n",
       "no2_aqi_num                         int64\n",
       "o3_aqi_num                          int64\n",
       "so2_aqi_num                         int64\n",
       "co_aqi_num                          int64\n",
       "overall_aqi                         int64\n",
       "dtype: object"
      ]
     },
     "execution_count": 62,
     "metadata": {},
     "output_type": "execute_result"
    }
   ],
   "source": [
    "#confirm conversion\n",
    "merged.dtypes"
   ]
  },
  {
   "cell_type": "code",
   "execution_count": 63,
   "metadata": {
    "ExecuteTime": {
     "end_time": "2021-05-21T05:57:12.145853Z",
     "start_time": "2021-05-21T05:57:12.074246Z"
    }
   },
   "outputs": [
    {
     "data": {
      "text/html": [
       "<div>\n",
       "<style scoped>\n",
       "    .dataframe tbody tr th:only-of-type {\n",
       "        vertical-align: middle;\n",
       "    }\n",
       "\n",
       "    .dataframe tbody tr th {\n",
       "        vertical-align: top;\n",
       "    }\n",
       "\n",
       "    .dataframe thead th {\n",
       "        text-align: right;\n",
       "    }\n",
       "</style>\n",
       "<table border=\"1\" class=\"dataframe\">\n",
       "  <thead>\n",
       "    <tr style=\"text-align: right;\">\n",
       "      <th></th>\n",
       "      <th>state</th>\n",
       "      <th>city</th>\n",
       "      <th>county_name</th>\n",
       "      <th>date</th>\n",
       "      <th>incid_type</th>\n",
       "      <th>burnbndac</th>\n",
       "      <th>smoke_score</th>\n",
       "      <th>no2_max_ppb</th>\n",
       "      <th>no2_aqi_label</th>\n",
       "      <th>o3_max_ppb</th>\n",
       "      <th>...</th>\n",
       "      <th>lat_smo</th>\n",
       "      <th>lon_smo</th>\n",
       "      <th>aqi_address</th>\n",
       "      <th>geometry_wf</th>\n",
       "      <th>reverse_geocode_fire_ig</th>\n",
       "      <th>no2_aqi_num</th>\n",
       "      <th>o3_aqi_num</th>\n",
       "      <th>so2_aqi_num</th>\n",
       "      <th>co_aqi_num</th>\n",
       "      <th>overall_aqi</th>\n",
       "    </tr>\n",
       "  </thead>\n",
       "  <tbody>\n",
       "    <tr>\n",
       "      <th>0</th>\n",
       "      <td>AZ</td>\n",
       "      <td>NaN</td>\n",
       "      <td>Gila County</td>\n",
       "      <td>2010-06-04</td>\n",
       "      <td>NaN</td>\n",
       "      <td>NaN</td>\n",
       "      <td>1.0</td>\n",
       "      <td>NaN</td>\n",
       "      <td>0</td>\n",
       "      <td>NaN</td>\n",
       "      <td>...</td>\n",
       "      <td>33.799665</td>\n",
       "      <td>-110.811659</td>\n",
       "      <td>NaN</td>\n",
       "      <td>NaN</td>\n",
       "      <td>NaN</td>\n",
       "      <td>0</td>\n",
       "      <td>0</td>\n",
       "      <td>0</td>\n",
       "      <td>0</td>\n",
       "      <td>0</td>\n",
       "    </tr>\n",
       "    <tr>\n",
       "      <th>1</th>\n",
       "      <td>AZ</td>\n",
       "      <td>NaN</td>\n",
       "      <td>Gila County</td>\n",
       "      <td>2010-06-06</td>\n",
       "      <td>NaN</td>\n",
       "      <td>NaN</td>\n",
       "      <td>1.0</td>\n",
       "      <td>NaN</td>\n",
       "      <td>0</td>\n",
       "      <td>NaN</td>\n",
       "      <td>...</td>\n",
       "      <td>33.799665</td>\n",
       "      <td>-110.811659</td>\n",
       "      <td>NaN</td>\n",
       "      <td>NaN</td>\n",
       "      <td>NaN</td>\n",
       "      <td>0</td>\n",
       "      <td>0</td>\n",
       "      <td>0</td>\n",
       "      <td>0</td>\n",
       "      <td>0</td>\n",
       "    </tr>\n",
       "  </tbody>\n",
       "</table>\n",
       "<p>2 rows × 29 columns</p>\n",
       "</div>"
      ],
      "text/plain": [
       "  state city  county_name       date incid_type  burnbndac  smoke_score  \\\n",
       "0    AZ  NaN  Gila County 2010-06-04        NaN        NaN          1.0   \n",
       "1    AZ  NaN  Gila County 2010-06-06        NaN        NaN          1.0   \n",
       "\n",
       "   no2_max_ppb no2_aqi_label  o3_max_ppb  ...    lat_smo     lon_smo  \\\n",
       "0          NaN             0         NaN  ...  33.799665 -110.811659   \n",
       "1          NaN             0         NaN  ...  33.799665 -110.811659   \n",
       "\n",
       "  aqi_address  geometry_wf reverse_geocode_fire_ig no2_aqi_num o3_aqi_num  \\\n",
       "0         NaN          NaN                     NaN           0          0   \n",
       "1         NaN          NaN                     NaN           0          0   \n",
       "\n",
       "   so2_aqi_num  co_aqi_num  overall_aqi  \n",
       "0            0           0            0  \n",
       "1            0           0            0  \n",
       "\n",
       "[2 rows x 29 columns]"
      ]
     },
     "execution_count": 63,
     "metadata": {},
     "output_type": "execute_result"
    }
   ],
   "source": [
    "merged.head(2)"
   ]
  },
  {
   "cell_type": "code",
   "execution_count": 64,
   "metadata": {
    "ExecuteTime": {
     "end_time": "2021-05-21T05:57:12.324372Z",
     "start_time": "2021-05-21T05:57:12.148702Z"
    },
    "scrolled": true
   },
   "outputs": [
    {
     "data": {
      "text/html": [
       "<div>\n",
       "<style scoped>\n",
       "    .dataframe tbody tr th:only-of-type {\n",
       "        vertical-align: middle;\n",
       "    }\n",
       "\n",
       "    .dataframe tbody tr th {\n",
       "        vertical-align: top;\n",
       "    }\n",
       "\n",
       "    .dataframe thead th {\n",
       "        text-align: right;\n",
       "    }\n",
       "</style>\n",
       "<table border=\"1\" class=\"dataframe\">\n",
       "  <thead>\n",
       "    <tr style=\"text-align: right;\">\n",
       "      <th></th>\n",
       "      <th>count</th>\n",
       "      <th>mean</th>\n",
       "      <th>std</th>\n",
       "      <th>min</th>\n",
       "      <th>25%</th>\n",
       "      <th>50%</th>\n",
       "      <th>75%</th>\n",
       "      <th>max</th>\n",
       "    </tr>\n",
       "  </thead>\n",
       "  <tbody>\n",
       "    <tr>\n",
       "      <th>burnbndac</th>\n",
       "      <td>2437.0</td>\n",
       "      <td>14387.64</td>\n",
       "      <td>37577.50</td>\n",
       "      <td>1001.00</td>\n",
       "      <td>1877.00</td>\n",
       "      <td>3509.00</td>\n",
       "      <td>12720.00</td>\n",
       "      <td>563664.00</td>\n",
       "    </tr>\n",
       "    <tr>\n",
       "      <th>smoke_score</th>\n",
       "      <td>87719.0</td>\n",
       "      <td>1.39</td>\n",
       "      <td>0.63</td>\n",
       "      <td>1.00</td>\n",
       "      <td>1.00</td>\n",
       "      <td>1.00</td>\n",
       "      <td>2.00</td>\n",
       "      <td>3.00</td>\n",
       "    </tr>\n",
       "    <tr>\n",
       "      <th>no2_max_ppb</th>\n",
       "      <td>19578.0</td>\n",
       "      <td>22.40</td>\n",
       "      <td>16.12</td>\n",
       "      <td>0.00</td>\n",
       "      <td>9.00</td>\n",
       "      <td>20.00</td>\n",
       "      <td>33.00</td>\n",
       "      <td>135.90</td>\n",
       "    </tr>\n",
       "    <tr>\n",
       "      <th>o3_max_ppb</th>\n",
       "      <td>19578.0</td>\n",
       "      <td>47.29</td>\n",
       "      <td>18.62</td>\n",
       "      <td>3.00</td>\n",
       "      <td>32.00</td>\n",
       "      <td>46.00</td>\n",
       "      <td>61.00</td>\n",
       "      <td>122.00</td>\n",
       "    </tr>\n",
       "    <tr>\n",
       "      <th>so2_max_ppb</th>\n",
       "      <td>19578.0</td>\n",
       "      <td>1.27</td>\n",
       "      <td>2.29</td>\n",
       "      <td>-0.90</td>\n",
       "      <td>0.40</td>\n",
       "      <td>0.90</td>\n",
       "      <td>1.60</td>\n",
       "      <td>86.90</td>\n",
       "    </tr>\n",
       "    <tr>\n",
       "      <th>co_max_ppm</th>\n",
       "      <td>19578.0</td>\n",
       "      <td>0.50</td>\n",
       "      <td>0.43</td>\n",
       "      <td>-0.10</td>\n",
       "      <td>0.29</td>\n",
       "      <td>0.40</td>\n",
       "      <td>0.60</td>\n",
       "      <td>8.30</td>\n",
       "    </tr>\n",
       "    <tr>\n",
       "      <th>burnbndlat</th>\n",
       "      <td>2437.0</td>\n",
       "      <td>40.21</td>\n",
       "      <td>5.10</td>\n",
       "      <td>31.30</td>\n",
       "      <td>34.67</td>\n",
       "      <td>40.84</td>\n",
       "      <td>44.47</td>\n",
       "      <td>48.98</td>\n",
       "    </tr>\n",
       "    <tr>\n",
       "      <th>burnbndlon</th>\n",
       "      <td>2437.0</td>\n",
       "      <td>-116.91</td>\n",
       "      <td>3.73</td>\n",
       "      <td>-124.09</td>\n",
       "      <td>-119.67</td>\n",
       "      <td>-117.36</td>\n",
       "      <td>-114.46</td>\n",
       "      <td>-108.51</td>\n",
       "    </tr>\n",
       "    <tr>\n",
       "      <th>lat_smo</th>\n",
       "      <td>87719.0</td>\n",
       "      <td>41.56</td>\n",
       "      <td>4.46</td>\n",
       "      <td>31.53</td>\n",
       "      <td>38.07</td>\n",
       "      <td>42.30</td>\n",
       "      <td>45.40</td>\n",
       "      <td>48.83</td>\n",
       "    </tr>\n",
       "    <tr>\n",
       "      <th>lon_smo</th>\n",
       "      <td>87719.0</td>\n",
       "      <td>-118.48</td>\n",
       "      <td>3.77</td>\n",
       "      <td>-124.16</td>\n",
       "      <td>-121.69</td>\n",
       "      <td>-119.01</td>\n",
       "      <td>-115.99</td>\n",
       "      <td>-109.24</td>\n",
       "    </tr>\n",
       "    <tr>\n",
       "      <th>no2_aqi_num</th>\n",
       "      <td>88481.0</td>\n",
       "      <td>0.23</td>\n",
       "      <td>0.44</td>\n",
       "      <td>0.00</td>\n",
       "      <td>0.00</td>\n",
       "      <td>0.00</td>\n",
       "      <td>0.00</td>\n",
       "      <td>4.00</td>\n",
       "    </tr>\n",
       "    <tr>\n",
       "      <th>o3_aqi_num</th>\n",
       "      <td>88481.0</td>\n",
       "      <td>0.35</td>\n",
       "      <td>0.80</td>\n",
       "      <td>0.00</td>\n",
       "      <td>0.00</td>\n",
       "      <td>0.00</td>\n",
       "      <td>0.00</td>\n",
       "      <td>5.00</td>\n",
       "    </tr>\n",
       "    <tr>\n",
       "      <th>so2_aqi_num</th>\n",
       "      <td>88481.0</td>\n",
       "      <td>0.22</td>\n",
       "      <td>0.42</td>\n",
       "      <td>0.00</td>\n",
       "      <td>0.00</td>\n",
       "      <td>0.00</td>\n",
       "      <td>0.00</td>\n",
       "      <td>4.00</td>\n",
       "    </tr>\n",
       "    <tr>\n",
       "      <th>co_aqi_num</th>\n",
       "      <td>88481.0</td>\n",
       "      <td>0.22</td>\n",
       "      <td>0.42</td>\n",
       "      <td>0.00</td>\n",
       "      <td>0.00</td>\n",
       "      <td>0.00</td>\n",
       "      <td>0.00</td>\n",
       "      <td>2.00</td>\n",
       "    </tr>\n",
       "    <tr>\n",
       "      <th>overall_aqi</th>\n",
       "      <td>88481.0</td>\n",
       "      <td>0.37</td>\n",
       "      <td>0.90</td>\n",
       "      <td>0.00</td>\n",
       "      <td>0.00</td>\n",
       "      <td>0.00</td>\n",
       "      <td>0.00</td>\n",
       "      <td>32.00</td>\n",
       "    </tr>\n",
       "  </tbody>\n",
       "</table>\n",
       "</div>"
      ],
      "text/plain": [
       "               count      mean       std      min      25%      50%       75%  \\\n",
       "burnbndac     2437.0  14387.64  37577.50  1001.00  1877.00  3509.00  12720.00   \n",
       "smoke_score  87719.0      1.39      0.63     1.00     1.00     1.00      2.00   \n",
       "no2_max_ppb  19578.0     22.40     16.12     0.00     9.00    20.00     33.00   \n",
       "o3_max_ppb   19578.0     47.29     18.62     3.00    32.00    46.00     61.00   \n",
       "so2_max_ppb  19578.0      1.27      2.29    -0.90     0.40     0.90      1.60   \n",
       "co_max_ppm   19578.0      0.50      0.43    -0.10     0.29     0.40      0.60   \n",
       "burnbndlat    2437.0     40.21      5.10    31.30    34.67    40.84     44.47   \n",
       "burnbndlon    2437.0   -116.91      3.73  -124.09  -119.67  -117.36   -114.46   \n",
       "lat_smo      87719.0     41.56      4.46    31.53    38.07    42.30     45.40   \n",
       "lon_smo      87719.0   -118.48      3.77  -124.16  -121.69  -119.01   -115.99   \n",
       "no2_aqi_num  88481.0      0.23      0.44     0.00     0.00     0.00      0.00   \n",
       "o3_aqi_num   88481.0      0.35      0.80     0.00     0.00     0.00      0.00   \n",
       "so2_aqi_num  88481.0      0.22      0.42     0.00     0.00     0.00      0.00   \n",
       "co_aqi_num   88481.0      0.22      0.42     0.00     0.00     0.00      0.00   \n",
       "overall_aqi  88481.0      0.37      0.90     0.00     0.00     0.00      0.00   \n",
       "\n",
       "                   max  \n",
       "burnbndac    563664.00  \n",
       "smoke_score       3.00  \n",
       "no2_max_ppb     135.90  \n",
       "o3_max_ppb      122.00  \n",
       "so2_max_ppb      86.90  \n",
       "co_max_ppm        8.30  \n",
       "burnbndlat       48.98  \n",
       "burnbndlon     -108.51  \n",
       "lat_smo          48.83  \n",
       "lon_smo        -109.24  \n",
       "no2_aqi_num       4.00  \n",
       "o3_aqi_num        5.00  \n",
       "so2_aqi_num       4.00  \n",
       "co_aqi_num        2.00  \n",
       "overall_aqi      32.00  "
      ]
     },
     "execution_count": 64,
     "metadata": {},
     "output_type": "execute_result"
    }
   ],
   "source": [
    "merged.describe().round(2).T"
   ]
  },
  {
   "cell_type": "markdown",
   "metadata": {},
   "source": [
    "### Analyze relationships"
   ]
  },
  {
   "cell_type": "code",
   "execution_count": 65,
   "metadata": {
    "ExecuteTime": {
     "end_time": "2021-05-21T05:57:12.508103Z",
     "start_time": "2021-05-21T05:57:12.326492Z"
    },
    "scrolled": true
   },
   "outputs": [
    {
     "data": {
      "text/html": [
       "<div>\n",
       "<style scoped>\n",
       "    .dataframe tbody tr th:only-of-type {\n",
       "        vertical-align: middle;\n",
       "    }\n",
       "\n",
       "    .dataframe tbody tr th {\n",
       "        vertical-align: top;\n",
       "    }\n",
       "\n",
       "    .dataframe thead th {\n",
       "        text-align: right;\n",
       "    }\n",
       "</style>\n",
       "<table border=\"1\" class=\"dataframe\">\n",
       "  <thead>\n",
       "    <tr style=\"text-align: right;\">\n",
       "      <th></th>\n",
       "      <th>burnbndac</th>\n",
       "      <th>smoke_score</th>\n",
       "      <th>no2_max_ppb</th>\n",
       "      <th>o3_max_ppb</th>\n",
       "      <th>so2_max_ppb</th>\n",
       "      <th>co_max_ppm</th>\n",
       "      <th>burnbndlat</th>\n",
       "      <th>burnbndlon</th>\n",
       "      <th>lat_smo</th>\n",
       "      <th>lon_smo</th>\n",
       "      <th>no2_aqi_num</th>\n",
       "      <th>o3_aqi_num</th>\n",
       "      <th>so2_aqi_num</th>\n",
       "      <th>co_aqi_num</th>\n",
       "      <th>overall_aqi</th>\n",
       "    </tr>\n",
       "  </thead>\n",
       "  <tbody>\n",
       "    <tr>\n",
       "      <th>burnbndac</th>\n",
       "      <td>1.000000</td>\n",
       "      <td>0.058742</td>\n",
       "      <td>-0.209764</td>\n",
       "      <td>0.080947</td>\n",
       "      <td>-0.066690</td>\n",
       "      <td>-0.174319</td>\n",
       "      <td>0.059735</td>\n",
       "      <td>-0.050090</td>\n",
       "      <td>0.073267</td>\n",
       "      <td>-0.028061</td>\n",
       "      <td>-0.074356</td>\n",
       "      <td>-0.045346</td>\n",
       "      <td>-0.069256</td>\n",
       "      <td>-0.069256</td>\n",
       "      <td>-0.049165</td>\n",
       "    </tr>\n",
       "    <tr>\n",
       "      <th>smoke_score</th>\n",
       "      <td>0.058742</td>\n",
       "      <td>1.000000</td>\n",
       "      <td>-0.029252</td>\n",
       "      <td>0.037309</td>\n",
       "      <td>-0.021447</td>\n",
       "      <td>-0.053299</td>\n",
       "      <td>0.080524</td>\n",
       "      <td>-0.089088</td>\n",
       "      <td>0.086189</td>\n",
       "      <td>-0.016486</td>\n",
       "      <td>-0.040454</td>\n",
       "      <td>-0.014110</td>\n",
       "      <td>-0.040874</td>\n",
       "      <td>-0.041278</td>\n",
       "      <td>-0.013019</td>\n",
       "    </tr>\n",
       "    <tr>\n",
       "      <th>no2_max_ppb</th>\n",
       "      <td>-0.209764</td>\n",
       "      <td>-0.029252</td>\n",
       "      <td>1.000000</td>\n",
       "      <td>0.367534</td>\n",
       "      <td>0.202839</td>\n",
       "      <td>0.572001</td>\n",
       "      <td>-0.219219</td>\n",
       "      <td>0.102013</td>\n",
       "      <td>-0.370291</td>\n",
       "      <td>0.380060</td>\n",
       "      <td>0.520537</td>\n",
       "      <td>0.282882</td>\n",
       "      <td>0.002656</td>\n",
       "      <td>0.062680</td>\n",
       "      <td>0.388645</td>\n",
       "    </tr>\n",
       "    <tr>\n",
       "      <th>o3_max_ppb</th>\n",
       "      <td>0.080947</td>\n",
       "      <td>0.037309</td>\n",
       "      <td>0.367534</td>\n",
       "      <td>1.000000</td>\n",
       "      <td>0.094205</td>\n",
       "      <td>0.030009</td>\n",
       "      <td>-0.236601</td>\n",
       "      <td>0.345173</td>\n",
       "      <td>-0.377275</td>\n",
       "      <td>0.441588</td>\n",
       "      <td>0.064385</td>\n",
       "      <td>0.824599</td>\n",
       "      <td>0.049493</td>\n",
       "      <td>-0.000263</td>\n",
       "      <td>0.707686</td>\n",
       "    </tr>\n",
       "    <tr>\n",
       "      <th>so2_max_ppb</th>\n",
       "      <td>-0.066690</td>\n",
       "      <td>-0.021447</td>\n",
       "      <td>0.202839</td>\n",
       "      <td>0.094205</td>\n",
       "      <td>1.000000</td>\n",
       "      <td>0.355788</td>\n",
       "      <td>-0.060055</td>\n",
       "      <td>-0.032350</td>\n",
       "      <td>-0.081702</td>\n",
       "      <td>0.024940</td>\n",
       "      <td>0.113041</td>\n",
       "      <td>0.081435</td>\n",
       "      <td>0.772272</td>\n",
       "      <td>0.293205</td>\n",
       "      <td>0.348946</td>\n",
       "    </tr>\n",
       "    <tr>\n",
       "      <th>co_max_ppm</th>\n",
       "      <td>-0.174319</td>\n",
       "      <td>-0.053299</td>\n",
       "      <td>0.572001</td>\n",
       "      <td>0.030009</td>\n",
       "      <td>0.355788</td>\n",
       "      <td>1.000000</td>\n",
       "      <td>-0.141504</td>\n",
       "      <td>0.001657</td>\n",
       "      <td>-0.241707</td>\n",
       "      <td>0.179790</td>\n",
       "      <td>0.349337</td>\n",
       "      <td>0.033324</td>\n",
       "      <td>0.275307</td>\n",
       "      <td>0.405384</td>\n",
       "      <td>0.243374</td>\n",
       "    </tr>\n",
       "    <tr>\n",
       "      <th>burnbndlat</th>\n",
       "      <td>0.059735</td>\n",
       "      <td>0.080524</td>\n",
       "      <td>-0.219219</td>\n",
       "      <td>-0.236601</td>\n",
       "      <td>-0.060055</td>\n",
       "      <td>-0.141504</td>\n",
       "      <td>1.000000</td>\n",
       "      <td>-0.236247</td>\n",
       "      <td>0.938681</td>\n",
       "      <td>-0.258364</td>\n",
       "      <td>-0.599301</td>\n",
       "      <td>-0.521385</td>\n",
       "      <td>-0.617963</td>\n",
       "      <td>-0.617963</td>\n",
       "      <td>-0.519090</td>\n",
       "    </tr>\n",
       "    <tr>\n",
       "      <th>burnbndlon</th>\n",
       "      <td>-0.050090</td>\n",
       "      <td>-0.089088</td>\n",
       "      <td>0.102013</td>\n",
       "      <td>0.345173</td>\n",
       "      <td>-0.032350</td>\n",
       "      <td>0.001657</td>\n",
       "      <td>-0.236247</td>\n",
       "      <td>1.000000</td>\n",
       "      <td>-0.222649</td>\n",
       "      <td>0.820262</td>\n",
       "      <td>-0.072038</td>\n",
       "      <td>-0.020553</td>\n",
       "      <td>-0.075868</td>\n",
       "      <td>-0.075868</td>\n",
       "      <td>-0.014776</td>\n",
       "    </tr>\n",
       "    <tr>\n",
       "      <th>lat_smo</th>\n",
       "      <td>0.073267</td>\n",
       "      <td>0.086189</td>\n",
       "      <td>-0.370291</td>\n",
       "      <td>-0.377275</td>\n",
       "      <td>-0.081702</td>\n",
       "      <td>-0.241707</td>\n",
       "      <td>0.938681</td>\n",
       "      <td>-0.222649</td>\n",
       "      <td>1.000000</td>\n",
       "      <td>-0.243873</td>\n",
       "      <td>-0.534123</td>\n",
       "      <td>-0.491725</td>\n",
       "      <td>-0.535242</td>\n",
       "      <td>-0.536278</td>\n",
       "      <td>-0.467734</td>\n",
       "    </tr>\n",
       "    <tr>\n",
       "      <th>lon_smo</th>\n",
       "      <td>-0.028061</td>\n",
       "      <td>-0.016486</td>\n",
       "      <td>0.380060</td>\n",
       "      <td>0.441588</td>\n",
       "      <td>0.024940</td>\n",
       "      <td>0.179790</td>\n",
       "      <td>-0.258364</td>\n",
       "      <td>0.820262</td>\n",
       "      <td>-0.243873</td>\n",
       "      <td>1.000000</td>\n",
       "      <td>-0.023846</td>\n",
       "      <td>0.041796</td>\n",
       "      <td>-0.032633</td>\n",
       "      <td>-0.032673</td>\n",
       "      <td>0.047370</td>\n",
       "    </tr>\n",
       "    <tr>\n",
       "      <th>no2_aqi_num</th>\n",
       "      <td>-0.074356</td>\n",
       "      <td>-0.040454</td>\n",
       "      <td>0.520537</td>\n",
       "      <td>0.064385</td>\n",
       "      <td>0.113041</td>\n",
       "      <td>0.349337</td>\n",
       "      <td>-0.599301</td>\n",
       "      <td>-0.072038</td>\n",
       "      <td>-0.534123</td>\n",
       "      <td>-0.023846</td>\n",
       "      <td>1.000000</td>\n",
       "      <td>0.809892</td>\n",
       "      <td>0.972883</td>\n",
       "      <td>0.975382</td>\n",
       "      <td>0.799761</td>\n",
       "    </tr>\n",
       "    <tr>\n",
       "      <th>o3_aqi_num</th>\n",
       "      <td>-0.045346</td>\n",
       "      <td>-0.014110</td>\n",
       "      <td>0.282882</td>\n",
       "      <td>0.824599</td>\n",
       "      <td>0.081435</td>\n",
       "      <td>0.033324</td>\n",
       "      <td>-0.521385</td>\n",
       "      <td>-0.020553</td>\n",
       "      <td>-0.491725</td>\n",
       "      <td>0.041796</td>\n",
       "      <td>0.809892</td>\n",
       "      <td>1.000000</td>\n",
       "      <td>0.822463</td>\n",
       "      <td>0.822033</td>\n",
       "      <td>0.943114</td>\n",
       "    </tr>\n",
       "    <tr>\n",
       "      <th>so2_aqi_num</th>\n",
       "      <td>-0.069256</td>\n",
       "      <td>-0.040874</td>\n",
       "      <td>0.002656</td>\n",
       "      <td>0.049493</td>\n",
       "      <td>0.772272</td>\n",
       "      <td>0.275307</td>\n",
       "      <td>-0.617963</td>\n",
       "      <td>-0.075868</td>\n",
       "      <td>-0.535242</td>\n",
       "      <td>-0.032633</td>\n",
       "      <td>0.972883</td>\n",
       "      <td>0.822463</td>\n",
       "      <td>1.000000</td>\n",
       "      <td>0.997687</td>\n",
       "      <td>0.780115</td>\n",
       "    </tr>\n",
       "    <tr>\n",
       "      <th>co_aqi_num</th>\n",
       "      <td>-0.069256</td>\n",
       "      <td>-0.041278</td>\n",
       "      <td>0.062680</td>\n",
       "      <td>-0.000263</td>\n",
       "      <td>0.293205</td>\n",
       "      <td>0.405384</td>\n",
       "      <td>-0.617963</td>\n",
       "      <td>-0.075868</td>\n",
       "      <td>-0.536278</td>\n",
       "      <td>-0.032673</td>\n",
       "      <td>0.975382</td>\n",
       "      <td>0.822033</td>\n",
       "      <td>0.997687</td>\n",
       "      <td>1.000000</td>\n",
       "      <td>0.769905</td>\n",
       "    </tr>\n",
       "    <tr>\n",
       "      <th>overall_aqi</th>\n",
       "      <td>-0.049165</td>\n",
       "      <td>-0.013019</td>\n",
       "      <td>0.388645</td>\n",
       "      <td>0.707686</td>\n",
       "      <td>0.348946</td>\n",
       "      <td>0.243374</td>\n",
       "      <td>-0.519090</td>\n",
       "      <td>-0.014776</td>\n",
       "      <td>-0.467734</td>\n",
       "      <td>0.047370</td>\n",
       "      <td>0.799761</td>\n",
       "      <td>0.943114</td>\n",
       "      <td>0.780115</td>\n",
       "      <td>0.769905</td>\n",
       "      <td>1.000000</td>\n",
       "    </tr>\n",
       "  </tbody>\n",
       "</table>\n",
       "</div>"
      ],
      "text/plain": [
       "             burnbndac  smoke_score  no2_max_ppb  o3_max_ppb  so2_max_ppb  \\\n",
       "burnbndac     1.000000     0.058742    -0.209764    0.080947    -0.066690   \n",
       "smoke_score   0.058742     1.000000    -0.029252    0.037309    -0.021447   \n",
       "no2_max_ppb  -0.209764    -0.029252     1.000000    0.367534     0.202839   \n",
       "o3_max_ppb    0.080947     0.037309     0.367534    1.000000     0.094205   \n",
       "so2_max_ppb  -0.066690    -0.021447     0.202839    0.094205     1.000000   \n",
       "co_max_ppm   -0.174319    -0.053299     0.572001    0.030009     0.355788   \n",
       "burnbndlat    0.059735     0.080524    -0.219219   -0.236601    -0.060055   \n",
       "burnbndlon   -0.050090    -0.089088     0.102013    0.345173    -0.032350   \n",
       "lat_smo       0.073267     0.086189    -0.370291   -0.377275    -0.081702   \n",
       "lon_smo      -0.028061    -0.016486     0.380060    0.441588     0.024940   \n",
       "no2_aqi_num  -0.074356    -0.040454     0.520537    0.064385     0.113041   \n",
       "o3_aqi_num   -0.045346    -0.014110     0.282882    0.824599     0.081435   \n",
       "so2_aqi_num  -0.069256    -0.040874     0.002656    0.049493     0.772272   \n",
       "co_aqi_num   -0.069256    -0.041278     0.062680   -0.000263     0.293205   \n",
       "overall_aqi  -0.049165    -0.013019     0.388645    0.707686     0.348946   \n",
       "\n",
       "             co_max_ppm  burnbndlat  burnbndlon   lat_smo   lon_smo  \\\n",
       "burnbndac     -0.174319    0.059735   -0.050090  0.073267 -0.028061   \n",
       "smoke_score   -0.053299    0.080524   -0.089088  0.086189 -0.016486   \n",
       "no2_max_ppb    0.572001   -0.219219    0.102013 -0.370291  0.380060   \n",
       "o3_max_ppb     0.030009   -0.236601    0.345173 -0.377275  0.441588   \n",
       "so2_max_ppb    0.355788   -0.060055   -0.032350 -0.081702  0.024940   \n",
       "co_max_ppm     1.000000   -0.141504    0.001657 -0.241707  0.179790   \n",
       "burnbndlat    -0.141504    1.000000   -0.236247  0.938681 -0.258364   \n",
       "burnbndlon     0.001657   -0.236247    1.000000 -0.222649  0.820262   \n",
       "lat_smo       -0.241707    0.938681   -0.222649  1.000000 -0.243873   \n",
       "lon_smo        0.179790   -0.258364    0.820262 -0.243873  1.000000   \n",
       "no2_aqi_num    0.349337   -0.599301   -0.072038 -0.534123 -0.023846   \n",
       "o3_aqi_num     0.033324   -0.521385   -0.020553 -0.491725  0.041796   \n",
       "so2_aqi_num    0.275307   -0.617963   -0.075868 -0.535242 -0.032633   \n",
       "co_aqi_num     0.405384   -0.617963   -0.075868 -0.536278 -0.032673   \n",
       "overall_aqi    0.243374   -0.519090   -0.014776 -0.467734  0.047370   \n",
       "\n",
       "             no2_aqi_num  o3_aqi_num  so2_aqi_num  co_aqi_num  overall_aqi  \n",
       "burnbndac      -0.074356   -0.045346    -0.069256   -0.069256    -0.049165  \n",
       "smoke_score    -0.040454   -0.014110    -0.040874   -0.041278    -0.013019  \n",
       "no2_max_ppb     0.520537    0.282882     0.002656    0.062680     0.388645  \n",
       "o3_max_ppb      0.064385    0.824599     0.049493   -0.000263     0.707686  \n",
       "so2_max_ppb     0.113041    0.081435     0.772272    0.293205     0.348946  \n",
       "co_max_ppm      0.349337    0.033324     0.275307    0.405384     0.243374  \n",
       "burnbndlat     -0.599301   -0.521385    -0.617963   -0.617963    -0.519090  \n",
       "burnbndlon     -0.072038   -0.020553    -0.075868   -0.075868    -0.014776  \n",
       "lat_smo        -0.534123   -0.491725    -0.535242   -0.536278    -0.467734  \n",
       "lon_smo        -0.023846    0.041796    -0.032633   -0.032673     0.047370  \n",
       "no2_aqi_num     1.000000    0.809892     0.972883    0.975382     0.799761  \n",
       "o3_aqi_num      0.809892    1.000000     0.822463    0.822033     0.943114  \n",
       "so2_aqi_num     0.972883    0.822463     1.000000    0.997687     0.780115  \n",
       "co_aqi_num      0.975382    0.822033     0.997687    1.000000     0.769905  \n",
       "overall_aqi     0.799761    0.943114     0.780115    0.769905     1.000000  "
      ]
     },
     "execution_count": 65,
     "metadata": {},
     "output_type": "execute_result"
    }
   ],
   "source": [
    "merged.corr()"
   ]
  },
  {
   "cell_type": "code",
   "execution_count": 66,
   "metadata": {
    "ExecuteTime": {
     "end_time": "2021-05-21T05:57:16.181414Z",
     "start_time": "2021-05-21T05:57:12.517108Z"
    }
   },
   "outputs": [
    {
     "data": {
      "image/png": "[encoded data removed]",
      "text/plain": [
       "<Figure size 1080x720 with 2 Axes>"
      ]
     },
     "metadata": {
      "needs_background": "light"
     },
     "output_type": "display_data"
    }
   ],
   "source": [
    "#corr heatmap\n",
    "plt.figure(figsize=(15,10))\n",
    "mask=np.zeros_like(merged.corr())\n",
    "mask[np.triu_indices_from(mask)] = True\n",
    "sns.heatmap(merged.corr(), cmap='mako', annot=True, mask=mask,\n",
    "           vmin=-1, vmax=1);\n",
    "plt.title('Correlations between fire, smoke and air quality')\n",
    "plt.savefig('../assets/heatmap.png')"
   ]
  },
  {
   "cell_type": "code",
   "execution_count": null,
   "metadata": {
    "ExecuteTime": {
     "start_time": "2021-05-21T05:57:08.810Z"
    },
    "scrolled": true
   },
   "outputs": [],
   "source": [
    "#relationships\n",
    "#pairplot\n",
    "\n",
    "sns.pairplot(merged)\n",
    "plt.title('Relationships between air, fire, and smoke')\n",
    "#plt.savefig('../assets/pairplot.png');"
   ]
  },
  {
   "cell_type": "markdown",
   "metadata": {},
   "source": [
    "From the pairplot, we see potential relationships between:\n",
    "\n",
    "* no2_max_ppb and co_max_ppm\n",
    "* burnbndlat and lat_smo (burn and smoke latitude)\n",
    "* burnbndlon and lon_smo (burn and smoke longitude)\n",
    "\n",
    "In addition, from the heatmap, the following have the strongest correlations:\n",
    "\n",
    "* no2 AQI and so2 AQI,\n",
    "* co2 AQI and no2 AQI\n",
    "* co AQI and o3 AQI\n",
    "* no2_max and burning acreage\n",
    "\n",
    "It is not suprising that different pollutants in the air would have a connection, and it's even more interesting that they may interact."
   ]
  }
 ],
 "metadata": {
  "kernelspec": {
   "display_name": "Python 3",
   "language": "python",
   "name": "python3"
  },
  "language_info": {
   "codemirror_mode": {
    "name": "ipython",
    "version": 3
   },
   "file_extension": ".py",
   "mimetype": "text/x-python",
   "name": "python",
   "nbconvert_exporter": "python",
   "pygments_lexer": "ipython3",
   "version": "3.8.3"
  },
  "toc": {
   "base_numbering": 1,
   "nav_menu": {},
   "number_sections": true,
   "sideBar": true,
   "skip_h1_title": false,
   "title_cell": "Table of Contents",
   "title_sidebar": "Contents",
   "toc_cell": false,
   "toc_position": {
    "height": "calc(100% - 180px)",
    "left": "10px",
    "top": "150px",
    "width": "199.797px"
   },
   "toc_section_display": true,
   "toc_window_display": true
  },
  "varInspector": {
   "cols": {
    "lenName": 16,
    "lenType": 16,
    "lenVar": 40
   },
   "kernels_config": {
    "python": {
     "delete_cmd_postfix": "",
     "delete_cmd_prefix": "del ",
     "library": "var_list.py",
     "varRefreshCmd": "print(var_dic_list())"
    },
    "r": {
     "delete_cmd_postfix": ") ",
     "delete_cmd_prefix": "rm(",
     "library": "var_list.r",
     "varRefreshCmd": "cat(var_dic_list()) "
    }
   },
   "types_to_exclude": [
    "module",
    "function",
    "builtin_function_or_method",
    "instance",
    "_Feature"
   ],
   "window_display": false
  }
 },
 "nbformat": 4,
 "nbformat_minor": 4
}
