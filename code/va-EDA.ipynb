{
 "cells": [
  {
   "cell_type": "markdown",
   "metadata": {},
   "source": [
    "# How do coastal wildfires emissoins impact air quality?"
   ]
  },
  {
   "cell_type": "markdown",
   "metadata": {},
   "source": [
    "_This is an EDA notebook. Other notebooks, including for scraping / data acquisition and modeling, can be found in the same `/code/` folder._\n",
    "\n",
    "Our team:\n",
    "\n",
    "* Helen Meigs\n",
    "* Veronica Antonova\n",
    "* Riley Robertson"
   ]
  },
  {
   "cell_type": "markdown",
   "metadata": {},
   "source": [
    "Let's start with all the required library imports to read in and analyze our data."
   ]
  },
  {
   "cell_type": "code",
   "execution_count": null,
   "metadata": {
    "ExecuteTime": {
     "end_time": "2021-05-17T07:21:28.948218Z",
     "start_time": "2021-05-17T07:21:21.204Z"
    }
   },
   "outputs": [],
   "source": [
    "import pandas as pd, matplotlib.pyplot as plt, seaborn as sns, \\\n",
    "numpy as np"
   ]
  },
  {
   "cell_type": "markdown",
   "metadata": {},
   "source": [
    "We have several major areas requiring analysis:\n",
    "\n",
    "1. Air pollution / quality data\n",
    "2. Fire and smoke data"
   ]
  },
  {
   "cell_type": "markdown",
   "metadata": {},
   "source": [
    "## Data dictionary"
   ]
  },
  {
   "cell_type": "markdown",
   "metadata": {},
   "source": []
  },
  {
   "cell_type": "markdown",
   "metadata": {},
   "source": [
    "## Pollution"
   ]
  },
  {
   "cell_type": "markdown",
   "metadata": {},
   "source": [
    "Questions to be answered:\n",
    "\n",
    "* Relationship in the max / peak time of the different pollutants\n"
   ]
  },
  {
   "cell_type": "markdown",
   "metadata": {},
   "source": [
    "Let's read in our data."
   ]
  },
  {
   "cell_type": "markdown",
   "metadata": {},
   "source": [
    "* Pollution dataset source: https://www.kaggle.com/sogun3/uspollution\n",
    "* PM2.5 dataset source: Kaggle"
   ]
  },
  {
   "cell_type": "code",
   "execution_count": 2,
   "metadata": {
    "ExecuteTime": {
     "end_time": "2021-05-17T05:53:25.031840Z",
     "start_time": "2021-05-17T05:53:17.863122Z"
    }
   },
   "outputs": [],
   "source": [
    "#syntactic ref from https://towardsdatascience.com/how-to-read-csv-file-using-pandas-ab1f5e7e7b58\n",
    "pollution = pd.read_csv(\n",
    "    '../data/pollution/pollution_us_2000_2016.csv',#, index_col = 'Unnamed:0')\n",
    "usecols=['State Code', 'County Code', 'Site Num', 'Address',\n",
    "       'State', 'County', 'City', 'Date Local', 'NO2 Units', 'NO2 Mean',\n",
    "       'NO2 1st Max Value', 'NO2 1st Max Hour', 'NO2 AQI', 'O3 Units',\n",
    "       'O3 Mean', 'O3 1st Max Value', 'O3 1st Max Hour', 'O3 AQI', 'SO2 Units',\n",
    "       'SO2 Mean', 'SO2 1st Max Value', 'SO2 1st Max Hour', 'SO2 AQI',\n",
    "       'CO Units', 'CO Mean', 'CO 1st Max Value', 'CO 1st Max Hour', 'CO AQI']\n",
    ")"
   ]
  },
  {
   "cell_type": "code",
   "execution_count": 3,
   "metadata": {
    "ExecuteTime": {
     "end_time": "2021-05-17T05:53:25.043436Z",
     "start_time": "2021-05-17T05:53:25.034075Z"
    }
   },
   "outputs": [],
   "source": [
    "#air_q = pd.read_csv() #insert Riley's merged daily and / or hourly files\n",
    "#file_test = '../data/daily_data.dat'\n",
    "#pd.read_csv(file_test, sep='|', header=None)"
   ]
  },
  {
   "cell_type": "markdown",
   "metadata": {},
   "source": [
    "### Pollution dataset exploration"
   ]
  },
  {
   "cell_type": "markdown",
   "metadata": {},
   "source": [
    "Let's understand the structure of our files."
   ]
  },
  {
   "cell_type": "code",
   "execution_count": 4,
   "metadata": {
    "ExecuteTime": {
     "end_time": "2021-05-17T05:53:25.077932Z",
     "start_time": "2021-05-17T05:53:25.046403Z"
    },
    "scrolled": true
   },
   "outputs": [
    {
     "data": {
      "text/plain": [
       "Index(['State Code', 'County Code', 'Site Num', 'Address', 'State', 'County',\n",
       "       'City', 'Date Local', 'NO2 Units', 'NO2 Mean', 'NO2 1st Max Value',\n",
       "       'NO2 1st Max Hour', 'NO2 AQI', 'O3 Units', 'O3 Mean',\n",
       "       'O3 1st Max Value', 'O3 1st Max Hour', 'O3 AQI', 'SO2 Units',\n",
       "       'SO2 Mean', 'SO2 1st Max Value', 'SO2 1st Max Hour', 'SO2 AQI',\n",
       "       'CO Units', 'CO Mean', 'CO 1st Max Value', 'CO 1st Max Hour', 'CO AQI'],\n",
       "      dtype='object')"
      ]
     },
     "execution_count": 4,
     "metadata": {},
     "output_type": "execute_result"
    }
   ],
   "source": [
    "pollution.columns"
   ]
  },
  {
   "cell_type": "code",
   "execution_count": 5,
   "metadata": {
    "ExecuteTime": {
     "end_time": "2021-05-17T05:53:25.114307Z",
     "start_time": "2021-05-17T05:53:25.088922Z"
    }
   },
   "outputs": [
    {
     "data": {
      "text/plain": [
       "State Code             int64\n",
       "County Code            int64\n",
       "Site Num               int64\n",
       "Address               object\n",
       "State                 object\n",
       "County                object\n",
       "City                  object\n",
       "Date Local            object\n",
       "NO2 Units             object\n",
       "NO2 Mean             float64\n",
       "NO2 1st Max Value    float64\n",
       "NO2 1st Max Hour       int64\n",
       "NO2 AQI                int64\n",
       "O3 Units              object\n",
       "O3 Mean              float64\n",
       "O3 1st Max Value     float64\n",
       "O3 1st Max Hour        int64\n",
       "O3 AQI                 int64\n",
       "SO2 Units             object\n",
       "SO2 Mean             float64\n",
       "SO2 1st Max Value    float64\n",
       "SO2 1st Max Hour       int64\n",
       "SO2 AQI              float64\n",
       "CO Units              object\n",
       "CO Mean              float64\n",
       "CO 1st Max Value     float64\n",
       "CO 1st Max Hour        int64\n",
       "CO AQI               float64\n",
       "dtype: object"
      ]
     },
     "execution_count": 5,
     "metadata": {},
     "output_type": "execute_result"
    }
   ],
   "source": [
    "pollution.dtypes"
   ]
  },
  {
   "cell_type": "markdown",
   "metadata": {},
   "source": [
    "We have a few columns acting as numeric, when they are not; let's convert them."
   ]
  },
  {
   "cell_type": "code",
   "execution_count": 6,
   "metadata": {
    "ExecuteTime": {
     "end_time": "2021-05-17T05:53:26.847825Z",
     "start_time": "2021-05-17T05:53:25.119656Z"
    }
   },
   "outputs": [],
   "source": [
    "#from docstring: df.astype({'col1': 'int32'}).dtypes\n",
    "pollution['State Code'] = pollution.astype(\n",
    "    {'State Code': 'category'}).dtypes"
   ]
  },
  {
   "cell_type": "code",
   "execution_count": 7,
   "metadata": {
    "ExecuteTime": {
     "end_time": "2021-05-17T05:53:28.207019Z",
     "start_time": "2021-05-17T05:53:26.850463Z"
    }
   },
   "outputs": [],
   "source": [
    "pollution['County Code'] = pollution.astype(\n",
    "    {'County Code': 'category'}).dtypes"
   ]
  },
  {
   "cell_type": "code",
   "execution_count": 8,
   "metadata": {
    "ExecuteTime": {
     "end_time": "2021-05-17T05:53:29.331702Z",
     "start_time": "2021-05-17T05:53:28.212649Z"
    }
   },
   "outputs": [],
   "source": [
    "pollution['Site Num'] = pollution.astype(\n",
    "    {'Site Num': 'category'}).dtypes"
   ]
  },
  {
   "cell_type": "code",
   "execution_count": 9,
   "metadata": {
    "ExecuteTime": {
     "end_time": "2021-05-17T05:53:29.354019Z",
     "start_time": "2021-05-17T05:53:29.334575Z"
    }
   },
   "outputs": [
    {
     "data": {
      "text/plain": [
       "State Code            object\n",
       "County Code           object\n",
       "Site Num              object\n",
       "Address               object\n",
       "State                 object\n",
       "County                object\n",
       "City                  object\n",
       "Date Local            object\n",
       "NO2 Units             object\n",
       "NO2 Mean             float64\n",
       "NO2 1st Max Value    float64\n",
       "NO2 1st Max Hour       int64\n",
       "NO2 AQI                int64\n",
       "O3 Units              object\n",
       "O3 Mean              float64\n",
       "O3 1st Max Value     float64\n",
       "O3 1st Max Hour        int64\n",
       "O3 AQI                 int64\n",
       "SO2 Units             object\n",
       "SO2 Mean             float64\n",
       "SO2 1st Max Value    float64\n",
       "SO2 1st Max Hour       int64\n",
       "SO2 AQI              float64\n",
       "CO Units              object\n",
       "CO Mean              float64\n",
       "CO 1st Max Value     float64\n",
       "CO 1st Max Hour        int64\n",
       "CO AQI               float64\n",
       "dtype: object"
      ]
     },
     "execution_count": 9,
     "metadata": {},
     "output_type": "execute_result"
    }
   ],
   "source": [
    "#confirm types now\n",
    "pollution.dtypes"
   ]
  },
  {
   "cell_type": "markdown",
   "metadata": {},
   "source": [
    "How big is our data?"
   ]
  },
  {
   "cell_type": "code",
   "execution_count": 10,
   "metadata": {
    "ExecuteTime": {
     "end_time": "2021-05-17T05:53:29.390582Z",
     "start_time": "2021-05-17T05:53:29.363481Z"
    }
   },
   "outputs": [
    {
     "data": {
      "text/plain": [
       "(1746661, 28)"
      ]
     },
     "execution_count": 10,
     "metadata": {},
     "output_type": "execute_result"
    }
   ],
   "source": [
    "pollution.shape"
   ]
  },
  {
   "cell_type": "markdown",
   "metadata": {},
   "source": [
    "Let's see, what's inside our data."
   ]
  },
  {
   "cell_type": "code",
   "execution_count": 11,
   "metadata": {
    "ExecuteTime": {
     "end_time": "2021-05-17T05:53:29.440726Z",
     "start_time": "2021-05-17T05:53:29.395947Z"
    },
    "scrolled": false
   },
   "outputs": [
    {
     "data": {
      "text/html": [
       "<div>\n",
       "<style scoped>\n",
       "    .dataframe tbody tr th:only-of-type {\n",
       "        vertical-align: middle;\n",
       "    }\n",
       "\n",
       "    .dataframe tbody tr th {\n",
       "        vertical-align: top;\n",
       "    }\n",
       "\n",
       "    .dataframe thead th {\n",
       "        text-align: right;\n",
       "    }\n",
       "</style>\n",
       "<table border=\"1\" class=\"dataframe\">\n",
       "  <thead>\n",
       "    <tr style=\"text-align: right;\">\n",
       "      <th></th>\n",
       "      <th>0</th>\n",
       "      <th>1</th>\n",
       "    </tr>\n",
       "  </thead>\n",
       "  <tbody>\n",
       "    <tr>\n",
       "      <th>State Code</th>\n",
       "      <td>NaN</td>\n",
       "      <td>NaN</td>\n",
       "    </tr>\n",
       "    <tr>\n",
       "      <th>County Code</th>\n",
       "      <td>NaN</td>\n",
       "      <td>NaN</td>\n",
       "    </tr>\n",
       "    <tr>\n",
       "      <th>Site Num</th>\n",
       "      <td>NaN</td>\n",
       "      <td>NaN</td>\n",
       "    </tr>\n",
       "    <tr>\n",
       "      <th>Address</th>\n",
       "      <td>1645 E ROOSEVELT ST-CENTRAL PHOENIX STN</td>\n",
       "      <td>1645 E ROOSEVELT ST-CENTRAL PHOENIX STN</td>\n",
       "    </tr>\n",
       "    <tr>\n",
       "      <th>State</th>\n",
       "      <td>Arizona</td>\n",
       "      <td>Arizona</td>\n",
       "    </tr>\n",
       "    <tr>\n",
       "      <th>County</th>\n",
       "      <td>Maricopa</td>\n",
       "      <td>Maricopa</td>\n",
       "    </tr>\n",
       "    <tr>\n",
       "      <th>City</th>\n",
       "      <td>Phoenix</td>\n",
       "      <td>Phoenix</td>\n",
       "    </tr>\n",
       "    <tr>\n",
       "      <th>Date Local</th>\n",
       "      <td>2000-01-01</td>\n",
       "      <td>2000-01-01</td>\n",
       "    </tr>\n",
       "    <tr>\n",
       "      <th>NO2 Units</th>\n",
       "      <td>Parts per billion</td>\n",
       "      <td>Parts per billion</td>\n",
       "    </tr>\n",
       "    <tr>\n",
       "      <th>NO2 Mean</th>\n",
       "      <td>19.0417</td>\n",
       "      <td>19.0417</td>\n",
       "    </tr>\n",
       "    <tr>\n",
       "      <th>NO2 1st Max Value</th>\n",
       "      <td>49</td>\n",
       "      <td>49</td>\n",
       "    </tr>\n",
       "    <tr>\n",
       "      <th>NO2 1st Max Hour</th>\n",
       "      <td>19</td>\n",
       "      <td>19</td>\n",
       "    </tr>\n",
       "    <tr>\n",
       "      <th>NO2 AQI</th>\n",
       "      <td>46</td>\n",
       "      <td>46</td>\n",
       "    </tr>\n",
       "    <tr>\n",
       "      <th>O3 Units</th>\n",
       "      <td>Parts per million</td>\n",
       "      <td>Parts per million</td>\n",
       "    </tr>\n",
       "    <tr>\n",
       "      <th>O3 Mean</th>\n",
       "      <td>0.0225</td>\n",
       "      <td>0.0225</td>\n",
       "    </tr>\n",
       "    <tr>\n",
       "      <th>O3 1st Max Value</th>\n",
       "      <td>0.04</td>\n",
       "      <td>0.04</td>\n",
       "    </tr>\n",
       "    <tr>\n",
       "      <th>O3 1st Max Hour</th>\n",
       "      <td>10</td>\n",
       "      <td>10</td>\n",
       "    </tr>\n",
       "    <tr>\n",
       "      <th>O3 AQI</th>\n",
       "      <td>34</td>\n",
       "      <td>34</td>\n",
       "    </tr>\n",
       "    <tr>\n",
       "      <th>SO2 Units</th>\n",
       "      <td>Parts per billion</td>\n",
       "      <td>Parts per billion</td>\n",
       "    </tr>\n",
       "    <tr>\n",
       "      <th>SO2 Mean</th>\n",
       "      <td>3</td>\n",
       "      <td>3</td>\n",
       "    </tr>\n",
       "    <tr>\n",
       "      <th>SO2 1st Max Value</th>\n",
       "      <td>9</td>\n",
       "      <td>9</td>\n",
       "    </tr>\n",
       "    <tr>\n",
       "      <th>SO2 1st Max Hour</th>\n",
       "      <td>21</td>\n",
       "      <td>21</td>\n",
       "    </tr>\n",
       "    <tr>\n",
       "      <th>SO2 AQI</th>\n",
       "      <td>13</td>\n",
       "      <td>13</td>\n",
       "    </tr>\n",
       "    <tr>\n",
       "      <th>CO Units</th>\n",
       "      <td>Parts per million</td>\n",
       "      <td>Parts per million</td>\n",
       "    </tr>\n",
       "    <tr>\n",
       "      <th>CO Mean</th>\n",
       "      <td>1.14583</td>\n",
       "      <td>0.878947</td>\n",
       "    </tr>\n",
       "    <tr>\n",
       "      <th>CO 1st Max Value</th>\n",
       "      <td>4.2</td>\n",
       "      <td>2.2</td>\n",
       "    </tr>\n",
       "    <tr>\n",
       "      <th>CO 1st Max Hour</th>\n",
       "      <td>21</td>\n",
       "      <td>23</td>\n",
       "    </tr>\n",
       "    <tr>\n",
       "      <th>CO AQI</th>\n",
       "      <td>NaN</td>\n",
       "      <td>25</td>\n",
       "    </tr>\n",
       "  </tbody>\n",
       "</table>\n",
       "</div>"
      ],
      "text/plain": [
       "                                                         0  \\\n",
       "State Code                                             NaN   \n",
       "County Code                                            NaN   \n",
       "Site Num                                               NaN   \n",
       "Address            1645 E ROOSEVELT ST-CENTRAL PHOENIX STN   \n",
       "State                                              Arizona   \n",
       "County                                            Maricopa   \n",
       "City                                               Phoenix   \n",
       "Date Local                                      2000-01-01   \n",
       "NO2 Units                                Parts per billion   \n",
       "NO2 Mean                                           19.0417   \n",
       "NO2 1st Max Value                                       49   \n",
       "NO2 1st Max Hour                                        19   \n",
       "NO2 AQI                                                 46   \n",
       "O3 Units                                 Parts per million   \n",
       "O3 Mean                                             0.0225   \n",
       "O3 1st Max Value                                      0.04   \n",
       "O3 1st Max Hour                                         10   \n",
       "O3 AQI                                                  34   \n",
       "SO2 Units                                Parts per billion   \n",
       "SO2 Mean                                                 3   \n",
       "SO2 1st Max Value                                        9   \n",
       "SO2 1st Max Hour                                        21   \n",
       "SO2 AQI                                                 13   \n",
       "CO Units                                 Parts per million   \n",
       "CO Mean                                            1.14583   \n",
       "CO 1st Max Value                                       4.2   \n",
       "CO 1st Max Hour                                         21   \n",
       "CO AQI                                                 NaN   \n",
       "\n",
       "                                                         1  \n",
       "State Code                                             NaN  \n",
       "County Code                                            NaN  \n",
       "Site Num                                               NaN  \n",
       "Address            1645 E ROOSEVELT ST-CENTRAL PHOENIX STN  \n",
       "State                                              Arizona  \n",
       "County                                            Maricopa  \n",
       "City                                               Phoenix  \n",
       "Date Local                                      2000-01-01  \n",
       "NO2 Units                                Parts per billion  \n",
       "NO2 Mean                                           19.0417  \n",
       "NO2 1st Max Value                                       49  \n",
       "NO2 1st Max Hour                                        19  \n",
       "NO2 AQI                                                 46  \n",
       "O3 Units                                 Parts per million  \n",
       "O3 Mean                                             0.0225  \n",
       "O3 1st Max Value                                      0.04  \n",
       "O3 1st Max Hour                                         10  \n",
       "O3 AQI                                                  34  \n",
       "SO2 Units                                Parts per billion  \n",
       "SO2 Mean                                                 3  \n",
       "SO2 1st Max Value                                        9  \n",
       "SO2 1st Max Hour                                        21  \n",
       "SO2 AQI                                                 13  \n",
       "CO Units                                 Parts per million  \n",
       "CO Mean                                           0.878947  \n",
       "CO 1st Max Value                                       2.2  \n",
       "CO 1st Max Hour                                         23  \n",
       "CO AQI                                                  25  "
      ]
     },
     "execution_count": 11,
     "metadata": {},
     "output_type": "execute_result"
    }
   ],
   "source": [
    "pollution.head(2).T"
   ]
  },
  {
   "cell_type": "code",
   "execution_count": 12,
   "metadata": {
    "ExecuteTime": {
     "end_time": "2021-05-17T05:53:31.091411Z",
     "start_time": "2021-05-17T05:53:29.453342Z"
    }
   },
   "outputs": [
    {
     "data": {
      "text/html": [
       "<div>\n",
       "<style scoped>\n",
       "    .dataframe tbody tr th:only-of-type {\n",
       "        vertical-align: middle;\n",
       "    }\n",
       "\n",
       "    .dataframe tbody tr th {\n",
       "        vertical-align: top;\n",
       "    }\n",
       "\n",
       "    .dataframe thead th {\n",
       "        text-align: right;\n",
       "    }\n",
       "</style>\n",
       "<table border=\"1\" class=\"dataframe\">\n",
       "  <thead>\n",
       "    <tr style=\"text-align: right;\">\n",
       "      <th></th>\n",
       "      <th>count</th>\n",
       "      <th>mean</th>\n",
       "      <th>std</th>\n",
       "      <th>min</th>\n",
       "      <th>25%</th>\n",
       "      <th>50%</th>\n",
       "      <th>75%</th>\n",
       "      <th>max</th>\n",
       "    </tr>\n",
       "  </thead>\n",
       "  <tbody>\n",
       "    <tr>\n",
       "      <th>NO2 Mean</th>\n",
       "      <td>1746661.0</td>\n",
       "      <td>12.8219</td>\n",
       "      <td>9.5048</td>\n",
       "      <td>-2.0000</td>\n",
       "      <td>5.7500</td>\n",
       "      <td>10.7391</td>\n",
       "      <td>17.7136</td>\n",
       "      <td>139.5417</td>\n",
       "    </tr>\n",
       "    <tr>\n",
       "      <th>NO2 1st Max Value</th>\n",
       "      <td>1746661.0</td>\n",
       "      <td>25.4148</td>\n",
       "      <td>15.9996</td>\n",
       "      <td>-2.0000</td>\n",
       "      <td>13.0000</td>\n",
       "      <td>24.0000</td>\n",
       "      <td>35.7000</td>\n",
       "      <td>267.0000</td>\n",
       "    </tr>\n",
       "    <tr>\n",
       "      <th>NO2 1st Max Hour</th>\n",
       "      <td>1746661.0</td>\n",
       "      <td>11.7310</td>\n",
       "      <td>7.8775</td>\n",
       "      <td>0.0000</td>\n",
       "      <td>5.0000</td>\n",
       "      <td>9.0000</td>\n",
       "      <td>20.0000</td>\n",
       "      <td>23.0000</td>\n",
       "    </tr>\n",
       "    <tr>\n",
       "      <th>NO2 AQI</th>\n",
       "      <td>1746661.0</td>\n",
       "      <td>23.8982</td>\n",
       "      <td>15.1628</td>\n",
       "      <td>0.0000</td>\n",
       "      <td>12.0000</td>\n",
       "      <td>23.0000</td>\n",
       "      <td>33.0000</td>\n",
       "      <td>132.0000</td>\n",
       "    </tr>\n",
       "    <tr>\n",
       "      <th>O3 Mean</th>\n",
       "      <td>1746661.0</td>\n",
       "      <td>0.0261</td>\n",
       "      <td>0.0114</td>\n",
       "      <td>0.0000</td>\n",
       "      <td>0.0179</td>\n",
       "      <td>0.0259</td>\n",
       "      <td>0.0339</td>\n",
       "      <td>0.0951</td>\n",
       "    </tr>\n",
       "    <tr>\n",
       "      <th>O3 1st Max Value</th>\n",
       "      <td>1746661.0</td>\n",
       "      <td>0.0392</td>\n",
       "      <td>0.0153</td>\n",
       "      <td>0.0000</td>\n",
       "      <td>0.0290</td>\n",
       "      <td>0.0380</td>\n",
       "      <td>0.0480</td>\n",
       "      <td>0.1410</td>\n",
       "    </tr>\n",
       "    <tr>\n",
       "      <th>O3 1st Max Hour</th>\n",
       "      <td>1746661.0</td>\n",
       "      <td>10.1705</td>\n",
       "      <td>4.0031</td>\n",
       "      <td>0.0000</td>\n",
       "      <td>9.0000</td>\n",
       "      <td>10.0000</td>\n",
       "      <td>11.0000</td>\n",
       "      <td>23.0000</td>\n",
       "    </tr>\n",
       "    <tr>\n",
       "      <th>O3 AQI</th>\n",
       "      <td>1746661.0</td>\n",
       "      <td>36.0501</td>\n",
       "      <td>19.7804</td>\n",
       "      <td>0.0000</td>\n",
       "      <td>25.0000</td>\n",
       "      <td>33.0000</td>\n",
       "      <td>42.0000</td>\n",
       "      <td>218.0000</td>\n",
       "    </tr>\n",
       "    <tr>\n",
       "      <th>SO2 Mean</th>\n",
       "      <td>1746661.0</td>\n",
       "      <td>1.8704</td>\n",
       "      <td>2.7604</td>\n",
       "      <td>-2.0000</td>\n",
       "      <td>0.2565</td>\n",
       "      <td>0.9875</td>\n",
       "      <td>2.3250</td>\n",
       "      <td>321.6250</td>\n",
       "    </tr>\n",
       "    <tr>\n",
       "      <th>SO2 1st Max Value</th>\n",
       "      <td>1746661.0</td>\n",
       "      <td>4.4922</td>\n",
       "      <td>7.6799</td>\n",
       "      <td>-2.0000</td>\n",
       "      <td>0.8000</td>\n",
       "      <td>2.0000</td>\n",
       "      <td>5.0000</td>\n",
       "      <td>351.0000</td>\n",
       "    </tr>\n",
       "    <tr>\n",
       "      <th>SO2 1st Max Hour</th>\n",
       "      <td>1746661.0</td>\n",
       "      <td>9.6649</td>\n",
       "      <td>6.7312</td>\n",
       "      <td>0.0000</td>\n",
       "      <td>5.0000</td>\n",
       "      <td>8.0000</td>\n",
       "      <td>14.0000</td>\n",
       "      <td>23.0000</td>\n",
       "    </tr>\n",
       "    <tr>\n",
       "      <th>SO2 AQI</th>\n",
       "      <td>873754.0</td>\n",
       "      <td>7.1159</td>\n",
       "      <td>11.9375</td>\n",
       "      <td>0.0000</td>\n",
       "      <td>1.0000</td>\n",
       "      <td>3.0000</td>\n",
       "      <td>9.0000</td>\n",
       "      <td>200.0000</td>\n",
       "    </tr>\n",
       "    <tr>\n",
       "      <th>CO Mean</th>\n",
       "      <td>1746661.0</td>\n",
       "      <td>0.3682</td>\n",
       "      <td>0.3140</td>\n",
       "      <td>-0.4375</td>\n",
       "      <td>0.1835</td>\n",
       "      <td>0.2926</td>\n",
       "      <td>0.4667</td>\n",
       "      <td>7.5083</td>\n",
       "    </tr>\n",
       "    <tr>\n",
       "      <th>CO 1st Max Value</th>\n",
       "      <td>1746661.0</td>\n",
       "      <td>0.6201</td>\n",
       "      <td>0.6439</td>\n",
       "      <td>-0.4000</td>\n",
       "      <td>0.2920</td>\n",
       "      <td>0.4000</td>\n",
       "      <td>0.8000</td>\n",
       "      <td>19.9000</td>\n",
       "    </tr>\n",
       "    <tr>\n",
       "      <th>CO 1st Max Hour</th>\n",
       "      <td>1746661.0</td>\n",
       "      <td>7.8750</td>\n",
       "      <td>7.9788</td>\n",
       "      <td>0.0000</td>\n",
       "      <td>0.0000</td>\n",
       "      <td>6.0000</td>\n",
       "      <td>13.0000</td>\n",
       "      <td>23.0000</td>\n",
       "    </tr>\n",
       "    <tr>\n",
       "      <th>CO AQI</th>\n",
       "      <td>873338.0</td>\n",
       "      <td>5.9966</td>\n",
       "      <td>5.8518</td>\n",
       "      <td>0.0000</td>\n",
       "      <td>2.0000</td>\n",
       "      <td>5.0000</td>\n",
       "      <td>8.0000</td>\n",
       "      <td>201.0000</td>\n",
       "    </tr>\n",
       "  </tbody>\n",
       "</table>\n",
       "</div>"
      ],
      "text/plain": [
       "                       count     mean      std     min      25%      50%  \\\n",
       "NO2 Mean           1746661.0  12.8219   9.5048 -2.0000   5.7500  10.7391   \n",
       "NO2 1st Max Value  1746661.0  25.4148  15.9996 -2.0000  13.0000  24.0000   \n",
       "NO2 1st Max Hour   1746661.0  11.7310   7.8775  0.0000   5.0000   9.0000   \n",
       "NO2 AQI            1746661.0  23.8982  15.1628  0.0000  12.0000  23.0000   \n",
       "O3 Mean            1746661.0   0.0261   0.0114  0.0000   0.0179   0.0259   \n",
       "O3 1st Max Value   1746661.0   0.0392   0.0153  0.0000   0.0290   0.0380   \n",
       "O3 1st Max Hour    1746661.0  10.1705   4.0031  0.0000   9.0000  10.0000   \n",
       "O3 AQI             1746661.0  36.0501  19.7804  0.0000  25.0000  33.0000   \n",
       "SO2 Mean           1746661.0   1.8704   2.7604 -2.0000   0.2565   0.9875   \n",
       "SO2 1st Max Value  1746661.0   4.4922   7.6799 -2.0000   0.8000   2.0000   \n",
       "SO2 1st Max Hour   1746661.0   9.6649   6.7312  0.0000   5.0000   8.0000   \n",
       "SO2 AQI             873754.0   7.1159  11.9375  0.0000   1.0000   3.0000   \n",
       "CO Mean            1746661.0   0.3682   0.3140 -0.4375   0.1835   0.2926   \n",
       "CO 1st Max Value   1746661.0   0.6201   0.6439 -0.4000   0.2920   0.4000   \n",
       "CO 1st Max Hour    1746661.0   7.8750   7.9788  0.0000   0.0000   6.0000   \n",
       "CO AQI              873338.0   5.9966   5.8518  0.0000   2.0000   5.0000   \n",
       "\n",
       "                       75%       max  \n",
       "NO2 Mean           17.7136  139.5417  \n",
       "NO2 1st Max Value  35.7000  267.0000  \n",
       "NO2 1st Max Hour   20.0000   23.0000  \n",
       "NO2 AQI            33.0000  132.0000  \n",
       "O3 Mean             0.0339    0.0951  \n",
       "O3 1st Max Value    0.0480    0.1410  \n",
       "O3 1st Max Hour    11.0000   23.0000  \n",
       "O3 AQI             42.0000  218.0000  \n",
       "SO2 Mean            2.3250  321.6250  \n",
       "SO2 1st Max Value   5.0000  351.0000  \n",
       "SO2 1st Max Hour   14.0000   23.0000  \n",
       "SO2 AQI             9.0000  200.0000  \n",
       "CO Mean             0.4667    7.5083  \n",
       "CO 1st Max Value    0.8000   19.9000  \n",
       "CO 1st Max Hour    13.0000   23.0000  \n",
       "CO AQI              8.0000  201.0000  "
      ]
     },
     "execution_count": 12,
     "metadata": {},
     "output_type": "execute_result"
    }
   ],
   "source": [
    "pollution.describe().T.round(4)"
   ]
  },
  {
   "cell_type": "markdown",
   "metadata": {},
   "source": [
    "Which states have the most emissions?"
   ]
  },
  {
   "cell_type": "code",
   "execution_count": 13,
   "metadata": {
    "ExecuteTime": {
     "end_time": "2021-05-17T05:53:31.367701Z",
     "start_time": "2021-05-17T05:53:31.111313Z"
    }
   },
   "outputs": [
    {
     "data": {
      "text/plain": [
       "California              576142\n",
       "Pennsylvania            188892\n",
       "Texas                   123208\n",
       "New York                 70487\n",
       "Arizona                  69840\n",
       "Illinois                 50116\n",
       "North Carolina           37126\n",
       "Virginia                 36422\n",
       "Arkansas                 35332\n",
       "Colorado                 35188\n",
       "Oklahoma                 34420\n",
       "Kansas                   31480\n",
       "Connecticut              29933\n",
       "New Jersey               26732\n",
       "Florida                  25918\n",
       "Iowa                     25850\n",
       "District Of Columbia     25696\n",
       "Louisiana                23874\n",
       "Maine                    23623\n",
       "Maryland                 23538\n",
       "Ohio                     22934\n",
       "Massachusetts            21572\n",
       "Hawaii                   20276\n",
       "Missouri                 19778\n",
       "Kentucky                 14686\n",
       "Indiana                  13926\n",
       "Wyoming                  13048\n",
       "Oregon                   11794\n",
       "North Dakota             11018\n",
       "Nevada                    9698\n",
       "Country Of Mexico         9506\n",
       "New Hampshire             9294\n",
       "Utah                      8668\n",
       "South Dakota              8316\n",
       "Michigan                  8182\n",
       "Georgia                   7722\n",
       "New Mexico                7130\n",
       "South Carolina            6536\n",
       "Rhode Island              6324\n",
       "Tennessee                 5842\n",
       "Delaware                  3630\n",
       "Minnesota                 3558\n",
       "Alabama                   3126\n",
       "Alaska                    1974\n",
       "Idaho                     1828\n",
       "Wisconsin                 1516\n",
       "Washington                 962\n",
       "Name: State, dtype: int64"
      ]
     },
     "execution_count": 13,
     "metadata": {},
     "output_type": "execute_result"
    }
   ],
   "source": [
    "pollution['State'].value_counts()"
   ]
  },
  {
   "cell_type": "markdown",
   "metadata": {},
   "source": [
    "Most of our emissions are found in the following:\n",
    "\n",
    "California              \n",
    "Pennsylvania            \n",
    "Texas                   \n",
    "New York                 \n",
    "Arizona\n",
    "\n",
    "However, for purposes, we are going to concentrate on states west of the Rocky mountains."
   ]
  },
  {
   "cell_type": "markdown",
   "metadata": {},
   "source": [
    "State lines are superficial for purposes of understanding movement of fires. So the idea here is that the Rockies provide a better 'line' for us to make a cutoff, since they really do break airflow, and there will be drastically different air-quality and pollution-scapes to the east v. west."
   ]
  },
  {
   "cell_type": "code",
   "execution_count": null,
   "metadata": {},
   "outputs": [],
   "source": [
    "#dist"
   ]
  },
  {
   "cell_type": "markdown",
   "metadata": {},
   "source": [
    "### Particulate matter dataset"
   ]
  },
  {
   "cell_type": "markdown",
   "metadata": {},
   "source": [
    "We will repeat the initial file review steps for the PM dataset as well."
   ]
  },
  {
   "cell_type": "code",
   "execution_count": 14,
   "metadata": {
    "ExecuteTime": {
     "end_time": "2021-05-17T05:53:34.187434Z",
     "start_time": "2021-05-17T05:53:31.376864Z"
    }
   },
   "outputs": [],
   "source": [
    "#pull in file\n",
    "pm = pd.read_csv('../data/pollution/pm2.5_epa_2010_2017.csv')"
   ]
  },
  {
   "cell_type": "code",
   "execution_count": 15,
   "metadata": {
    "ExecuteTime": {
     "end_time": "2021-05-17T05:53:34.490061Z",
     "start_time": "2021-05-17T05:53:34.424588Z"
    }
   },
   "outputs": [
    {
     "data": {
      "text/html": [
       "<div>\n",
       "<style scoped>\n",
       "    .dataframe tbody tr th:only-of-type {\n",
       "        vertical-align: middle;\n",
       "    }\n",
       "\n",
       "    .dataframe tbody tr th {\n",
       "        vertical-align: top;\n",
       "    }\n",
       "\n",
       "    .dataframe thead th {\n",
       "        text-align: right;\n",
       "    }\n",
       "</style>\n",
       "<table border=\"1\" class=\"dataframe\">\n",
       "  <thead>\n",
       "    <tr style=\"text-align: right;\">\n",
       "      <th></th>\n",
       "      <th>state_code</th>\n",
       "      <th>county_code</th>\n",
       "      <th>site_num</th>\n",
       "      <th>parameter_code</th>\n",
       "      <th>poc</th>\n",
       "      <th>latitude</th>\n",
       "      <th>longitude</th>\n",
       "      <th>datum</th>\n",
       "      <th>parameter_name</th>\n",
       "      <th>sample_duration</th>\n",
       "      <th>...</th>\n",
       "      <th>aqi</th>\n",
       "      <th>method_code</th>\n",
       "      <th>method_name</th>\n",
       "      <th>local_site_name</th>\n",
       "      <th>address</th>\n",
       "      <th>state_name</th>\n",
       "      <th>county_name</th>\n",
       "      <th>city_name</th>\n",
       "      <th>cbsa_name</th>\n",
       "      <th>date_of_last_change</th>\n",
       "    </tr>\n",
       "  </thead>\n",
       "  <tbody>\n",
       "    <tr>\n",
       "      <th>0</th>\n",
       "      <td>6</td>\n",
       "      <td>83</td>\n",
       "      <td>9000</td>\n",
       "      <td>88128</td>\n",
       "      <td>1</td>\n",
       "      <td>34.733889</td>\n",
       "      <td>-120.008349</td>\n",
       "      <td>WGS84</td>\n",
       "      <td>Lead PM2.5 LC</td>\n",
       "      <td>24 HOUR</td>\n",
       "      <td>...</td>\n",
       "      <td>NaN</td>\n",
       "      <td>800</td>\n",
       "      <td>IMPROVE Module A with Cyclone Inlet-Teflon Fil...</td>\n",
       "      <td>San Rafael Wilderness</td>\n",
       "      <td>San Rafael</td>\n",
       "      <td>California</td>\n",
       "      <td>Santa Barbara</td>\n",
       "      <td>Not in a city</td>\n",
       "      <td>Santa Maria-Santa Barbara CA</td>\n",
       "      <td>2016-08-30</td>\n",
       "    </tr>\n",
       "    <tr>\n",
       "      <th>1</th>\n",
       "      <td>49</td>\n",
       "      <td>17</td>\n",
       "      <td>101</td>\n",
       "      <td>88132</td>\n",
       "      <td>1</td>\n",
       "      <td>37.618383</td>\n",
       "      <td>-112.174368</td>\n",
       "      <td>WGS84</td>\n",
       "      <td>Manganese PM2.5 LC</td>\n",
       "      <td>24 HOUR</td>\n",
       "      <td>...</td>\n",
       "      <td>NaN</td>\n",
       "      <td>800</td>\n",
       "      <td>IMPROVE Module A with Cyclone Inlet-Teflon Fil...</td>\n",
       "      <td>NaN</td>\n",
       "      <td>Bryce Canyon NP</td>\n",
       "      <td>Utah</td>\n",
       "      <td>Garfield</td>\n",
       "      <td>Not in a city</td>\n",
       "      <td>NaN</td>\n",
       "      <td>2015-07-28</td>\n",
       "    </tr>\n",
       "    <tr>\n",
       "      <th>2</th>\n",
       "      <td>16</td>\n",
       "      <td>23</td>\n",
       "      <td>101</td>\n",
       "      <td>88136</td>\n",
       "      <td>1</td>\n",
       "      <td>43.460556</td>\n",
       "      <td>-113.562222</td>\n",
       "      <td>WGS84</td>\n",
       "      <td>Nickel PM2.5 LC</td>\n",
       "      <td>24 HOUR</td>\n",
       "      <td>...</td>\n",
       "      <td>NaN</td>\n",
       "      <td>800</td>\n",
       "      <td>IMPROVE Module A with Cyclone Inlet-Teflon Fil...</td>\n",
       "      <td>Craters of the Moon National Monument Visitor ...</td>\n",
       "      <td>CRATERS OF THE MOON NATIONAL MON IDAHO</td>\n",
       "      <td>Idaho</td>\n",
       "      <td>Butte</td>\n",
       "      <td>Not in a city</td>\n",
       "      <td>Idaho Falls ID</td>\n",
       "      <td>2015-07-31</td>\n",
       "    </tr>\n",
       "  </tbody>\n",
       "</table>\n",
       "<p>3 rows × 29 columns</p>\n",
       "</div>"
      ],
      "text/plain": [
       "   state_code  county_code  site_num  parameter_code  poc   latitude  \\\n",
       "0           6           83      9000           88128    1  34.733889   \n",
       "1          49           17       101           88132    1  37.618383   \n",
       "2          16           23       101           88136    1  43.460556   \n",
       "\n",
       "    longitude  datum      parameter_name sample_duration  ...  aqi  \\\n",
       "0 -120.008349  WGS84       Lead PM2.5 LC         24 HOUR  ...  NaN   \n",
       "1 -112.174368  WGS84  Manganese PM2.5 LC         24 HOUR  ...  NaN   \n",
       "2 -113.562222  WGS84     Nickel PM2.5 LC         24 HOUR  ...  NaN   \n",
       "\n",
       "  method_code                                        method_name  \\\n",
       "0         800  IMPROVE Module A with Cyclone Inlet-Teflon Fil...   \n",
       "1         800  IMPROVE Module A with Cyclone Inlet-Teflon Fil...   \n",
       "2         800  IMPROVE Module A with Cyclone Inlet-Teflon Fil...   \n",
       "\n",
       "                                     local_site_name  \\\n",
       "0                              San Rafael Wilderness   \n",
       "1                                                NaN   \n",
       "2  Craters of the Moon National Monument Visitor ...   \n",
       "\n",
       "                                  address  state_name    county_name  \\\n",
       "0                              San Rafael  California  Santa Barbara   \n",
       "1                         Bryce Canyon NP        Utah       Garfield   \n",
       "2  CRATERS OF THE MOON NATIONAL MON IDAHO       Idaho          Butte   \n",
       "\n",
       "       city_name                     cbsa_name  date_of_last_change  \n",
       "0  Not in a city  Santa Maria-Santa Barbara CA           2016-08-30  \n",
       "1  Not in a city                           NaN           2015-07-28  \n",
       "2  Not in a city                Idaho Falls ID           2015-07-31  \n",
       "\n",
       "[3 rows x 29 columns]"
      ]
     },
     "execution_count": 15,
     "metadata": {},
     "output_type": "execute_result"
    }
   ],
   "source": [
    "#peek\n",
    "pm.head(3)"
   ]
  },
  {
   "cell_type": "code",
   "execution_count": 16,
   "metadata": {
    "ExecuteTime": {
     "end_time": "2021-05-17T05:53:35.043915Z",
     "start_time": "2021-05-17T05:53:34.495638Z"
    }
   },
   "outputs": [
    {
     "data": {
      "text/html": [
       "<div>\n",
       "<style scoped>\n",
       "    .dataframe tbody tr th:only-of-type {\n",
       "        vertical-align: middle;\n",
       "    }\n",
       "\n",
       "    .dataframe tbody tr th {\n",
       "        vertical-align: top;\n",
       "    }\n",
       "\n",
       "    .dataframe thead th {\n",
       "        text-align: right;\n",
       "    }\n",
       "</style>\n",
       "<table border=\"1\" class=\"dataframe\">\n",
       "  <thead>\n",
       "    <tr style=\"text-align: right;\">\n",
       "      <th></th>\n",
       "      <th>count</th>\n",
       "      <th>mean</th>\n",
       "      <th>std</th>\n",
       "      <th>min</th>\n",
       "      <th>25%</th>\n",
       "      <th>50%</th>\n",
       "      <th>75%</th>\n",
       "      <th>max</th>\n",
       "    </tr>\n",
       "  </thead>\n",
       "  <tbody>\n",
       "    <tr>\n",
       "      <th>state_code</th>\n",
       "      <td>338926.0</td>\n",
       "      <td>20.4630</td>\n",
       "      <td>20.0146</td>\n",
       "      <td>4.0000</td>\n",
       "      <td>6.0000</td>\n",
       "      <td>6.0000</td>\n",
       "      <td>41.0000</td>\n",
       "      <td>53.0000</td>\n",
       "    </tr>\n",
       "    <tr>\n",
       "      <th>county_code</th>\n",
       "      <td>338926.0</td>\n",
       "      <td>38.2106</td>\n",
       "      <td>27.5008</td>\n",
       "      <td>1.0000</td>\n",
       "      <td>17.0000</td>\n",
       "      <td>35.0000</td>\n",
       "      <td>59.0000</td>\n",
       "      <td>111.0000</td>\n",
       "    </tr>\n",
       "    <tr>\n",
       "      <th>site_num</th>\n",
       "      <td>338926.0</td>\n",
       "      <td>2935.9475</td>\n",
       "      <td>3933.8806</td>\n",
       "      <td>1.0000</td>\n",
       "      <td>10.0000</td>\n",
       "      <td>101.0000</td>\n",
       "      <td>8001.0000</td>\n",
       "      <td>9997.0000</td>\n",
       "    </tr>\n",
       "    <tr>\n",
       "      <th>parameter_code</th>\n",
       "      <td>338926.0</td>\n",
       "      <td>88121.5741</td>\n",
       "      <td>12.5566</td>\n",
       "      <td>88103.0000</td>\n",
       "      <td>88112.0000</td>\n",
       "      <td>88128.0000</td>\n",
       "      <td>88132.0000</td>\n",
       "      <td>88136.0000</td>\n",
       "    </tr>\n",
       "    <tr>\n",
       "      <th>poc</th>\n",
       "      <td>338926.0</td>\n",
       "      <td>2.6654</td>\n",
       "      <td>2.4504</td>\n",
       "      <td>1.0000</td>\n",
       "      <td>1.0000</td>\n",
       "      <td>1.0000</td>\n",
       "      <td>5.0000</td>\n",
       "      <td>12.0000</td>\n",
       "    </tr>\n",
       "    <tr>\n",
       "      <th>latitude</th>\n",
       "      <td>338926.0</td>\n",
       "      <td>38.8288</td>\n",
       "      <td>5.0309</td>\n",
       "      <td>31.3374</td>\n",
       "      <td>34.1939</td>\n",
       "      <td>37.6875</td>\n",
       "      <td>42.9099</td>\n",
       "      <td>48.7314</td>\n",
       "    </tr>\n",
       "    <tr>\n",
       "      <th>longitude</th>\n",
       "      <td>338926.0</td>\n",
       "      <td>-117.5479</td>\n",
       "      <td>4.3689</td>\n",
       "      <td>-124.6249</td>\n",
       "      <td>-121.4271</td>\n",
       "      <td>-118.8248</td>\n",
       "      <td>-112.8010</td>\n",
       "      <td>-109.3891</td>\n",
       "    </tr>\n",
       "    <tr>\n",
       "      <th>pollutant_standard</th>\n",
       "      <td>0.0</td>\n",
       "      <td>NaN</td>\n",
       "      <td>NaN</td>\n",
       "      <td>NaN</td>\n",
       "      <td>NaN</td>\n",
       "      <td>NaN</td>\n",
       "      <td>NaN</td>\n",
       "      <td>NaN</td>\n",
       "    </tr>\n",
       "    <tr>\n",
       "      <th>observation_count</th>\n",
       "      <td>338926.0</td>\n",
       "      <td>1.0000</td>\n",
       "      <td>0.0000</td>\n",
       "      <td>1.0000</td>\n",
       "      <td>1.0000</td>\n",
       "      <td>1.0000</td>\n",
       "      <td>1.0000</td>\n",
       "      <td>1.0000</td>\n",
       "    </tr>\n",
       "    <tr>\n",
       "      <th>observation_percent</th>\n",
       "      <td>338926.0</td>\n",
       "      <td>100.0000</td>\n",
       "      <td>0.0000</td>\n",
       "      <td>100.0000</td>\n",
       "      <td>100.0000</td>\n",
       "      <td>100.0000</td>\n",
       "      <td>100.0000</td>\n",
       "      <td>100.0000</td>\n",
       "    </tr>\n",
       "    <tr>\n",
       "      <th>arithmetic_mean</th>\n",
       "      <td>338926.0</td>\n",
       "      <td>0.0009</td>\n",
       "      <td>0.0107</td>\n",
       "      <td>-0.0140</td>\n",
       "      <td>0.0000</td>\n",
       "      <td>0.0000</td>\n",
       "      <td>0.0010</td>\n",
       "      <td>5.0000</td>\n",
       "    </tr>\n",
       "    <tr>\n",
       "      <th>first_max_value</th>\n",
       "      <td>338926.0</td>\n",
       "      <td>0.0009</td>\n",
       "      <td>0.0107</td>\n",
       "      <td>-0.0140</td>\n",
       "      <td>0.0000</td>\n",
       "      <td>0.0000</td>\n",
       "      <td>0.0010</td>\n",
       "      <td>5.0000</td>\n",
       "    </tr>\n",
       "    <tr>\n",
       "      <th>first_max_hour</th>\n",
       "      <td>338926.0</td>\n",
       "      <td>0.0004</td>\n",
       "      <td>0.0714</td>\n",
       "      <td>0.0000</td>\n",
       "      <td>0.0000</td>\n",
       "      <td>0.0000</td>\n",
       "      <td>0.0000</td>\n",
       "      <td>12.0000</td>\n",
       "    </tr>\n",
       "    <tr>\n",
       "      <th>aqi</th>\n",
       "      <td>0.0</td>\n",
       "      <td>NaN</td>\n",
       "      <td>NaN</td>\n",
       "      <td>NaN</td>\n",
       "      <td>NaN</td>\n",
       "      <td>NaN</td>\n",
       "      <td>NaN</td>\n",
       "      <td>NaN</td>\n",
       "    </tr>\n",
       "    <tr>\n",
       "      <th>method_code</th>\n",
       "      <td>338926.0</td>\n",
       "      <td>803.9735</td>\n",
       "      <td>6.1617</td>\n",
       "      <td>800.0000</td>\n",
       "      <td>800.0000</td>\n",
       "      <td>800.0000</td>\n",
       "      <td>811.0000</td>\n",
       "      <td>884.0000</td>\n",
       "    </tr>\n",
       "  </tbody>\n",
       "</table>\n",
       "</div>"
      ],
      "text/plain": [
       "                        count        mean        std         min         25%  \\\n",
       "state_code           338926.0     20.4630    20.0146      4.0000      6.0000   \n",
       "county_code          338926.0     38.2106    27.5008      1.0000     17.0000   \n",
       "site_num             338926.0   2935.9475  3933.8806      1.0000     10.0000   \n",
       "parameter_code       338926.0  88121.5741    12.5566  88103.0000  88112.0000   \n",
       "poc                  338926.0      2.6654     2.4504      1.0000      1.0000   \n",
       "latitude             338926.0     38.8288     5.0309     31.3374     34.1939   \n",
       "longitude            338926.0   -117.5479     4.3689   -124.6249   -121.4271   \n",
       "pollutant_standard        0.0         NaN        NaN         NaN         NaN   \n",
       "observation_count    338926.0      1.0000     0.0000      1.0000      1.0000   \n",
       "observation_percent  338926.0    100.0000     0.0000    100.0000    100.0000   \n",
       "arithmetic_mean      338926.0      0.0009     0.0107     -0.0140      0.0000   \n",
       "first_max_value      338926.0      0.0009     0.0107     -0.0140      0.0000   \n",
       "first_max_hour       338926.0      0.0004     0.0714      0.0000      0.0000   \n",
       "aqi                       0.0         NaN        NaN         NaN         NaN   \n",
       "method_code          338926.0    803.9735     6.1617    800.0000    800.0000   \n",
       "\n",
       "                            50%         75%         max  \n",
       "state_code               6.0000     41.0000     53.0000  \n",
       "county_code             35.0000     59.0000    111.0000  \n",
       "site_num               101.0000   8001.0000   9997.0000  \n",
       "parameter_code       88128.0000  88132.0000  88136.0000  \n",
       "poc                      1.0000      5.0000     12.0000  \n",
       "latitude                37.6875     42.9099     48.7314  \n",
       "longitude             -118.8248   -112.8010   -109.3891  \n",
       "pollutant_standard          NaN         NaN         NaN  \n",
       "observation_count        1.0000      1.0000      1.0000  \n",
       "observation_percent    100.0000    100.0000    100.0000  \n",
       "arithmetic_mean          0.0000      0.0010      5.0000  \n",
       "first_max_value          0.0000      0.0010      5.0000  \n",
       "first_max_hour           0.0000      0.0000     12.0000  \n",
       "aqi                         NaN         NaN         NaN  \n",
       "method_code            800.0000    811.0000    884.0000  "
      ]
     },
     "execution_count": 16,
     "metadata": {},
     "output_type": "execute_result"
    }
   ],
   "source": [
    "#desc stats\n",
    "pm.describe().T.round(4)"
   ]
  },
  {
   "cell_type": "code",
   "execution_count": 17,
   "metadata": {
    "ExecuteTime": {
     "end_time": "2021-05-17T05:53:35.093517Z",
     "start_time": "2021-05-17T05:53:35.079799Z"
    }
   },
   "outputs": [
    {
     "data": {
      "text/plain": [
       "(338926, 29)"
      ]
     },
     "execution_count": 17,
     "metadata": {},
     "output_type": "execute_result"
    }
   ],
   "source": [
    "#shape\n",
    "pm.shape"
   ]
  },
  {
   "cell_type": "code",
   "execution_count": 18,
   "metadata": {
    "ExecuteTime": {
     "end_time": "2021-05-17T05:53:35.114596Z",
     "start_time": "2021-05-17T05:53:35.103463Z"
    },
    "scrolled": true
   },
   "outputs": [
    {
     "data": {
      "text/plain": [
       "state_code               int64\n",
       "county_code              int64\n",
       "site_num                 int64\n",
       "parameter_code           int64\n",
       "poc                      int64\n",
       "latitude               float64\n",
       "longitude              float64\n",
       "datum                   object\n",
       "parameter_name          object\n",
       "sample_duration         object\n",
       "pollutant_standard     float64\n",
       "date_local              object\n",
       "units_of_measure        object\n",
       "event_type              object\n",
       "observation_count        int64\n",
       "observation_percent    float64\n",
       "arithmetic_mean        float64\n",
       "first_max_value        float64\n",
       "first_max_hour           int64\n",
       "aqi                    float64\n",
       "method_code              int64\n",
       "method_name             object\n",
       "local_site_name         object\n",
       "address                 object\n",
       "state_name              object\n",
       "county_name             object\n",
       "city_name               object\n",
       "cbsa_name               object\n",
       "date_of_last_change     object\n",
       "dtype: object"
      ]
     },
     "execution_count": 18,
     "metadata": {},
     "output_type": "execute_result"
    }
   ],
   "source": [
    "#dtypes\n",
    "pm.dtypes"
   ]
  },
  {
   "cell_type": "code",
   "execution_count": 19,
   "metadata": {
    "ExecuteTime": {
     "end_time": "2021-05-17T05:53:35.832152Z",
     "start_time": "2021-05-17T05:53:35.120742Z"
    }
   },
   "outputs": [],
   "source": [
    "#conversions\n",
    "pm['state_code'] = pm.astype(\n",
    "    {'state_code': 'category'}).dtypes"
   ]
  },
  {
   "cell_type": "code",
   "execution_count": 20,
   "metadata": {
    "ExecuteTime": {
     "end_time": "2021-05-17T05:53:36.451824Z",
     "start_time": "2021-05-17T05:53:35.834653Z"
    }
   },
   "outputs": [],
   "source": [
    "pm['county_code'] = pm.astype(\n",
    "    {'county_code': 'category'}).dtypes"
   ]
  },
  {
   "cell_type": "code",
   "execution_count": 21,
   "metadata": {
    "ExecuteTime": {
     "end_time": "2021-05-17T05:53:36.970806Z",
     "start_time": "2021-05-17T05:53:36.481170Z"
    }
   },
   "outputs": [],
   "source": [
    "pm['site_num'] = pm.astype(\n",
    "    {'site_num': 'category'}).dtypes"
   ]
  },
  {
   "cell_type": "code",
   "execution_count": 22,
   "metadata": {
    "ExecuteTime": {
     "end_time": "2021-05-17T05:53:37.509785Z",
     "start_time": "2021-05-17T05:53:37.007555Z"
    }
   },
   "outputs": [],
   "source": [
    "pm['parameter_code'] = pm.astype(\n",
    "    {'parameter_code': 'category'}).dtypes"
   ]
  },
  {
   "cell_type": "code",
   "execution_count": 23,
   "metadata": {
    "ExecuteTime": {
     "end_time": "2021-05-17T05:53:37.937746Z",
     "start_time": "2021-05-17T05:53:37.533972Z"
    }
   },
   "outputs": [],
   "source": [
    "pm['poc'] = pm.astype(\n",
    "    {'poc': 'category'}).dtypes"
   ]
  },
  {
   "cell_type": "code",
   "execution_count": 24,
   "metadata": {
    "ExecuteTime": {
     "end_time": "2021-05-17T05:53:38.085327Z",
     "start_time": "2021-05-17T05:53:37.943468Z"
    }
   },
   "outputs": [
    {
     "data": {
      "text/plain": [
       "state_code              object\n",
       "county_code             object\n",
       "site_num                object\n",
       "parameter_code          object\n",
       "poc                     object\n",
       "latitude               float64\n",
       "longitude              float64\n",
       "datum                   object\n",
       "parameter_name          object\n",
       "sample_duration         object\n",
       "pollutant_standard     float64\n",
       "date_local              object\n",
       "units_of_measure        object\n",
       "event_type              object\n",
       "observation_count        int64\n",
       "observation_percent    float64\n",
       "arithmetic_mean        float64\n",
       "first_max_value        float64\n",
       "first_max_hour           int64\n",
       "aqi                    float64\n",
       "method_code              int64\n",
       "method_name             object\n",
       "local_site_name         object\n",
       "address                 object\n",
       "state_name              object\n",
       "county_name             object\n",
       "city_name               object\n",
       "cbsa_name               object\n",
       "date_of_last_change     object\n",
       "dtype: object"
      ]
     },
     "execution_count": 24,
     "metadata": {},
     "output_type": "execute_result"
    }
   ],
   "source": [
    "#confirm types\n",
    "pm.dtypes"
   ]
  },
  {
   "cell_type": "code",
   "execution_count": 25,
   "metadata": {
    "ExecuteTime": {
     "end_time": "2021-05-17T05:53:38.092165Z",
     "start_time": "2021-05-17T05:53:38.088224Z"
    }
   },
   "outputs": [],
   "source": [
    "#now EDA\n",
    "#changes YoY\n"
   ]
  },
  {
   "cell_type": "code",
   "execution_count": 26,
   "metadata": {
    "ExecuteTime": {
     "end_time": "2021-05-17T05:53:38.099800Z",
     "start_time": "2021-05-17T05:53:38.095253Z"
    }
   },
   "outputs": [],
   "source": [
    "#by locale"
   ]
  },
  {
   "cell_type": "markdown",
   "metadata": {},
   "source": [
    "### Air quality -- additional metrics"
   ]
  },
  {
   "cell_type": "code",
   "execution_count": null,
   "metadata": {},
   "outputs": [],
   "source": [
    "#pull in air q hourly files to merge"
   ]
  },
  {
   "cell_type": "markdown",
   "metadata": {},
   "source": [
    "## Fire and smoke"
   ]
  },
  {
   "cell_type": "markdown",
   "metadata": {},
   "source": [
    "Questions to be answered:\n",
    "\n",
    "* Number of prescribed fires vs. wildfires per state, per year --> trends over years?  trends change over years in a certain state?  does more prescribed burns necessarily equal fewer wildfires?\n",
    "\n",
    "* similar to above, but # acres instead of count\n",
    "\n",
    "* map counties with the worst smoke_score (most days of smoke_score=3) -- same counties hit every year?  or totally random?\n",
    "\n",
    "* Looking at similiar-size fires and their impacts throughout time"
   ]
  },
  {
   "cell_type": "markdown",
   "metadata": {},
   "source": [
    "Note on data: data may include international locations."
   ]
  },
  {
   "cell_type": "markdown",
   "metadata": {},
   "source": [
    "Data source: fire resarch contact, Cristobal Martinez, cpaismz@berkeley.edu."
   ]
  },
  {
   "cell_type": "markdown",
   "metadata": {},
   "source": [
    "_Additional information about some of the calculations around fire perimeters can be found at this [source](https://frap.fire.ca.gov/frap-projects/fire-perimeters/)._"
   ]
  },
  {
   "cell_type": "code",
   "execution_count": 27,
   "metadata": {
    "ExecuteTime": {
     "end_time": "2021-05-17T05:53:38.346215Z",
     "start_time": "2021-05-17T05:53:38.104198Z"
    }
   },
   "outputs": [],
   "source": [
    "#pull in data\n",
    "smoke = pd.read_csv('../data/fire/MTBS_merge_smoke_inProgress.csv')"
   ]
  },
  {
   "cell_type": "code",
   "execution_count": 28,
   "metadata": {
    "ExecuteTime": {
     "end_time": "2021-05-17T05:53:38.390411Z",
     "start_time": "2021-05-17T05:53:38.351995Z"
    }
   },
   "outputs": [
    {
     "data": {
      "text/html": [
       "<div>\n",
       "<style scoped>\n",
       "    .dataframe tbody tr th:only-of-type {\n",
       "        vertical-align: middle;\n",
       "    }\n",
       "\n",
       "    .dataframe tbody tr th {\n",
       "        vertical-align: top;\n",
       "    }\n",
       "\n",
       "    .dataframe thead th {\n",
       "        text-align: right;\n",
       "    }\n",
       "</style>\n",
       "<table border=\"1\" class=\"dataframe\">\n",
       "  <thead>\n",
       "    <tr style=\"text-align: right;\">\n",
       "      <th></th>\n",
       "      <th>state</th>\n",
       "      <th>county_name</th>\n",
       "      <th>date</th>\n",
       "      <th>smoke_score</th>\n",
       "      <th>lat_smo</th>\n",
       "      <th>lon_smo</th>\n",
       "      <th>event_id</th>\n",
       "      <th>incid_name</th>\n",
       "      <th>incid_type</th>\n",
       "      <th>asmnt_type</th>\n",
       "      <th>...</th>\n",
       "      <th>burnbndlon</th>\n",
       "      <th>nodata_t</th>\n",
       "      <th>incgreen_t</th>\n",
       "      <th>low_t</th>\n",
       "      <th>mod_t</th>\n",
       "      <th>high_t</th>\n",
       "      <th>lon_wf</th>\n",
       "      <th>lat_wf</th>\n",
       "      <th>reverse_geocode</th>\n",
       "      <th>state_full</th>\n",
       "    </tr>\n",
       "  </thead>\n",
       "  <tbody>\n",
       "    <tr>\n",
       "      <th>0</th>\n",
       "      <td>AZ</td>\n",
       "      <td>Gila County</td>\n",
       "      <td>20100604</td>\n",
       "      <td>1.0</td>\n",
       "      <td>33.799665</td>\n",
       "      <td>-110.811659</td>\n",
       "      <td>NaN</td>\n",
       "      <td>NaN</td>\n",
       "      <td>NaN</td>\n",
       "      <td>NaN</td>\n",
       "      <td>...</td>\n",
       "      <td>NaN</td>\n",
       "      <td>NaN</td>\n",
       "      <td>NaN</td>\n",
       "      <td>NaN</td>\n",
       "      <td>NaN</td>\n",
       "      <td>NaN</td>\n",
       "      <td>NaN</td>\n",
       "      <td>NaN</td>\n",
       "      <td>NaN</td>\n",
       "      <td>NaN</td>\n",
       "    </tr>\n",
       "    <tr>\n",
       "      <th>1</th>\n",
       "      <td>AZ</td>\n",
       "      <td>Gila County</td>\n",
       "      <td>20100606</td>\n",
       "      <td>1.0</td>\n",
       "      <td>33.799665</td>\n",
       "      <td>-110.811659</td>\n",
       "      <td>NaN</td>\n",
       "      <td>NaN</td>\n",
       "      <td>NaN</td>\n",
       "      <td>NaN</td>\n",
       "      <td>...</td>\n",
       "      <td>NaN</td>\n",
       "      <td>NaN</td>\n",
       "      <td>NaN</td>\n",
       "      <td>NaN</td>\n",
       "      <td>NaN</td>\n",
       "      <td>NaN</td>\n",
       "      <td>NaN</td>\n",
       "      <td>NaN</td>\n",
       "      <td>NaN</td>\n",
       "      <td>NaN</td>\n",
       "    </tr>\n",
       "    <tr>\n",
       "      <th>2</th>\n",
       "      <td>AZ</td>\n",
       "      <td>Gila County</td>\n",
       "      <td>20100624</td>\n",
       "      <td>1.0</td>\n",
       "      <td>33.799665</td>\n",
       "      <td>-110.811659</td>\n",
       "      <td>NaN</td>\n",
       "      <td>NaN</td>\n",
       "      <td>NaN</td>\n",
       "      <td>NaN</td>\n",
       "      <td>...</td>\n",
       "      <td>NaN</td>\n",
       "      <td>NaN</td>\n",
       "      <td>NaN</td>\n",
       "      <td>NaN</td>\n",
       "      <td>NaN</td>\n",
       "      <td>NaN</td>\n",
       "      <td>NaN</td>\n",
       "      <td>NaN</td>\n",
       "      <td>NaN</td>\n",
       "      <td>NaN</td>\n",
       "    </tr>\n",
       "    <tr>\n",
       "      <th>3</th>\n",
       "      <td>AZ</td>\n",
       "      <td>Gila County</td>\n",
       "      <td>20100627</td>\n",
       "      <td>1.0</td>\n",
       "      <td>33.799665</td>\n",
       "      <td>-110.811659</td>\n",
       "      <td>NaN</td>\n",
       "      <td>NaN</td>\n",
       "      <td>NaN</td>\n",
       "      <td>NaN</td>\n",
       "      <td>...</td>\n",
       "      <td>NaN</td>\n",
       "      <td>NaN</td>\n",
       "      <td>NaN</td>\n",
       "      <td>NaN</td>\n",
       "      <td>NaN</td>\n",
       "      <td>NaN</td>\n",
       "      <td>NaN</td>\n",
       "      <td>NaN</td>\n",
       "      <td>NaN</td>\n",
       "      <td>NaN</td>\n",
       "    </tr>\n",
       "    <tr>\n",
       "      <th>4</th>\n",
       "      <td>AZ</td>\n",
       "      <td>Gila County</td>\n",
       "      <td>20100713</td>\n",
       "      <td>1.0</td>\n",
       "      <td>33.799665</td>\n",
       "      <td>-110.811659</td>\n",
       "      <td>NaN</td>\n",
       "      <td>NaN</td>\n",
       "      <td>NaN</td>\n",
       "      <td>NaN</td>\n",
       "      <td>...</td>\n",
       "      <td>NaN</td>\n",
       "      <td>NaN</td>\n",
       "      <td>NaN</td>\n",
       "      <td>NaN</td>\n",
       "      <td>NaN</td>\n",
       "      <td>NaN</td>\n",
       "      <td>NaN</td>\n",
       "      <td>NaN</td>\n",
       "      <td>NaN</td>\n",
       "      <td>NaN</td>\n",
       "    </tr>\n",
       "  </tbody>\n",
       "</table>\n",
       "<p>5 rows × 22 columns</p>\n",
       "</div>"
      ],
      "text/plain": [
       "  state  county_name      date  smoke_score    lat_smo     lon_smo event_id  \\\n",
       "0    AZ  Gila County  20100604          1.0  33.799665 -110.811659      NaN   \n",
       "1    AZ  Gila County  20100606          1.0  33.799665 -110.811659      NaN   \n",
       "2    AZ  Gila County  20100624          1.0  33.799665 -110.811659      NaN   \n",
       "3    AZ  Gila County  20100627          1.0  33.799665 -110.811659      NaN   \n",
       "4    AZ  Gila County  20100713          1.0  33.799665 -110.811659      NaN   \n",
       "\n",
       "  incid_name incid_type asmnt_type  ...  burnbndlon  nodata_t  incgreen_t  \\\n",
       "0        NaN        NaN        NaN  ...         NaN       NaN         NaN   \n",
       "1        NaN        NaN        NaN  ...         NaN       NaN         NaN   \n",
       "2        NaN        NaN        NaN  ...         NaN       NaN         NaN   \n",
       "3        NaN        NaN        NaN  ...         NaN       NaN         NaN   \n",
       "4        NaN        NaN        NaN  ...         NaN       NaN         NaN   \n",
       "\n",
       "   low_t  mod_t  high_t  lon_wf  lat_wf  reverse_geocode  state_full  \n",
       "0    NaN    NaN     NaN     NaN     NaN              NaN         NaN  \n",
       "1    NaN    NaN     NaN     NaN     NaN              NaN         NaN  \n",
       "2    NaN    NaN     NaN     NaN     NaN              NaN         NaN  \n",
       "3    NaN    NaN     NaN     NaN     NaN              NaN         NaN  \n",
       "4    NaN    NaN     NaN     NaN     NaN              NaN         NaN  \n",
       "\n",
       "[5 rows x 22 columns]"
      ]
     },
     "execution_count": 28,
     "metadata": {},
     "output_type": "execute_result"
    }
   ],
   "source": [
    "#peek\n",
    "smoke.head()"
   ]
  },
  {
   "cell_type": "code",
   "execution_count": 29,
   "metadata": {
    "ExecuteTime": {
     "end_time": "2021-05-17T05:53:38.411082Z",
     "start_time": "2021-05-17T05:53:38.394436Z"
    }
   },
   "outputs": [
    {
     "data": {
      "text/plain": [
       "(67561, 22)"
      ]
     },
     "execution_count": 29,
     "metadata": {},
     "output_type": "execute_result"
    }
   ],
   "source": [
    "#grasp the size of data\n",
    "smoke.shape"
   ]
  },
  {
   "cell_type": "code",
   "execution_count": 49,
   "metadata": {
    "ExecuteTime": {
     "end_time": "2021-05-17T06:05:06.602171Z",
     "start_time": "2021-05-17T06:05:06.585210Z"
    },
    "scrolled": true
   },
   "outputs": [
    {
     "data": {
      "text/plain": [
       "state                      object\n",
       "county_name                object\n",
       "date               datetime64[ns]\n",
       "smoke_score               float64\n",
       "lat_smo                   float64\n",
       "lon_smo                   float64\n",
       "event_id                   object\n",
       "incid_name                 object\n",
       "incid_type                 object\n",
       "asmnt_type                 object\n",
       "burnbndac                 float64\n",
       "burnbndlat                float64\n",
       "burnbndlon                float64\n",
       "nodata_t                  float64\n",
       "incgreen_t                float64\n",
       "low_t                     float64\n",
       "mod_t                     float64\n",
       "high_t                    float64\n",
       "lon_wf                    float64\n",
       "lat_wf                    float64\n",
       "reverse_geocode            object\n",
       "state_full                 object\n",
       "dtype: object"
      ]
     },
     "execution_count": 49,
     "metadata": {},
     "output_type": "execute_result"
    }
   ],
   "source": [
    "#look at data types\n",
    "smoke.dtypes"
   ]
  },
  {
   "cell_type": "markdown",
   "metadata": {},
   "source": [
    "Let's convert date to the correct type."
   ]
  },
  {
   "cell_type": "code",
   "execution_count": 48,
   "metadata": {
    "ExecuteTime": {
     "end_time": "2021-05-17T06:04:48.757744Z",
     "start_time": "2021-05-17T06:04:48.747076Z"
    }
   },
   "outputs": [],
   "source": [
    "smoke['date'] = pd.to_datetime(\\\n",
    "       smoke['date'], format='%Y%m%d', errors='ignore')"
   ]
  },
  {
   "cell_type": "markdown",
   "metadata": {},
   "source": [
    "Note: `burnbndac` refers to acres within the burn boundaries."
   ]
  },
  {
   "cell_type": "markdown",
   "metadata": {},
   "source": [
    "What types of fires do we have?"
   ]
  },
  {
   "cell_type": "code",
   "execution_count": 47,
   "metadata": {
    "ExecuteTime": {
     "end_time": "2021-05-17T06:03:17.844399Z",
     "start_time": "2021-05-17T06:03:17.829163Z"
    },
    "scrolled": true
   },
   "outputs": [
    {
     "data": {
      "text/plain": [
       "Wildfire           1875\n",
       "Prescribed Fire     114\n",
       "Name: incid_type, dtype: int64"
      ]
     },
     "execution_count": 47,
     "metadata": {},
     "output_type": "execute_result"
    }
   ],
   "source": [
    "#understand the data some more\n",
    "smoke['incid_type'].value_counts()"
   ]
  },
  {
   "cell_type": "code",
   "execution_count": 52,
   "metadata": {
    "ExecuteTime": {
     "end_time": "2021-05-17T06:53:03.575593Z",
     "start_time": "2021-05-17T06:53:03.509040Z"
    }
   },
   "outputs": [
    {
     "data": {
      "text/plain": [
       "Wildfire           0.94\n",
       "Prescribed Fire    0.06\n",
       "Name: incid_type, dtype: float64"
      ]
     },
     "execution_count": 52,
     "metadata": {},
     "output_type": "execute_result"
    }
   ],
   "source": [
    "smoke['incid_type'].value_counts(normalize=True).round(2)"
   ]
  },
  {
   "cell_type": "markdown",
   "metadata": {},
   "source": [
    "As expected based on our initial investigation (offline), we have two types of fire: Wildfire and Prescribed. Per [source](https://www.nps.gov/articles/what-is-a-prescribed-fire.htm), a prescribed fire is a planned fire and an important forestry management techniuqe. Specifically:\n",
    "\n",
    "\"Prescribed fire is one of the most important tools used to manage fire today. A scientific prescription for each fire, prepared in advance, describes its objectives, fuels, size, the precise environmental conditions under which it will burn, and conditions under which it may be suppressed. The fire may be designed to create a mosaic of diverse habitats for plants and animals, to help endangered species recover, or to reduce fuels and thereby prevent a destructive fire.\""
   ]
  },
  {
   "cell_type": "code",
   "execution_count": 32,
   "metadata": {
    "ExecuteTime": {
     "end_time": "2021-05-17T05:53:38.487427Z",
     "start_time": "2021-05-17T05:53:38.457239Z"
    }
   },
   "outputs": [],
   "source": [
    "#drop unknown fire types\n",
    "#df = df.drop(df[<some boolean condition>].index) from https://stackoverflow.com/questions/13851535/how-to-delete-rows-from-a-pandas-dataframe-based-on-a-conditional-expression\n",
    "\n",
    "smoke.drop(\n",
    "    smoke[smoke['incid_type'] == 'Unknown'].index,inplace=True)\n"
   ]
  },
  {
   "cell_type": "markdown",
   "metadata": {},
   "source": [
    "Let's further check out and understand the types of fire."
   ]
  },
  {
   "cell_type": "code",
   "execution_count": 50,
   "metadata": {
    "ExecuteTime": {
     "end_time": "2021-05-17T06:05:43.966864Z",
     "start_time": "2021-05-17T06:05:43.924377Z"
    },
    "scrolled": true
   },
   "outputs": [
    {
     "data": {
      "text/plain": [
       "Initial          1143\n",
       "Extended          779\n",
       "Initial (SS)       59\n",
       "Extended (SS)       8\n",
       "Name: asmnt_type, dtype: int64"
      ]
     },
     "execution_count": 50,
     "metadata": {},
     "output_type": "execute_result"
    }
   ],
   "source": [
    "smoke['asmnt_type'].value_counts()"
   ]
  },
  {
   "cell_type": "markdown",
   "metadata": {},
   "source": [
    "How big are fires?"
   ]
  },
  {
   "cell_type": "code",
   "execution_count": 57,
   "metadata": {
    "ExecuteTime": {
     "end_time": "2021-05-17T06:58:17.984354Z",
     "start_time": "2021-05-17T06:58:17.955087Z"
    }
   },
   "outputs": [
    {
     "data": {
      "text/plain": [
       "1.0    0.70\n",
       "2.0    0.23\n",
       "3.0    0.08\n",
       "Name: smoke_score, dtype: float64"
      ]
     },
     "execution_count": 57,
     "metadata": {},
     "output_type": "execute_result"
    }
   ],
   "source": [
    "smoke['smoke_score'].value_counts(normalize=True).round(2)"
   ]
  },
  {
   "cell_type": "code",
   "execution_count": 63,
   "metadata": {
    "ExecuteTime": {
     "end_time": "2021-05-17T07:02:04.000399Z",
     "start_time": "2021-05-17T07:02:03.706854Z"
    },
    "scrolled": true
   },
   "outputs": [
    {
     "data": {
      "image/png": "[encoded data removed]",
      "text/plain": [
       "<Figure size 432x288 with 1 Axes>"
      ]
     },
     "metadata": {
      "needs_background": "light"
     },
     "output_type": "display_data"
    }
   ],
   "source": [
    "#dist of smoke scores\n",
    "smoke['smoke_score'].hist();\n",
    "plt.title('Distribution of fires by score', size = 15)\n",
    "plt.xlabel('Score', size = 12);\n",
    "plt.ylabel('Number of fires since 2012', size = 12);\n",
    "plt.xticks([1.00, 2.00, 3.00]);\n",
    "plt.yticks(size=12)\n",
    "plt.savefig('../assets/fires_by_score.jpg');"
   ]
  },
  {
   "cell_type": "markdown",
   "metadata": {},
   "source": [
    "The vast majority of fires score between 1 and 1.2. Just under 1/3rd of fires score a 2 or more.\n",
    "\n",
    "\n",
    "Let's understand the size of the fires."
   ]
  },
  {
   "cell_type": "code",
   "execution_count": 75,
   "metadata": {
    "ExecuteTime": {
     "end_time": "2021-05-17T07:23:29.940681Z",
     "start_time": "2021-05-17T07:23:29.904099Z"
    },
    "scrolled": true
   },
   "outputs": [
    {
     "data": {
      "text/plain": [
       "CA    19035\n",
       "ID    13837\n",
       "OR    12072\n",
       "WA    11370\n",
       "UT     4177\n",
       "NV     3494\n",
       "AZ     3401\n",
       "MT       97\n",
       "WY       42\n",
       "NM       14\n",
       "CO        5\n",
       "Name: state, dtype: int64"
      ]
     },
     "execution_count": 75,
     "metadata": {},
     "output_type": "execute_result"
    }
   ],
   "source": [
    "#frequency of fire by state\n",
    "smoke['state'].value_counts()"
   ]
  },
  {
   "cell_type": "code",
   "execution_count": 67,
   "metadata": {
    "ExecuteTime": {
     "end_time": "2021-05-17T07:12:27.330714Z",
     "start_time": "2021-05-17T07:12:27.137169Z"
    }
   },
   "outputs": [
    {
     "data": {
      "image/png": "[encoded data removed]",
      "text/plain": [
       "<Figure size 432x288 with 1 Axes>"
      ]
     },
     "metadata": {
      "needs_background": "light"
     },
     "output_type": "display_data"
    }
   ],
   "source": [
    "#by acreage\n",
    "smoke['burnbndac'].hist();"
   ]
  },
  {
   "cell_type": "code",
   "execution_count": 85,
   "metadata": {
    "ExecuteTime": {
     "end_time": "2021-05-17T07:32:54.970654Z",
     "start_time": "2021-05-17T07:32:54.538855Z"
    },
    "scrolled": false
   },
   "outputs": [
    {
     "data": {
      "image/png": "[encoded data removed]",
      "text/plain": [
       "<Figure size 1080x576 with 1 Axes>"
      ]
     },
     "metadata": {
      "needs_background": "light"
     },
     "output_type": "display_data"
    }
   ],
   "source": [
    "#timelapse\n",
    "\n",
    "plt.figure(figsize = (15,8))\n",
    "plt.scatter(smoke['date'], smoke['burnbndac'], marker = '^');\n",
    "plt.xticks(size=14)\n",
    "plt.yticks(size=14)\n",
    "plt.title('Timeline of fire burning impact by acreage', size=18);\n",
    "plt.savefig('../assets/fire_by_acreage.jpg');"
   ]
  },
  {
   "cell_type": "code",
   "execution_count": 88,
   "metadata": {
    "ExecuteTime": {
     "end_time": "2021-05-17T07:38:40.737645Z",
     "start_time": "2021-05-17T07:38:40.494912Z"
    },
    "scrolled": true
   },
   "outputs": [
    {
     "data": {
      "image/png": "[encoded data removed]",
      "text/plain": [
       "<Figure size 1080x576 with 1 Axes>"
      ]
     },
     "metadata": {
      "needs_background": "light"
     },
     "output_type": "display_data"
    }
   ],
   "source": [
    "#scatter by smoke score to acreage\n",
    "plt.figure(figsize = (15,8))\n",
    "plt.scatter(smoke['burnbndac'], smoke['smoke_score'], marker = '^');\n",
    "plt.xticks(size=14)\n",
    "plt.yticks(size=14)\n",
    "plt.title('Relationship between smoke score and burning impact by acreage', size=18);\n"
   ]
  },
  {
   "cell_type": "markdown",
   "metadata": {},
   "source": [
    "There seems to be no relationship we can see between the smoke score and acreage."
   ]
  },
  {
   "cell_type": "code",
   "execution_count": 33,
   "metadata": {
    "ExecuteTime": {
     "end_time": "2021-05-17T05:53:38.498628Z",
     "start_time": "2021-05-17T05:53:38.494440Z"
    }
   },
   "outputs": [],
   "source": [
    "#EDA -- size of fire by incident type and size, state\n",
    "#might want to account for per-square footage: feature eng.\n",
    "\n",
    "#pull out:\n",
    "#smoke_score\n",
    "#date\n",
    "#state\n",
    "#incident type - `incid_type` - this is the wild vs. Rx\n",
    "#acreage - `burnbndac`"
   ]
  },
  {
   "cell_type": "markdown",
   "metadata": {},
   "source": [
    "## Putting it all together"
   ]
  },
  {
   "cell_type": "markdown",
   "metadata": {},
   "source": [
    "Let's look at just the states of interest and see if there are any insights to draw when we pull together pollution and fire data."
   ]
  },
  {
   "cell_type": "code",
   "execution_count": 34,
   "metadata": {
    "ExecuteTime": {
     "end_time": "2021-05-17T05:53:39.689534Z",
     "start_time": "2021-05-17T05:53:38.501611Z"
    },
    "scrolled": true
   },
   "outputs": [
    {
     "name": "stderr",
     "output_type": "stream",
     "text": [
      "/opt/anaconda3/lib/python3.8/site-packages/IPython/core/interactiveshell.py:3071: DtypeWarning: Columns (4,15,16,17,23) have mixed types.Specify dtype option on import or set low_memory=False.\n",
      "  has_raised = await self.run_ast_nodes(code_ast.body, cell_name,\n"
     ]
    }
   ],
   "source": [
    "#pull in merged file\n",
    "merged = pd.read_csv(\n",
    "    '../data/all_smoke_fire_pollution.csv')"
   ]
  },
  {
   "cell_type": "code",
   "execution_count": 35,
   "metadata": {
    "ExecuteTime": {
     "end_time": "2021-05-17T05:53:40.277760Z",
     "start_time": "2021-05-17T05:53:39.695080Z"
    }
   },
   "outputs": [],
   "source": [
    "#clean out dupes\n",
    "merged.drop_duplicates(inplace=True)"
   ]
  },
  {
   "cell_type": "markdown",
   "metadata": {},
   "source": [
    "Because of the way the data were merged, we _expect_ many nulls. This is because not every air quality measurement will have corresponding fire data, as an example."
   ]
  },
  {
   "cell_type": "code",
   "execution_count": 36,
   "metadata": {
    "ExecuteTime": {
     "end_time": "2021-05-17T05:53:40.306264Z",
     "start_time": "2021-05-17T05:53:40.280142Z"
    }
   },
   "outputs": [
    {
     "data": {
      "text/html": [
       "<div>\n",
       "<style scoped>\n",
       "    .dataframe tbody tr th:only-of-type {\n",
       "        vertical-align: middle;\n",
       "    }\n",
       "\n",
       "    .dataframe tbody tr th {\n",
       "        vertical-align: top;\n",
       "    }\n",
       "\n",
       "    .dataframe thead th {\n",
       "        text-align: right;\n",
       "    }\n",
       "</style>\n",
       "<table border=\"1\" class=\"dataframe\">\n",
       "  <thead>\n",
       "    <tr style=\"text-align: right;\">\n",
       "      <th></th>\n",
       "      <th>0</th>\n",
       "      <th>1</th>\n",
       "    </tr>\n",
       "  </thead>\n",
       "  <tbody>\n",
       "    <tr>\n",
       "      <th>state</th>\n",
       "      <td>AZ</td>\n",
       "      <td>AZ</td>\n",
       "    </tr>\n",
       "    <tr>\n",
       "      <th>city</th>\n",
       "      <td>NaN</td>\n",
       "      <td>NaN</td>\n",
       "    </tr>\n",
       "    <tr>\n",
       "      <th>county_name</th>\n",
       "      <td>Gila County</td>\n",
       "      <td>Gila County</td>\n",
       "    </tr>\n",
       "    <tr>\n",
       "      <th>date</th>\n",
       "      <td>20100604</td>\n",
       "      <td>20100606</td>\n",
       "    </tr>\n",
       "    <tr>\n",
       "      <th>incid_type</th>\n",
       "      <td>NaN</td>\n",
       "      <td>NaN</td>\n",
       "    </tr>\n",
       "    <tr>\n",
       "      <th>burnbndac</th>\n",
       "      <td>NaN</td>\n",
       "      <td>NaN</td>\n",
       "    </tr>\n",
       "    <tr>\n",
       "      <th>smoke_score</th>\n",
       "      <td>1</td>\n",
       "      <td>1</td>\n",
       "    </tr>\n",
       "    <tr>\n",
       "      <th>no2_max_ppb</th>\n",
       "      <td>NaN</td>\n",
       "      <td>NaN</td>\n",
       "    </tr>\n",
       "    <tr>\n",
       "      <th>no2_aqi_label</th>\n",
       "      <td>NaN</td>\n",
       "      <td>NaN</td>\n",
       "    </tr>\n",
       "    <tr>\n",
       "      <th>o3_max_ppb</th>\n",
       "      <td>NaN</td>\n",
       "      <td>NaN</td>\n",
       "    </tr>\n",
       "    <tr>\n",
       "      <th>o3_aqi_label</th>\n",
       "      <td>NaN</td>\n",
       "      <td>NaN</td>\n",
       "    </tr>\n",
       "    <tr>\n",
       "      <th>so2_max_ppb</th>\n",
       "      <td>NaN</td>\n",
       "      <td>NaN</td>\n",
       "    </tr>\n",
       "    <tr>\n",
       "      <th>so2_aqi_label</th>\n",
       "      <td>NaN</td>\n",
       "      <td>NaN</td>\n",
       "    </tr>\n",
       "    <tr>\n",
       "      <th>co_max_ppm</th>\n",
       "      <td>NaN</td>\n",
       "      <td>NaN</td>\n",
       "    </tr>\n",
       "    <tr>\n",
       "      <th>co_aqi_label</th>\n",
       "      <td>NaN</td>\n",
       "      <td>NaN</td>\n",
       "    </tr>\n",
       "    <tr>\n",
       "      <th>incid_name</th>\n",
       "      <td>NaN</td>\n",
       "      <td>NaN</td>\n",
       "    </tr>\n",
       "    <tr>\n",
       "      <th>event_id</th>\n",
       "      <td>NaN</td>\n",
       "      <td>NaN</td>\n",
       "    </tr>\n",
       "    <tr>\n",
       "      <th>asmnt_type</th>\n",
       "      <td>NaN</td>\n",
       "      <td>NaN</td>\n",
       "    </tr>\n",
       "    <tr>\n",
       "      <th>burnbndlat</th>\n",
       "      <td>NaN</td>\n",
       "      <td>NaN</td>\n",
       "    </tr>\n",
       "    <tr>\n",
       "      <th>burnbndlon</th>\n",
       "      <td>NaN</td>\n",
       "      <td>NaN</td>\n",
       "    </tr>\n",
       "    <tr>\n",
       "      <th>lat_smo</th>\n",
       "      <td>33.7997</td>\n",
       "      <td>33.7997</td>\n",
       "    </tr>\n",
       "    <tr>\n",
       "      <th>lon_smo</th>\n",
       "      <td>-110.812</td>\n",
       "      <td>-110.812</td>\n",
       "    </tr>\n",
       "    <tr>\n",
       "      <th>aqi_address</th>\n",
       "      <td>NaN</td>\n",
       "      <td>NaN</td>\n",
       "    </tr>\n",
       "    <tr>\n",
       "      <th>reverse_geocode</th>\n",
       "      <td>NaN</td>\n",
       "      <td>NaN</td>\n",
       "    </tr>\n",
       "  </tbody>\n",
       "</table>\n",
       "</div>"
      ],
      "text/plain": [
       "                           0            1\n",
       "state                     AZ           AZ\n",
       "city                     NaN          NaN\n",
       "county_name      Gila County  Gila County\n",
       "date                20100604     20100606\n",
       "incid_type               NaN          NaN\n",
       "burnbndac                NaN          NaN\n",
       "smoke_score                1            1\n",
       "no2_max_ppb              NaN          NaN\n",
       "no2_aqi_label            NaN          NaN\n",
       "o3_max_ppb               NaN          NaN\n",
       "o3_aqi_label             NaN          NaN\n",
       "so2_max_ppb              NaN          NaN\n",
       "so2_aqi_label            NaN          NaN\n",
       "co_max_ppm               NaN          NaN\n",
       "co_aqi_label             NaN          NaN\n",
       "incid_name               NaN          NaN\n",
       "event_id                 NaN          NaN\n",
       "asmnt_type               NaN          NaN\n",
       "burnbndlat               NaN          NaN\n",
       "burnbndlon               NaN          NaN\n",
       "lat_smo              33.7997      33.7997\n",
       "lon_smo             -110.812     -110.812\n",
       "aqi_address              NaN          NaN\n",
       "reverse_geocode          NaN          NaN"
      ]
     },
     "execution_count": 36,
     "metadata": {},
     "output_type": "execute_result"
    }
   ],
   "source": [
    "merged.head(2).T"
   ]
  },
  {
   "cell_type": "code",
   "execution_count": 37,
   "metadata": {
    "ExecuteTime": {
     "end_time": "2021-05-17T05:53:40.382431Z",
     "start_time": "2021-05-17T05:53:40.313581Z"
    }
   },
   "outputs": [
    {
     "data": {
      "text/html": [
       "<div>\n",
       "<style scoped>\n",
       "    .dataframe tbody tr th:only-of-type {\n",
       "        vertical-align: middle;\n",
       "    }\n",
       "\n",
       "    .dataframe tbody tr th {\n",
       "        vertical-align: top;\n",
       "    }\n",
       "\n",
       "    .dataframe thead th {\n",
       "        text-align: right;\n",
       "    }\n",
       "</style>\n",
       "<table border=\"1\" class=\"dataframe\">\n",
       "  <thead>\n",
       "    <tr style=\"text-align: right;\">\n",
       "      <th></th>\n",
       "      <th>state</th>\n",
       "    </tr>\n",
       "  </thead>\n",
       "  <tbody>\n",
       "    <tr>\n",
       "      <th>CA</th>\n",
       "      <td>165098</td>\n",
       "    </tr>\n",
       "    <tr>\n",
       "      <th>AZ</th>\n",
       "      <td>22707</td>\n",
       "    </tr>\n",
       "    <tr>\n",
       "      <th>OR</th>\n",
       "      <td>18414</td>\n",
       "    </tr>\n",
       "    <tr>\n",
       "      <th>ID</th>\n",
       "      <td>13028</td>\n",
       "    </tr>\n",
       "    <tr>\n",
       "      <th>WA</th>\n",
       "      <td>11487</td>\n",
       "    </tr>\n",
       "    <tr>\n",
       "      <th>UT</th>\n",
       "      <td>10524</td>\n",
       "    </tr>\n",
       "    <tr>\n",
       "      <th>NV</th>\n",
       "      <td>9795</td>\n",
       "    </tr>\n",
       "    <tr>\n",
       "      <th>MT</th>\n",
       "      <td>88</td>\n",
       "    </tr>\n",
       "    <tr>\n",
       "      <th>WY</th>\n",
       "      <td>33</td>\n",
       "    </tr>\n",
       "    <tr>\n",
       "      <th>NM</th>\n",
       "      <td>11</td>\n",
       "    </tr>\n",
       "    <tr>\n",
       "      <th>CO</th>\n",
       "      <td>4</td>\n",
       "    </tr>\n",
       "  </tbody>\n",
       "</table>\n",
       "</div>"
      ],
      "text/plain": [
       "     state\n",
       "CA  165098\n",
       "AZ   22707\n",
       "OR   18414\n",
       "ID   13028\n",
       "WA   11487\n",
       "UT   10524\n",
       "NV    9795\n",
       "MT      88\n",
       "WY      33\n",
       "NM      11\n",
       "CO       4"
      ]
     },
     "execution_count": 37,
     "metadata": {},
     "output_type": "execute_result"
    }
   ],
   "source": [
    "#confirm the locations\n",
    "pd.DataFrame(merged['state'].value_counts())"
   ]
  },
  {
   "cell_type": "code",
   "execution_count": 38,
   "metadata": {
    "ExecuteTime": {
     "end_time": "2021-05-17T05:53:40.393586Z",
     "start_time": "2021-05-17T05:53:40.384599Z"
    }
   },
   "outputs": [
    {
     "data": {
      "text/plain": [
       "(251189, 24)"
      ]
     },
     "execution_count": 38,
     "metadata": {},
     "output_type": "execute_result"
    }
   ],
   "source": [
    "merged.shape"
   ]
  },
  {
   "cell_type": "code",
   "execution_count": 39,
   "metadata": {
    "ExecuteTime": {
     "end_time": "2021-05-17T05:53:40.414804Z",
     "start_time": "2021-05-17T05:53:40.403470Z"
    },
    "scrolled": true
   },
   "outputs": [
    {
     "data": {
      "text/plain": [
       "Index(['state', 'city', 'county_name', 'date', 'incid_type', 'burnbndac',\n",
       "       'smoke_score', 'no2_max_ppb', 'no2_aqi_label', 'o3_max_ppb',\n",
       "       'o3_aqi_label', 'so2_max_ppb', 'so2_aqi_label', 'co_max_ppm',\n",
       "       'co_aqi_label', 'incid_name', 'event_id', 'asmnt_type', 'burnbndlat',\n",
       "       'burnbndlon', 'lat_smo', 'lon_smo', 'aqi_address', 'reverse_geocode'],\n",
       "      dtype='object')"
      ]
     },
     "execution_count": 39,
     "metadata": {},
     "output_type": "execute_result"
    }
   ],
   "source": [
    "merged.columns"
   ]
  },
  {
   "cell_type": "code",
   "execution_count": 40,
   "metadata": {
    "ExecuteTime": {
     "end_time": "2021-05-17T05:53:40.436187Z",
     "start_time": "2021-05-17T05:53:40.419576Z"
    }
   },
   "outputs": [
    {
     "data": {
      "text/plain": [
       "state               object\n",
       "city                object\n",
       "county_name         object\n",
       "date                 int64\n",
       "incid_type          object\n",
       "burnbndac          float64\n",
       "smoke_score        float64\n",
       "no2_max_ppb        float64\n",
       "no2_aqi_label       object\n",
       "o3_max_ppb         float64\n",
       "o3_aqi_label        object\n",
       "so2_max_ppb        float64\n",
       "so2_aqi_label       object\n",
       "co_max_ppm         float64\n",
       "co_aqi_label        object\n",
       "incid_name          object\n",
       "event_id            object\n",
       "asmnt_type          object\n",
       "burnbndlat         float64\n",
       "burnbndlon         float64\n",
       "lat_smo            float64\n",
       "lon_smo            float64\n",
       "aqi_address         object\n",
       "reverse_geocode     object\n",
       "dtype: object"
      ]
     },
     "execution_count": 40,
     "metadata": {},
     "output_type": "execute_result"
    }
   ],
   "source": [
    "#check types\n",
    "merged.dtypes"
   ]
  },
  {
   "cell_type": "code",
   "execution_count": 41,
   "metadata": {
    "ExecuteTime": {
     "end_time": "2021-05-17T05:53:40.468830Z",
     "start_time": "2021-05-17T05:53:40.440134Z"
    }
   },
   "outputs": [],
   "source": [
    "#convert dates to datetime format - from docstring:\n",
    "#pd.to_datetime('13000101', format='%Y%m%d', errors='ignore')\n",
    "\n",
    "merged['date'] = pd.to_datetime(\\\n",
    "       merged['date'], format='%Y%m%d', errors='ignore')"
   ]
  },
  {
   "cell_type": "code",
   "execution_count": 42,
   "metadata": {
    "ExecuteTime": {
     "end_time": "2021-05-17T05:53:40.485147Z",
     "start_time": "2021-05-17T05:53:40.474224Z"
    }
   },
   "outputs": [
    {
     "data": {
      "text/plain": [
       "state                      object\n",
       "city                       object\n",
       "county_name                object\n",
       "date               datetime64[ns]\n",
       "incid_type                 object\n",
       "burnbndac                 float64\n",
       "smoke_score               float64\n",
       "no2_max_ppb               float64\n",
       "no2_aqi_label              object\n",
       "o3_max_ppb                float64\n",
       "o3_aqi_label               object\n",
       "so2_max_ppb               float64\n",
       "so2_aqi_label              object\n",
       "co_max_ppm                float64\n",
       "co_aqi_label               object\n",
       "incid_name                 object\n",
       "event_id                   object\n",
       "asmnt_type                 object\n",
       "burnbndlat                float64\n",
       "burnbndlon                float64\n",
       "lat_smo                   float64\n",
       "lon_smo                   float64\n",
       "aqi_address                object\n",
       "reverse_geocode            object\n",
       "dtype: object"
      ]
     },
     "execution_count": 42,
     "metadata": {},
     "output_type": "execute_result"
    }
   ],
   "source": [
    "#confirm conversion\n",
    "merged.dtypes"
   ]
  },
  {
   "cell_type": "code",
   "execution_count": 43,
   "metadata": {
    "ExecuteTime": {
     "end_time": "2021-05-17T05:53:40.533660Z",
     "start_time": "2021-05-17T05:53:40.489350Z"
    }
   },
   "outputs": [
    {
     "data": {
      "text/html": [
       "<div>\n",
       "<style scoped>\n",
       "    .dataframe tbody tr th:only-of-type {\n",
       "        vertical-align: middle;\n",
       "    }\n",
       "\n",
       "    .dataframe tbody tr th {\n",
       "        vertical-align: top;\n",
       "    }\n",
       "\n",
       "    .dataframe thead th {\n",
       "        text-align: right;\n",
       "    }\n",
       "</style>\n",
       "<table border=\"1\" class=\"dataframe\">\n",
       "  <thead>\n",
       "    <tr style=\"text-align: right;\">\n",
       "      <th></th>\n",
       "      <th>state</th>\n",
       "      <th>city</th>\n",
       "      <th>county_name</th>\n",
       "      <th>date</th>\n",
       "      <th>incid_type</th>\n",
       "      <th>burnbndac</th>\n",
       "      <th>smoke_score</th>\n",
       "      <th>no2_max_ppb</th>\n",
       "      <th>no2_aqi_label</th>\n",
       "      <th>o3_max_ppb</th>\n",
       "      <th>...</th>\n",
       "      <th>co_aqi_label</th>\n",
       "      <th>incid_name</th>\n",
       "      <th>event_id</th>\n",
       "      <th>asmnt_type</th>\n",
       "      <th>burnbndlat</th>\n",
       "      <th>burnbndlon</th>\n",
       "      <th>lat_smo</th>\n",
       "      <th>lon_smo</th>\n",
       "      <th>aqi_address</th>\n",
       "      <th>reverse_geocode</th>\n",
       "    </tr>\n",
       "  </thead>\n",
       "  <tbody>\n",
       "    <tr>\n",
       "      <th>0</th>\n",
       "      <td>AZ</td>\n",
       "      <td>NaN</td>\n",
       "      <td>Gila County</td>\n",
       "      <td>2010-06-04</td>\n",
       "      <td>NaN</td>\n",
       "      <td>NaN</td>\n",
       "      <td>1.0</td>\n",
       "      <td>NaN</td>\n",
       "      <td>NaN</td>\n",
       "      <td>NaN</td>\n",
       "      <td>...</td>\n",
       "      <td>NaN</td>\n",
       "      <td>NaN</td>\n",
       "      <td>NaN</td>\n",
       "      <td>NaN</td>\n",
       "      <td>NaN</td>\n",
       "      <td>NaN</td>\n",
       "      <td>33.799665</td>\n",
       "      <td>-110.811659</td>\n",
       "      <td>NaN</td>\n",
       "      <td>NaN</td>\n",
       "    </tr>\n",
       "    <tr>\n",
       "      <th>1</th>\n",
       "      <td>AZ</td>\n",
       "      <td>NaN</td>\n",
       "      <td>Gila County</td>\n",
       "      <td>2010-06-06</td>\n",
       "      <td>NaN</td>\n",
       "      <td>NaN</td>\n",
       "      <td>1.0</td>\n",
       "      <td>NaN</td>\n",
       "      <td>NaN</td>\n",
       "      <td>NaN</td>\n",
       "      <td>...</td>\n",
       "      <td>NaN</td>\n",
       "      <td>NaN</td>\n",
       "      <td>NaN</td>\n",
       "      <td>NaN</td>\n",
       "      <td>NaN</td>\n",
       "      <td>NaN</td>\n",
       "      <td>33.799665</td>\n",
       "      <td>-110.811659</td>\n",
       "      <td>NaN</td>\n",
       "      <td>NaN</td>\n",
       "    </tr>\n",
       "  </tbody>\n",
       "</table>\n",
       "<p>2 rows × 24 columns</p>\n",
       "</div>"
      ],
      "text/plain": [
       "  state city  county_name       date incid_type  burnbndac  smoke_score  \\\n",
       "0    AZ  NaN  Gila County 2010-06-04        NaN        NaN          1.0   \n",
       "1    AZ  NaN  Gila County 2010-06-06        NaN        NaN          1.0   \n",
       "\n",
       "   no2_max_ppb no2_aqi_label  o3_max_ppb  ... co_aqi_label  incid_name  \\\n",
       "0          NaN           NaN         NaN  ...          NaN         NaN   \n",
       "1          NaN           NaN         NaN  ...          NaN         NaN   \n",
       "\n",
       "  event_id  asmnt_type burnbndlat burnbndlon    lat_smo     lon_smo  \\\n",
       "0      NaN         NaN        NaN        NaN  33.799665 -110.811659   \n",
       "1      NaN         NaN        NaN        NaN  33.799665 -110.811659   \n",
       "\n",
       "   aqi_address  reverse_geocode  \n",
       "0          NaN              NaN  \n",
       "1          NaN              NaN  \n",
       "\n",
       "[2 rows x 24 columns]"
      ]
     },
     "execution_count": 43,
     "metadata": {},
     "output_type": "execute_result"
    }
   ],
   "source": [
    "merged.head(2)"
   ]
  },
  {
   "cell_type": "code",
   "execution_count": 44,
   "metadata": {
    "ExecuteTime": {
     "end_time": "2021-05-17T05:53:40.771979Z",
     "start_time": "2021-05-17T05:53:40.541884Z"
    },
    "scrolled": true
   },
   "outputs": [
    {
     "data": {
      "text/html": [
       "<div>\n",
       "<style scoped>\n",
       "    .dataframe tbody tr th:only-of-type {\n",
       "        vertical-align: middle;\n",
       "    }\n",
       "\n",
       "    .dataframe tbody tr th {\n",
       "        vertical-align: top;\n",
       "    }\n",
       "\n",
       "    .dataframe thead th {\n",
       "        text-align: right;\n",
       "    }\n",
       "</style>\n",
       "<table border=\"1\" class=\"dataframe\">\n",
       "  <thead>\n",
       "    <tr style=\"text-align: right;\">\n",
       "      <th></th>\n",
       "      <th>count</th>\n",
       "      <th>mean</th>\n",
       "      <th>std</th>\n",
       "      <th>min</th>\n",
       "      <th>25%</th>\n",
       "      <th>50%</th>\n",
       "      <th>75%</th>\n",
       "      <th>max</th>\n",
       "    </tr>\n",
       "  </thead>\n",
       "  <tbody>\n",
       "    <tr>\n",
       "      <th>burnbndac</th>\n",
       "      <td>2210.0</td>\n",
       "      <td>14122.906787</td>\n",
       "      <td>38516.472515</td>\n",
       "      <td>1001.000000</td>\n",
       "      <td>1877.000000</td>\n",
       "      <td>3505.000000</td>\n",
       "      <td>11581.500000</td>\n",
       "      <td>563664.000000</td>\n",
       "    </tr>\n",
       "    <tr>\n",
       "      <th>smoke_score</th>\n",
       "      <td>72163.0</td>\n",
       "      <td>1.383271</td>\n",
       "      <td>0.626298</td>\n",
       "      <td>1.000000</td>\n",
       "      <td>1.000000</td>\n",
       "      <td>1.000000</td>\n",
       "      <td>2.000000</td>\n",
       "      <td>3.000000</td>\n",
       "    </tr>\n",
       "    <tr>\n",
       "      <th>no2_max_ppb</th>\n",
       "      <td>196539.0</td>\n",
       "      <td>25.411648</td>\n",
       "      <td>15.288270</td>\n",
       "      <td>-1.600000</td>\n",
       "      <td>13.000000</td>\n",
       "      <td>25.000000</td>\n",
       "      <td>36.300000</td>\n",
       "      <td>156.900000</td>\n",
       "    </tr>\n",
       "    <tr>\n",
       "      <th>o3_max_ppb</th>\n",
       "      <td>196539.0</td>\n",
       "      <td>39.584744</td>\n",
       "      <td>15.223693</td>\n",
       "      <td>0.000000</td>\n",
       "      <td>30.000000</td>\n",
       "      <td>38.000000</td>\n",
       "      <td>48.000000</td>\n",
       "      <td>124.000000</td>\n",
       "    </tr>\n",
       "    <tr>\n",
       "      <th>so2_max_ppb</th>\n",
       "      <td>196539.0</td>\n",
       "      <td>1.364822</td>\n",
       "      <td>2.021354</td>\n",
       "      <td>-1.300000</td>\n",
       "      <td>0.400000</td>\n",
       "      <td>1.000000</td>\n",
       "      <td>1.800000</td>\n",
       "      <td>178.500000</td>\n",
       "    </tr>\n",
       "    <tr>\n",
       "      <th>co_max_ppm</th>\n",
       "      <td>196539.0</td>\n",
       "      <td>0.620905</td>\n",
       "      <td>0.510163</td>\n",
       "      <td>-0.400000</td>\n",
       "      <td>0.300000</td>\n",
       "      <td>0.500000</td>\n",
       "      <td>0.800000</td>\n",
       "      <td>17.500000</td>\n",
       "    </tr>\n",
       "    <tr>\n",
       "      <th>burnbndlat</th>\n",
       "      <td>2210.0</td>\n",
       "      <td>39.898157</td>\n",
       "      <td>5.118260</td>\n",
       "      <td>31.299000</td>\n",
       "      <td>34.576000</td>\n",
       "      <td>40.491500</td>\n",
       "      <td>44.233500</td>\n",
       "      <td>48.975000</td>\n",
       "    </tr>\n",
       "    <tr>\n",
       "      <th>burnbndlon</th>\n",
       "      <td>2210.0</td>\n",
       "      <td>-116.689470</td>\n",
       "      <td>3.680502</td>\n",
       "      <td>-124.086000</td>\n",
       "      <td>-119.378500</td>\n",
       "      <td>-117.080000</td>\n",
       "      <td>-114.189250</td>\n",
       "      <td>-108.510000</td>\n",
       "    </tr>\n",
       "    <tr>\n",
       "      <th>lat_smo</th>\n",
       "      <td>72163.0</td>\n",
       "      <td>39.520424</td>\n",
       "      <td>4.654655</td>\n",
       "      <td>30.717729</td>\n",
       "      <td>35.702994</td>\n",
       "      <td>39.102653</td>\n",
       "      <td>42.692191</td>\n",
       "      <td>53.356450</td>\n",
       "    </tr>\n",
       "    <tr>\n",
       "      <th>lon_smo</th>\n",
       "      <td>72163.0</td>\n",
       "      <td>-112.860038</td>\n",
       "      <td>11.173318</td>\n",
       "      <td>-123.932667</td>\n",
       "      <td>-120.997662</td>\n",
       "      <td>-116.760858</td>\n",
       "      <td>-110.321388</td>\n",
       "      <td>-71.305557</td>\n",
       "    </tr>\n",
       "  </tbody>\n",
       "</table>\n",
       "</div>"
      ],
      "text/plain": [
       "                count          mean           std          min          25%  \\\n",
       "burnbndac      2210.0  14122.906787  38516.472515  1001.000000  1877.000000   \n",
       "smoke_score   72163.0      1.383271      0.626298     1.000000     1.000000   \n",
       "no2_max_ppb  196539.0     25.411648     15.288270    -1.600000    13.000000   \n",
       "o3_max_ppb   196539.0     39.584744     15.223693     0.000000    30.000000   \n",
       "so2_max_ppb  196539.0      1.364822      2.021354    -1.300000     0.400000   \n",
       "co_max_ppm   196539.0      0.620905      0.510163    -0.400000     0.300000   \n",
       "burnbndlat     2210.0     39.898157      5.118260    31.299000    34.576000   \n",
       "burnbndlon     2210.0   -116.689470      3.680502  -124.086000  -119.378500   \n",
       "lat_smo       72163.0     39.520424      4.654655    30.717729    35.702994   \n",
       "lon_smo       72163.0   -112.860038     11.173318  -123.932667  -120.997662   \n",
       "\n",
       "                     50%           75%            max  \n",
       "burnbndac    3505.000000  11581.500000  563664.000000  \n",
       "smoke_score     1.000000      2.000000       3.000000  \n",
       "no2_max_ppb    25.000000     36.300000     156.900000  \n",
       "o3_max_ppb     38.000000     48.000000     124.000000  \n",
       "so2_max_ppb     1.000000      1.800000     178.500000  \n",
       "co_max_ppm      0.500000      0.800000      17.500000  \n",
       "burnbndlat     40.491500     44.233500      48.975000  \n",
       "burnbndlon   -117.080000   -114.189250    -108.510000  \n",
       "lat_smo        39.102653     42.692191      53.356450  \n",
       "lon_smo      -116.760858   -110.321388     -71.305557  "
      ]
     },
     "execution_count": 44,
     "metadata": {},
     "output_type": "execute_result"
    }
   ],
   "source": [
    "merged.describe().T"
   ]
  },
  {
   "cell_type": "code",
   "execution_count": 45,
   "metadata": {
    "ExecuteTime": {
     "end_time": "2021-05-17T05:53:40.784586Z",
     "start_time": "2021-05-17T05:53:40.776337Z"
    }
   },
   "outputs": [],
   "source": [
    "#look for timelapses\n"
   ]
  },
  {
   "cell_type": "code",
   "execution_count": null,
   "metadata": {
    "ExecuteTime": {
     "start_time": "2021-05-17T07:40:51.544Z"
    }
   },
   "outputs": [],
   "source": [
    "#relationships\n",
    "#pairplot\n",
    "sns.pairplot(merged)"
   ]
  },
  {
   "cell_type": "code",
   "execution_count": null,
   "metadata": {},
   "outputs": [],
   "source": []
  }
 ],
 "metadata": {
  "kernelspec": {
   "display_name": "Python 3",
   "language": "python",
   "name": "python3"
  },
  "language_info": {
   "codemirror_mode": {
    "name": "ipython",
    "version": 3
   },
   "file_extension": ".py",
   "mimetype": "text/x-python",
   "name": "python",
   "nbconvert_exporter": "python",
   "pygments_lexer": "ipython3",
   "version": "3.8.3"
  },
  "toc": {
   "base_numbering": 1,
   "nav_menu": {},
   "number_sections": true,
   "sideBar": true,
   "skip_h1_title": false,
   "title_cell": "Table of Contents",
   "title_sidebar": "Contents",
   "toc_cell": false,
   "toc_position": {},
   "toc_section_display": true,
   "toc_window_display": true
  },
  "varInspector": {
   "cols": {
    "lenName": 16,
    "lenType": 16,
    "lenVar": 40
   },
   "kernels_config": {
    "python": {
     "delete_cmd_postfix": "",
     "delete_cmd_prefix": "del ",
     "library": "var_list.py",
     "varRefreshCmd": "print(var_dic_list())"
    },
    "r": {
     "delete_cmd_postfix": ") ",
     "delete_cmd_prefix": "rm(",
     "library": "var_list.r",
     "varRefreshCmd": "cat(var_dic_list()) "
    }
   },
   "types_to_exclude": [
    "module",
    "function",
    "builtin_function_or_method",
    "instance",
    "_Feature"
   ],
   "window_display": false
  }
 },
 "nbformat": 4,
 "nbformat_minor": 4
}
