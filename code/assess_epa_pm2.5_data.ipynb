{
 "cells": [
  {
   "cell_type": "markdown",
   "id": "ee29ba57",
   "metadata": {},
   "source": [
    "### Filtering this EPA-sourced kaggle data down to the metrics we care about\n",
    "Download original [here](https://www.kaggle.com/epa/hazardous-air-pollutants?select=epa_hap_daily_summary.csv)  \n",
    "No other cleaning performed yet - this is just so you can download and see what I'm seeing."
   ]
  },
  {
   "cell_type": "code",
   "execution_count": 61,
   "id": "273e7a17",
   "metadata": {},
   "outputs": [],
   "source": [
    "data = pd.read_csv('../scratch_data/epa_hap_daily_summary.csv')"
   ]
  },
  {
   "cell_type": "code",
   "execution_count": 62,
   "id": "bed46684",
   "metadata": {},
   "outputs": [],
   "source": [
    "# drop States outside of focus area\n",
    "keep_states = ['California', 'Washington', 'Oregon', 'Arizona', 'Nevada', 'Idaho', 'Utah']\n",
    "data = data.loc[new_kaggle['state_name'].isin(keep_states)]"
   ]
  },
  {
   "cell_type": "code",
   "execution_count": 63,
   "id": "a0f2f9dd",
   "metadata": {},
   "outputs": [],
   "source": [
    "# drop pollutants outside of focus area\n",
    "data = data.loc[new_kaggle['parameter_name'].str.contains('2.5')]"
   ]
  },
  {
   "cell_type": "code",
   "execution_count": 64,
   "id": "9eac7daf",
   "metadata": {},
   "outputs": [],
   "source": [
    "# specify date range\n",
    "data = data.loc[new_kaggle['date_local']>='2010-01-01']"
   ]
  },
  {
   "cell_type": "code",
   "execution_count": 69,
   "id": "ee1fed26",
   "metadata": {},
   "outputs": [],
   "source": [
    "# # update with your filepath, label very descriptively\n",
    "# data.to_csv('../scratch_data/pm2.5_epa_2010_2017.csv', index=False)"
   ]
  }
 ],
 "metadata": {
  "kernelspec": {
   "display_name": "Python 3",
   "language": "python",
   "name": "python3"
  },
  "language_info": {
   "codemirror_mode": {
    "name": "ipython",
    "version": 3
   },
   "file_extension": ".py",
   "mimetype": "text/x-python",
   "name": "python",
   "nbconvert_exporter": "python",
   "pygments_lexer": "ipython3",
   "version": "3.9.2"
  }
 },
 "nbformat": 4,
 "nbformat_minor": 5
}
