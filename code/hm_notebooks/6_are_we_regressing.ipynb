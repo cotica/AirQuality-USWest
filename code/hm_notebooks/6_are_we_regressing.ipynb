{
 "cells": [
  {
   "cell_type": "code",
   "execution_count": 1,
   "id": "9f6e7d2a",
   "metadata": {
    "ExecuteTime": {
     "end_time": "2021-05-21T18:43:07.842161Z",
     "start_time": "2021-05-21T18:43:07.445362Z"
    }
   },
   "outputs": [],
   "source": [
    "import numpy as np\n",
    "import pandas as pd\n",
    "import seaborn as sns\n",
    "import matplotlib.pyplot as plt\n",
    "from datetime import datetime, timedelta"
   ]
  },
  {
   "cell_type": "code",
   "execution_count": 2,
   "id": "032f8264",
   "metadata": {
    "ExecuteTime": {
     "end_time": "2021-05-21T18:43:07.917264Z",
     "start_time": "2021-05-21T18:43:07.843052Z"
    }
   },
   "outputs": [],
   "source": [
    "from sklearn.linear_model import LogisticRegression, LinearRegression, Lasso, LassoCV, Ridge, RidgeCV\n",
    "from sklearn.preprocessing import StandardScaler\n",
    "from sklearn.pipeline import Pipeline\n",
    "from sklearn.metrics import confusion_matrix, plot_confusion_matrix, \\\n",
    "                            r2_score, precision_score, f1_score, \\\n",
    "                            recall_score, accuracy_score, mean_squared_error\n",
    "from sklearn.model_selection import train_test_split, RandomizedSearchCV\n",
    "from sklearn.dummy import DummyRegressor, DummyClassifier\n",
    "from scipy.stats import randint, uniform, loguniform\n",
    "from sklearn.svm import SVR"
   ]
  },
  {
   "cell_type": "code",
   "execution_count": 3,
   "id": "f36641cd",
   "metadata": {
    "ExecuteTime": {
     "end_time": "2021-05-21T18:43:07.921107Z",
     "start_time": "2021-05-21T18:43:07.919748Z"
    }
   },
   "outputs": [],
   "source": [
    "# pd.set_option('display.max_rows', None)\n",
    "# pd.set_option('display.max_columns', None)"
   ]
  },
  {
   "cell_type": "code",
   "execution_count": 4,
   "id": "e884d6d6",
   "metadata": {
    "ExecuteTime": {
     "end_time": "2021-05-21T18:43:08.033862Z",
     "start_time": "2021-05-21T18:43:07.921794Z"
    }
   },
   "outputs": [],
   "source": [
    "data = pd.read_csv('./model_data.csv')"
   ]
  },
  {
   "cell_type": "markdown",
   "id": "8c71eff4",
   "metadata": {},
   "source": [
    "#### Modeling air quality\n",
    "The pollutant features in this dataset were used to generate the overall air quality metric, which we will be trying to predict based on fire attributes.  The grand motive behind this research question was to define the different impacts of wildfires vs. prescribed fires, to see if there were recommendations for management plans that might reduce unhealthy air quality exposure. After force-merging three uncoordinated datasets, what appeared to be an overwhelming wealth of data condensed down to a comparative handful of useful datapoints.  The plight of many retroactive research questions. Modeling is the weak aspect of this project: this will not yield impressive predictive power nor compelling management suggestions.  In light of that, the following modeling methods are chosen to prioritize inference and shed light on any measureable relationships of features to our target (read: interpretable coefficients).  While we can't forecast the optimal prescribed burn regimen to maximize air quality with these models, hopefully we will validate trends visualized in EDA.\n",
    "\n",
    "---\n",
    "'overall_aqi' is an artificially engineered feature, comprising the product of the individual pollutant aqi_measurements.  Thus, all pollutant features are covariates with the target variable.  Actually, more than covariate or collinear with y, they are just _transformations_ of y, so are not valid features for regression.  Spoiler: the pollutants are correlated to the product of the pollutants.\n",
    "\n",
    "---\n",
    "\n",
    "The following models explore how to best infer the relationship between air quality and available fire attributes (acreage, wild vs. prescribed, smoke level)."
   ]
  },
  {
   "cell_type": "code",
   "execution_count": 5,
   "id": "ff763a3d",
   "metadata": {
    "ExecuteTime": {
     "end_time": "2021-05-21T18:43:08.057572Z",
     "start_time": "2021-05-21T18:43:08.034821Z"
    }
   },
   "outputs": [],
   "source": [
    "data = data[['state', 'county_name', 'date', 'incid_type', 'burnbndac', 'smoke_score',\n",
    "            'incid_name', 'event_id', 'overall_aqi', 'any_lat', 'any_lon', 'cluster',\n",
    "            'class_g', 'yes_fire']].copy()\n",
    "fmt = '%Y-%m-%d'\n",
    "data['date'] = pd.to_datetime(data['date'], format=fmt)"
   ]
  },
  {
   "cell_type": "code",
   "execution_count": 6,
   "id": "bb22f0d2",
   "metadata": {
    "ExecuteTime": {
     "end_time": "2021-05-21T18:43:08.066093Z",
     "start_time": "2021-05-21T18:43:08.058277Z"
    }
   },
   "outputs": [
    {
     "data": {
      "text/plain": [
       "No_fire            45433\n",
       "Wildfire           42296\n",
       "Prescribed Fire      752\n",
       "Name: incid_type, dtype: int64"
      ]
     },
     "execution_count": 6,
     "metadata": {},
     "output_type": "execute_result"
    }
   ],
   "source": [
    "# reassign 'Unknown' fires as 'Wildfire'\n",
    "data.incid_type.value_counts()"
   ]
  },
  {
   "cell_type": "code",
   "execution_count": 7,
   "id": "80924ffe",
   "metadata": {
    "ExecuteTime": {
     "end_time": "2021-05-21T18:43:08.076077Z",
     "start_time": "2021-05-21T18:43:08.066917Z"
    }
   },
   "outputs": [],
   "source": [
    "data['incid_type'] = data['incid_type'].map(lambda x: 'Wildfire' if x=='Unknown' else x)"
   ]
  },
  {
   "cell_type": "code",
   "execution_count": 8,
   "id": "ff5beea0",
   "metadata": {
    "ExecuteTime": {
     "end_time": "2021-05-21T18:43:08.080975Z",
     "start_time": "2021-05-21T18:43:08.078047Z"
    }
   },
   "outputs": [],
   "source": [
    "# data.isnull().sum()  #smoke_score has 0.8% nulls, impute with mean\n",
    "data['smoke_score'] = data['smoke_score'].fillna(np.mean(data['smoke_score']))"
   ]
  },
  {
   "cell_type": "code",
   "execution_count": 9,
   "id": "e63516a9",
   "metadata": {
    "ExecuteTime": {
     "end_time": "2021-05-21T18:43:08.109894Z",
     "start_time": "2021-05-21T18:43:08.082994Z"
    }
   },
   "outputs": [],
   "source": [
    "data.drop_duplicates(inplace=True)"
   ]
  },
  {
   "cell_type": "code",
   "execution_count": 10,
   "id": "48009ec9",
   "metadata": {
    "ExecuteTime": {
     "end_time": "2021-05-21T18:43:08.198210Z",
     "start_time": "2021-05-21T18:43:08.110611Z"
    }
   },
   "outputs": [
    {
     "data": {
      "image/png": "[encoded data removed]",
      "text/plain": [
       "<Figure size 288x432 with 2 Axes>"
      ]
     },
     "metadata": {
      "needs_background": "light"
     },
     "output_type": "display_data"
    }
   ],
   "source": [
    "#does not look promising\n",
    "plt.figure(figsize=(4,6))\n",
    "corr = data.corr()[['overall_aqi']].sort_values('overall_aqi', ascending=False)\n",
    "sns.heatmap(corr, cmap='mako', annot=True, vmin=-1, vmax=1);"
   ]
  },
  {
   "cell_type": "markdown",
   "id": "0a206e61",
   "metadata": {},
   "source": [
    "##### Dummy model"
   ]
  },
  {
   "cell_type": "code",
   "execution_count": 11,
   "id": "e64d1617",
   "metadata": {
    "ExecuteTime": {
     "end_time": "2021-05-21T18:43:08.211872Z",
     "start_time": "2021-05-21T18:43:08.199120Z"
    }
   },
   "outputs": [
    {
     "name": "stdout",
     "output_type": "stream",
     "text": [
      "<class 'pandas.core.frame.DataFrame'>\n",
      "Int64Index: 73479 entries, 0 to 88480\n",
      "Data columns (total 14 columns):\n",
      " #   Column       Non-Null Count  Dtype         \n",
      "---  ------       --------------  -----         \n",
      " 0   state        73479 non-null  object        \n",
      " 1   county_name  73479 non-null  object        \n",
      " 2   date         73479 non-null  datetime64[ns]\n",
      " 3   incid_type   73479 non-null  object        \n",
      " 4   burnbndac    73479 non-null  float64       \n",
      " 5   smoke_score  73479 non-null  float64       \n",
      " 6   incid_name   1929 non-null   object        \n",
      " 7   event_id     1929 non-null   object        \n",
      " 8   overall_aqi  73479 non-null  int64         \n",
      " 9   any_lat      73479 non-null  float64       \n",
      " 10  any_lon      73479 non-null  float64       \n",
      " 11  cluster      73479 non-null  int64         \n",
      " 12  class_g      73479 non-null  int64         \n",
      " 13  yes_fire     73479 non-null  float64       \n",
      "dtypes: datetime64[ns](1), float64(5), int64(3), object(5)\n",
      "memory usage: 8.4+ MB\n"
     ]
    }
   ],
   "source": [
    "data.info()"
   ]
  },
  {
   "cell_type": "code",
   "execution_count": 12,
   "id": "aee40093",
   "metadata": {
    "ExecuteTime": {
     "end_time": "2021-05-21T18:43:08.217171Z",
     "start_time": "2021-05-21T18:43:08.212824Z"
    }
   },
   "outputs": [],
   "source": [
    "strip_data = data.drop(['state', 'county_name', 'incid_name', 'event_id', 'any_lat',\n",
    "                      'any_lon'], axis=1).copy()"
   ]
  },
  {
   "cell_type": "code",
   "execution_count": 13,
   "id": "d07c0115",
   "metadata": {
    "ExecuteTime": {
     "end_time": "2021-05-21T18:43:08.243976Z",
     "start_time": "2021-05-21T18:43:08.217932Z"
    }
   },
   "outputs": [],
   "source": [
    "strip_data['cluster'] = strip_data['cluster'].astype(str)"
   ]
  },
  {
   "cell_type": "code",
   "execution_count": 14,
   "id": "7cf5a852",
   "metadata": {
    "ExecuteTime": {
     "end_time": "2021-05-21T18:43:08.259128Z",
     "start_time": "2021-05-21T18:43:08.244736Z"
    }
   },
   "outputs": [],
   "source": [
    "strip_data = pd.get_dummies(strip_data, drop_first=True)"
   ]
  },
  {
   "cell_type": "code",
   "execution_count": 15,
   "id": "87571966",
   "metadata": {
    "ExecuteTime": {
     "end_time": "2021-05-21T18:43:08.261312Z",
     "start_time": "2021-05-21T18:43:08.259963Z"
    },
    "scrolled": false
   },
   "outputs": [],
   "source": [
    "#strip_data.info()"
   ]
  },
  {
   "cell_type": "code",
   "execution_count": 16,
   "id": "14a36846",
   "metadata": {
    "ExecuteTime": {
     "end_time": "2021-05-21T18:43:08.304051Z",
     "start_time": "2021-05-21T18:43:08.262110Z"
    }
   },
   "outputs": [],
   "source": [
    "X = strip_data.drop(['overall_aqi', 'date'], axis=1)\n",
    "y = strip_data['overall_aqi']\n",
    "\n",
    "X_train, X_test, y_train, y_test = train_test_split(X, y, random_state=42)\n",
    "\n",
    "ss = StandardScaler() #in linreg scaling changes coefs but not scores...ditch in future\n",
    "Z_train = ss.fit_transform(X_train)\n",
    "Z_test = ss.transform(X_test)"
   ]
  },
  {
   "cell_type": "code",
   "execution_count": 17,
   "id": "d263f26e",
   "metadata": {
    "ExecuteTime": {
     "end_time": "2021-05-21T18:43:08.307635Z",
     "start_time": "2021-05-21T18:43:08.304831Z"
    }
   },
   "outputs": [
    {
     "data": {
      "text/plain": [
       "DummyRegressor()"
      ]
     },
     "execution_count": 17,
     "metadata": {},
     "output_type": "execute_result"
    }
   ],
   "source": [
    "dummy_model = DummyRegressor()\n",
    "dummy_model.fit(Z_train, y_train)"
   ]
  },
  {
   "cell_type": "code",
   "execution_count": 18,
   "id": "8ce47001",
   "metadata": {
    "ExecuteTime": {
     "end_time": "2021-05-21T18:43:08.311593Z",
     "start_time": "2021-05-21T18:43:08.308325Z"
    }
   },
   "outputs": [
    {
     "data": {
      "text/plain": [
       "(0.0, -5.945941827789625e-08)"
      ]
     },
     "execution_count": 18,
     "metadata": {},
     "output_type": "execute_result"
    }
   ],
   "source": [
    "# dummy_model is as wrong as humanly possible. AND overfit!?\n",
    "# we can only improve?\n",
    "dummy_model.score(Z_train, y_train), dummy_model.score(Z_test, y_test)"
   ]
  },
  {
   "cell_type": "markdown",
   "id": "04be8497",
   "metadata": {},
   "source": [
    "## By cluster\n",
    "As seen above, these numeric features do not correlate strongly with our target value at all.  Looking at the data as a whole is misleading, however.  The geographic range of this dataset is expansive, so \"large\" fires may still register as a relative blip and not be picked up by air quality sensors that are many States away.  To zoom in a bit and see if there are air quality impacts when there is a _nearby_ fire, 32 clusters have been identified through KMeans clustering.  Proximity-based clusters like this are more descriptive than other location identifiers because wildfires don't give a hoot about State and county borders."
   ]
  },
  {
   "cell_type": "code",
   "execution_count": 19,
   "id": "0a1e2a60",
   "metadata": {
    "ExecuteTime": {
     "end_time": "2021-05-21T18:43:08.336982Z",
     "start_time": "2021-05-21T18:43:08.312422Z"
    }
   },
   "outputs": [],
   "source": [
    "#reset\n",
    "strip_data = data.drop(['state', 'county_name', 'incid_name', 'event_id', 'any_lat',\n",
    "                      'any_lon'], axis=1).copy()\n",
    "\n",
    "strip_data = pd.get_dummies(strip_data, drop_first=True) #dummify incid_type\n",
    "#breakout clusters into separate dfs for modeling\n",
    "clusters = set(strip_data['cluster'])\n",
    "\n",
    "df_list = []  #list of 32 x subset dfs\n",
    "\n",
    "for i in clusters:\n",
    "    df_list.append(strip_data.loc[strip_data['cluster']==i])"
   ]
  },
  {
   "cell_type": "code",
   "execution_count": 20,
   "id": "d689f9f6",
   "metadata": {
    "ExecuteTime": {
     "end_time": "2021-05-21T18:43:08.340966Z",
     "start_time": "2021-05-21T18:43:08.337658Z"
    }
   },
   "outputs": [
    {
     "data": {
      "text/plain": [
       "0       68903\n",
       "1        2872\n",
       "4        1135\n",
       "16        517\n",
       "64         38\n",
       "25          8\n",
       "256         4\n",
       "1024        2\n",
       "Name: overall_aqi, dtype: int64"
      ]
     },
     "execution_count": 20,
     "metadata": {},
     "output_type": "execute_result"
    }
   ],
   "source": [
    "strip_data.overall_aqi.value_counts()"
   ]
  },
  {
   "cell_type": "code",
   "execution_count": 21,
   "id": "b2a0d8a7",
   "metadata": {
    "ExecuteTime": {
     "end_time": "2021-05-21T18:43:08.344630Z",
     "start_time": "2021-05-21T18:43:08.341656Z"
    }
   },
   "outputs": [],
   "source": [
    " def so_many_lin_regs(df_list):   \n",
    "    \n",
    "    count=0\n",
    "    \n",
    "    master = []\n",
    "    \n",
    "    for i in df_list:\n",
    "        print(f'start cluster {count}')\n",
    "        \n",
    "        info = ['cluster=' + str(count)]\n",
    "        \n",
    "        X = i.drop(['date', 'cluster', 'overall_aqi'], axis=1)\n",
    "        y = i['overall_aqi']\n",
    "        X_train, X_test, y_train, y_test = train_test_split(X, y, random_state=42)\n",
    "\n",
    "        lr=LinearRegression()\n",
    "        lr.fit(X_train, y_train)\n",
    "        tr = lr.score(X_train, y_train)\n",
    "        te = lr.score(X_test, y_test)\n",
    "        info.append((tr, te))\n",
    "        \n",
    "        coefs = pd.Series(lr.coef_, index=X_train.columns)\n",
    "        coefs = pd.DataFrame(coefs.sort_values(ascending=False).round(4)).rename(columns={0:'coefs'})\n",
    "        info.append(coefs)\n",
    "        \n",
    "        master.append(info)\n",
    "        count += 1\n",
    "        \n",
    "        \n",
    "    return master    "
   ]
  },
  {
   "cell_type": "code",
   "execution_count": 22,
   "id": "df2ea870",
   "metadata": {
    "ExecuteTime": {
     "end_time": "2021-05-21T18:43:08.466515Z",
     "start_time": "2021-05-21T18:43:08.345397Z"
    },
    "scrolled": true
   },
   "outputs": [
    {
     "name": "stdout",
     "output_type": "stream",
     "text": [
      "start cluster 0\n",
      "start cluster 1\n",
      "start cluster 2\n",
      "start cluster 3\n",
      "start cluster 4\n",
      "start cluster 5\n",
      "start cluster 6\n",
      "start cluster 7\n",
      "start cluster 8\n",
      "start cluster 9\n",
      "start cluster 10\n",
      "start cluster 11\n",
      "start cluster 12\n",
      "start cluster 13\n",
      "start cluster 14\n",
      "start cluster 15\n",
      "start cluster 16\n",
      "start cluster 17\n",
      "start cluster 18\n",
      "start cluster 19\n",
      "start cluster 20\n",
      "start cluster 21\n",
      "start cluster 22\n",
      "start cluster 23\n",
      "start cluster 24\n",
      "start cluster 25\n",
      "start cluster 26\n",
      "start cluster 27\n",
      "start cluster 28\n",
      "start cluster 29\n",
      "start cluster 30\n",
      "start cluster 31\n"
     ]
    }
   ],
   "source": [
    "all_mods1 = so_many_lin_regs(df_list)"
   ]
  },
  {
   "cell_type": "code",
   "execution_count": 23,
   "id": "d6410a1a",
   "metadata": {
    "ExecuteTime": {
     "end_time": "2021-05-21T18:43:08.472634Z",
     "start_time": "2021-05-21T18:43:08.467548Z"
    }
   },
   "outputs": [
    {
     "data": {
      "text/plain": [
       "[['cluster=16',\n",
       "  (0.0006895089079546057, -0.0038891827052049965),\n",
       "                               coefs\n",
       "  incid_type_Wildfire         0.0008\n",
       "  yes_fire                    0.0004\n",
       "  burnbndac                   0.0000\n",
       "  smoke_score                -0.0001\n",
       "  incid_type_Prescribed Fire -0.0004\n",
       "  class_g                    -0.0047],\n",
       " ['cluster=17',\n",
       "  (1.0, 1.0),\n",
       "                              coefs\n",
       "  burnbndac                     0.0\n",
       "  smoke_score                   0.0\n",
       "  class_g                       0.0\n",
       "  yes_fire                      0.0\n",
       "  incid_type_Prescribed Fire    0.0\n",
       "  incid_type_Wildfire           0.0],\n",
       " ['cluster=18',\n",
       "  (0.0010618984310217794, -0.002919934613796471),\n",
       "                               coefs\n",
       "  class_g                     0.2681\n",
       "  incid_type_Wildfire         0.1025\n",
       "  burnbndac                  -0.0000\n",
       "  smoke_score                -0.0020\n",
       "  yes_fire                   -0.1686\n",
       "  incid_type_Prescribed Fire -0.2711],\n",
       " ['cluster=19',\n",
       "  (0.05371985128528045, 0.02378895761989508),\n",
       "                               coefs\n",
       "  incid_type_Wildfire         2.0553\n",
       "  yes_fire                    1.0358\n",
       "  smoke_score                 0.1211\n",
       "  burnbndac                  -0.0002\n",
       "  incid_type_Prescribed Fire -1.0195\n",
       "  class_g                    -1.8636]]"
      ]
     },
     "execution_count": 23,
     "metadata": {},
     "output_type": "execute_result"
    }
   ],
   "source": [
    "# top of list entry is 'cluster=X, training R2, testing R2'\n",
    "all_mods1[16:20]"
   ]
  },
  {
   "cell_type": "markdown",
   "id": "186d20ab",
   "metadata": {},
   "source": [
    "## Maybe not clusters\n",
    "\n",
    "Scores are abysmal.  I guess you could say they are overfit, as most test scores are worse than training, but let's be real reducing variance isn't going to cut it.  Some pairs of training/test scores are 1, which has drawn my attention to some clusters having constant AQI scores, meaning 0 sensors were in the region.  They were still clustered as a data-centric zone due to the presence of fires and smoke measurements, but no AQI readings. Even non-constant clusters are just overwhelmed by the 0s, which were long ago imputed to represent 0 reading (and assumed baseline smoke coverage).  Removing 0s now - the equivalent of dropping nulls.  This will absolutely TORCH the amount of data, but since there are no quantifiable relationships in the 'maintain as much data as possible' approach, I'm going for it.   \n",
    "\n",
    "---\n",
    "\n",
    "Cluster 19 shows the only semblance of a non-0 or non-negative R2 score and some coefficients that make intuitive sense.  This is an area in southern Arizona that had been identified early in data exploration as having a high amount of data compared to all other regions.  \n",
    "Next steps\n",
    "1) Remove 0s and rerun linear regression fits on remaining data\n",
    "2) Examine cluster 19 specifically"
   ]
  },
  {
   "cell_type": "markdown",
   "id": "e50422f5",
   "metadata": {},
   "source": [
    "| Cluster | Training R2 | Test R2 | comment                 |\n",
    "|---------|-------------|---------|-------------------------|\n",
    "| 19      | 0.05        | 0.02    | not negative, count it! |\n",
    "| 3       | 1.0         | 1.0     | uh oh                   |\n",
    "| 5       | 1.0         | 1.0     | dangit                  |\n",
    "| 6       | 1.0         | 1.0     | oh come on              |"
   ]
  },
  {
   "cell_type": "code",
   "execution_count": 24,
   "id": "32f2ca42",
   "metadata": {
    "ExecuteTime": {
     "end_time": "2021-05-21T18:43:08.476066Z",
     "start_time": "2021-05-21T18:43:08.473406Z"
    }
   },
   "outputs": [],
   "source": [
    "drop_data = strip_data.loc[strip_data['overall_aqi'] != 0].copy()"
   ]
  },
  {
   "cell_type": "code",
   "execution_count": 25,
   "id": "263f6187",
   "metadata": {
    "ExecuteTime": {
     "end_time": "2021-05-21T18:43:08.479284Z",
     "start_time": "2021-05-21T18:43:08.476858Z"
    }
   },
   "outputs": [
    {
     "data": {
      "text/plain": [
       "Index(['date', 'burnbndac', 'smoke_score', 'overall_aqi', 'cluster', 'class_g',\n",
       "       'yes_fire', 'incid_type_Prescribed Fire', 'incid_type_Wildfire'],\n",
       "      dtype='object')"
      ]
     },
     "execution_count": 25,
     "metadata": {},
     "output_type": "execute_result"
    }
   ],
   "source": [
    "drop_data.columns"
   ]
  },
  {
   "cell_type": "code",
   "execution_count": 26,
   "id": "e9018079",
   "metadata": {
    "ExecuteTime": {
     "end_time": "2021-05-21T18:43:08.492704Z",
     "start_time": "2021-05-21T18:43:08.484772Z"
    }
   },
   "outputs": [
    {
     "data": {
      "text/plain": [
       "(0.00046924591465369314, -0.010985115362505349)"
      ]
     },
     "execution_count": 26,
     "metadata": {},
     "output_type": "execute_result"
    }
   ],
   "source": [
    "# now that it's super condensed, run on aggregated data,\n",
    "# nope still nothing\n",
    "X = drop_data.drop(['date', 'cluster', 'overall_aqi'], axis=1)\n",
    "y = drop_data['overall_aqi']\n",
    "X_train, X_test, y_train, y_test = train_test_split(X, y, random_state=42)\n",
    "\n",
    "lr=LinearRegression()\n",
    "lr.fit(X_train, y_train)\n",
    "lr.score(X_train, y_train), lr.score(X_test, y_test)"
   ]
  },
  {
   "cell_type": "code",
   "execution_count": 27,
   "id": "f10b3e80",
   "metadata": {
    "ExecuteTime": {
     "end_time": "2021-05-21T18:43:08.504007Z",
     "start_time": "2021-05-21T18:43:08.496538Z"
    }
   },
   "outputs": [],
   "source": [
    "#back to by-cluster, much truncated\n",
    "clusters = set(drop_data['cluster'])  # down to 16\n",
    "df_list = []  #list of 32 x subset dfs\n",
    "for i in clusters:\n",
    "    df_list.append(strip_data.loc[strip_data['cluster']==i])"
   ]
  },
  {
   "cell_type": "code",
   "execution_count": 28,
   "id": "7d1200f4",
   "metadata": {
    "ExecuteTime": {
     "end_time": "2021-05-21T18:43:08.508064Z",
     "start_time": "2021-05-21T18:43:08.505006Z"
    }
   },
   "outputs": [
    {
     "data": {
      "text/plain": [
       "{0, 1, 2, 4, 7, 8, 9, 11, 14, 15, 16, 18, 19, 22, 24, 31}"
      ]
     },
     "execution_count": 28,
     "metadata": {},
     "output_type": "execute_result"
    }
   ],
   "source": [
    "clusters"
   ]
  },
  {
   "cell_type": "code",
   "execution_count": 29,
   "id": "707bd691",
   "metadata": {
    "ExecuteTime": {
     "end_time": "2021-05-21T18:43:08.568698Z",
     "start_time": "2021-05-21T18:43:08.509009Z"
    }
   },
   "outputs": [
    {
     "name": "stdout",
     "output_type": "stream",
     "text": [
      "start cluster 0\n",
      "start cluster 1\n",
      "start cluster 2\n",
      "start cluster 3\n",
      "start cluster 4\n",
      "start cluster 5\n",
      "start cluster 6\n",
      "start cluster 7\n",
      "start cluster 8\n",
      "start cluster 9\n",
      "start cluster 10\n",
      "start cluster 11\n",
      "start cluster 12\n",
      "start cluster 13\n",
      "start cluster 14\n",
      "start cluster 15\n"
     ]
    }
   ],
   "source": [
    "all_mods2 = so_many_lin_regs(df_list)"
   ]
  },
  {
   "cell_type": "code",
   "execution_count": 30,
   "id": "2e3d9b33",
   "metadata": {
    "ExecuteTime": {
     "end_time": "2021-05-21T18:43:08.579751Z",
     "start_time": "2021-05-21T18:43:08.569742Z"
    }
   },
   "outputs": [
    {
     "data": {
      "text/plain": [
       "[['cluster=0',\n",
       "  (0.01960216664907477, 0.01567050744067655),\n",
       "                               coefs\n",
       "  incid_type_Wildfire         0.0495\n",
       "  smoke_score                 0.0143\n",
       "  burnbndac                  -0.0000\n",
       "  yes_fire                   -0.0754\n",
       "  incid_type_Prescribed Fire -0.1249\n",
       "  class_g                    -0.1594],\n",
       " ['cluster=1',\n",
       "  (0.007484876288346598, 0.0028197121681284854),\n",
       "                               coefs\n",
       "  incid_type_Wildfire         0.8766\n",
       "  yes_fire                    0.8766\n",
       "  smoke_score                 0.0449\n",
       "  burnbndac                   0.0004\n",
       "  incid_type_Prescribed Fire  0.0000\n",
       "  class_g                    -7.6209],\n",
       " ['cluster=2',\n",
       "  (0.00033628208908875745, -0.000658105975367862),\n",
       "                               coefs\n",
       "  yes_fire                    0.0012\n",
       "  incid_type_Wildfire         0.0012\n",
       "  incid_type_Prescribed Fire  0.0000\n",
       "  burnbndac                  -0.0000\n",
       "  smoke_score                -0.0033\n",
       "  class_g                    -0.0307],\n",
       " ['cluster=3',\n",
       "  (0.0011390449159107696, -0.005600340960906669),\n",
       "                               coefs\n",
       "  smoke_score                 0.0292\n",
       "  burnbndac                   0.0000\n",
       "  incid_type_Prescribed Fire  0.0000\n",
       "  yes_fire                   -0.0483\n",
       "  incid_type_Wildfire        -0.0483\n",
       "  class_g                    -0.9175],\n",
       " ['cluster=4',\n",
       "  (0.009450492787499543, -0.0025887244302109647),\n",
       "                               coefs\n",
       "  incid_type_Prescribed Fire  0.0191\n",
       "  yes_fire                    0.0138\n",
       "  smoke_score                 0.0003\n",
       "  burnbndac                   0.0000\n",
       "  incid_type_Wildfire        -0.0054\n",
       "  class_g                    -0.0197],\n",
       " ['cluster=5',\n",
       "  (0.0006730288767434756, -0.0006437878799478991),\n",
       "                               coefs\n",
       "  smoke_score                 0.0016\n",
       "  incid_type_Prescribed Fire  0.0000\n",
       "  burnbndac                  -0.0000\n",
       "  yes_fire                   -0.0008\n",
       "  incid_type_Wildfire        -0.0008\n",
       "  class_g                    -0.0492],\n",
       " ['cluster=6',\n",
       "  (0.015396443418962513, -0.00369550629639126),\n",
       "                               coefs\n",
       "  incid_type_Wildfire         0.4843\n",
       "  smoke_score                 0.1413\n",
       "  burnbndac                   0.0001\n",
       "  yes_fire                   -0.3601\n",
       "  incid_type_Prescribed Fire -0.8444\n",
       "  class_g                    -1.8886],\n",
       " ['cluster=7',\n",
       "  (0.006988956969258275, -0.005157261573900174),\n",
       "                               coefs\n",
       "  incid_type_Wildfire         0.1864\n",
       "  yes_fire                    0.0530\n",
       "  smoke_score                 0.0303\n",
       "  burnbndac                  -0.0000\n",
       "  incid_type_Prescribed Fire -0.1334\n",
       "  class_g                    -0.2822],\n",
       " ['cluster=8',\n",
       "  (0.007473926492865823, 0.025737476973383022),\n",
       "                               coefs\n",
       "  yes_fire                    0.0223\n",
       "  incid_type_Wildfire         0.0223\n",
       "  smoke_score                 0.0019\n",
       "  incid_type_Prescribed Fire  0.0000\n",
       "  class_g                    -0.0000\n",
       "  burnbndac                  -0.0000],\n",
       " ['cluster=9',\n",
       "  (0.00909615180381873, 0.016036371584746356),\n",
       "                               coefs\n",
       "  yes_fire                    0.6139\n",
       "  incid_type_Wildfire         0.6139\n",
       "  smoke_score                 0.1306\n",
       "  burnbndac                   0.0000\n",
       "  incid_type_Prescribed Fire  0.0000\n",
       "  class_g                    -2.5989],\n",
       " ['cluster=10',\n",
       "  (0.0006895089079546057, -0.0038891827052049965),\n",
       "                               coefs\n",
       "  incid_type_Wildfire         0.0008\n",
       "  yes_fire                    0.0004\n",
       "  burnbndac                   0.0000\n",
       "  smoke_score                -0.0001\n",
       "  incid_type_Prescribed Fire -0.0004\n",
       "  class_g                    -0.0047],\n",
       " ['cluster=11',\n",
       "  (0.0010618984310217794, -0.002919934613796471),\n",
       "                               coefs\n",
       "  class_g                     0.2681\n",
       "  incid_type_Wildfire         0.1025\n",
       "  burnbndac                  -0.0000\n",
       "  smoke_score                -0.0020\n",
       "  yes_fire                   -0.1686\n",
       "  incid_type_Prescribed Fire -0.2711],\n",
       " ['cluster=12',\n",
       "  (0.05371985128528045, 0.02378895761989508),\n",
       "                               coefs\n",
       "  incid_type_Wildfire         2.0553\n",
       "  yes_fire                    1.0358\n",
       "  smoke_score                 0.1211\n",
       "  burnbndac                  -0.0002\n",
       "  incid_type_Prescribed Fire -1.0195\n",
       "  class_g                    -1.8636],\n",
       " ['cluster=13',\n",
       "  (0.014229817302604753, -0.025188187068124313),\n",
       "                               coefs\n",
       "  class_g                     2.5151\n",
       "  incid_type_Wildfire         0.0810\n",
       "  smoke_score                 0.0239\n",
       "  burnbndac                  -0.0000\n",
       "  yes_fire                   -0.0282\n",
       "  incid_type_Prescribed Fire -0.1092],\n",
       " ['cluster=14',\n",
       "  (0.00011941925777392282, -0.01583385865300091),\n",
       "                               coefs\n",
       "  burnbndac                   0.0004\n",
       "  incid_type_Prescribed Fire  0.0000\n",
       "  smoke_score                -0.0104\n",
       "  incid_type_Wildfire        -1.2262\n",
       "  yes_fire                   -1.2262\n",
       "  class_g                    -4.0237],\n",
       " ['cluster=15',\n",
       "  (0.0013397764346443353, -0.0028437856003376005),\n",
       "                               coefs\n",
       "  incid_type_Wildfire         0.0084\n",
       "  yes_fire                    0.0032\n",
       "  burnbndac                   0.0000\n",
       "  smoke_score                -0.0024\n",
       "  incid_type_Prescribed Fire -0.0052\n",
       "  class_g                    -0.0122]]"
      ]
     },
     "execution_count": 30,
     "metadata": {},
     "output_type": "execute_result"
    }
   ],
   "source": [
    "all_mods2"
   ]
  },
  {
   "cell_type": "markdown",
   "id": "543dc8d6",
   "metadata": {},
   "source": [
    "Consistent performance for Cluster 19 since no values dropped.  Clusters with dropped values do not illustrate better performance. Below is SVR on the dataset with all 0 aqi_s dropped; down to ~4000 total observation.  SVR is just to see what happens, there are no justifications for this being a preferred model-type with these data."
   ]
  },
  {
   "cell_type": "code",
   "execution_count": 31,
   "id": "6c088f74",
   "metadata": {
    "ExecuteTime": {
     "end_time": "2021-05-21T18:43:08.583787Z",
     "start_time": "2021-05-21T18:43:08.580748Z"
    }
   },
   "outputs": [],
   "source": [
    "# SVM just for fun: battle sword at a teaparty kind of vibe\n",
    "# only 4000 rows but 0 progress (or verbose output) when run for 11 hours...\n",
    "svr_pipe=Pipeline([\n",
    "    ('ss', StandardScaler() ),\n",
    "    ('svr', SVR() )\n",
    "])\n",
    "svr_params= {\n",
    "    'svr__degree': randint(2,5),\n",
    "    'svr__C' : loguniform(1e-5, 1e+2),\n",
    "    'svr__kernel': ['rbf', 'poly']\n",
    "}\n",
    "\n",
    "svr = RandomizedSearchCV(estimator=svr_pipe,\n",
    "                         param_distributions=svr_params, verbose=1,\n",
    "                         cv=5)"
   ]
  },
  {
   "cell_type": "code",
   "execution_count": 32,
   "id": "45755138",
   "metadata": {
    "ExecuteTime": {
     "end_time": "2021-05-21T18:43:08.585804Z",
     "start_time": "2021-05-21T18:43:08.584567Z"
    }
   },
   "outputs": [],
   "source": [
    "#svr.fit(X_train, y_train)   #fails to converge"
   ]
  },
  {
   "cell_type": "code",
   "execution_count": 33,
   "id": "a85f0125",
   "metadata": {
    "ExecuteTime": {
     "end_time": "2021-05-21T18:43:08.593032Z",
     "start_time": "2021-05-21T18:43:08.586523Z"
    }
   },
   "outputs": [],
   "source": [
    "# just cluster 19\n",
    "drop_data = strip_data.loc[strip_data['overall_aqi'] != 0].copy()\n",
    "just19 = drop_data.loc[drop_data['cluster']==19].copy()\n",
    "\n",
    "X = just19.drop(['date', 'cluster', 'overall_aqi'], axis=1)\n",
    "y = just19['overall_aqi']\n",
    "X_train, X_test, y_train, y_test = train_test_split(X, y, random_state=42)"
   ]
  },
  {
   "cell_type": "code",
   "execution_count": 34,
   "id": "86148b92",
   "metadata": {
    "ExecuteTime": {
     "end_time": "2021-05-21T18:43:08.751334Z",
     "start_time": "2021-05-21T18:43:08.594078Z"
    }
   },
   "outputs": [
    {
     "name": "stdout",
     "output_type": "stream",
     "text": [
      "Fitting 5 folds for each of 10 candidates, totalling 50 fits\n"
     ]
    },
    {
     "data": {
      "text/plain": [
       "RandomizedSearchCV(cv=5,\n",
       "                   estimator=Pipeline(steps=[('ss', StandardScaler()),\n",
       "                                             ('svr', SVR())]),\n",
       "                   param_distributions={'svr__C': <scipy.stats._distn_infrastructure.rv_frozen object at 0x153b2cbb0>,\n",
       "                                        'svr__degree': <scipy.stats._distn_infrastructure.rv_frozen object at 0x153ac1460>,\n",
       "                                        'svr__kernel': ['rbf', 'poly']},\n",
       "                   verbose=1)"
      ]
     },
     "execution_count": 34,
     "metadata": {},
     "output_type": "execute_result"
    }
   ],
   "source": [
    "svr.fit(X_train, y_train)"
   ]
  },
  {
   "cell_type": "code",
   "execution_count": 35,
   "id": "17a5a141",
   "metadata": {
    "ExecuteTime": {
     "end_time": "2021-05-21T18:43:08.755138Z",
     "start_time": "2021-05-21T18:43:08.752405Z"
    }
   },
   "outputs": [
    {
     "data": {
      "text/plain": [
       "-0.013080594844301841"
      ]
     },
     "execution_count": 35,
     "metadata": {},
     "output_type": "execute_result"
    }
   ],
   "source": [
    "svr.best_score_  #expected"
   ]
  },
  {
   "cell_type": "code",
   "execution_count": 36,
   "id": "9dda4f70",
   "metadata": {
    "ExecuteTime": {
     "end_time": "2021-05-21T18:43:08.757900Z",
     "start_time": "2021-05-21T18:43:08.755983Z"
    }
   },
   "outputs": [
    {
     "data": {
      "text/plain": [
       "{'svr__C': 1.1560793260874624, 'svr__degree': 2, 'svr__kernel': 'poly'}"
      ]
     },
     "execution_count": 36,
     "metadata": {},
     "output_type": "execute_result"
    }
   ],
   "source": [
    "svr.best_params_"
   ]
  }
 ],
 "metadata": {
  "kernelspec": {
   "display_name": "Python 3",
   "language": "python",
   "name": "python3"
  },
  "language_info": {
   "codemirror_mode": {
    "name": "ipython",
    "version": 3
   },
   "file_extension": ".py",
   "mimetype": "text/x-python",
   "name": "python",
   "nbconvert_exporter": "python",
   "pygments_lexer": "ipython3",
   "version": "3.9.2"
  },
  "varInspector": {
   "cols": {
    "lenName": 16,
    "lenType": 16,
    "lenVar": 40
   },
   "kernels_config": {
    "python": {
     "delete_cmd_postfix": "",
     "delete_cmd_prefix": "del ",
     "library": "var_list.py",
     "varRefreshCmd": "print(var_dic_list())"
    },
    "r": {
     "delete_cmd_postfix": ") ",
     "delete_cmd_prefix": "rm(",
     "library": "var_list.r",
     "varRefreshCmd": "cat(var_dic_list()) "
    }
   },
   "types_to_exclude": [
    "module",
    "function",
    "builtin_function_or_method",
    "instance",
    "_Feature"
   ],
   "window_display": false
  }
 },
 "nbformat": 4,
 "nbformat_minor": 5
}
