{
 "cells": [
  {
   "cell_type": "markdown",
   "id": "7f3e3322",
   "metadata": {},
   "source": [
    "Cleaning smoke coverage data\n",
    "* merging with census keys to get state and county names\n",
    "* creating smoke_score column: sum of light, medium, heavy (scale 1-3)\n",
    "* downcasting dtypes to save memory\n",
    "* resolution: county level --> dropping census tracts and block groups"
   ]
  },
  {
   "cell_type": "markdown",
   "id": "2c88550a",
   "metadata": {},
   "source": [
    "### Data description and source info\n",
    "**Data title:** Time Series of Potential US Wildland Fire Smoke Exposures\n",
    "\n",
    "**Date Range of observations:** June 2010 - December 2016, daily records\n",
    "**Geo Range of observations:** All U.S. down to census block group (much smaller than county).  \n",
    "\n",
    "**Data summary:** \"this is a data set of U.S. population and wildland fire smoke spatial and temporal coincidence\" from June 1, 2010 to Dec 17, 2019.  Combines NOAA's HMS-Smoke satellite system with census pop to estimate \"potential exposure to light, medium, and heavy categories of wildfire smoke\"  \n",
    "  \n",
    "From description, potential research Qs (regarding health): \"The data represents a modest advancement of NOAA's HMS-Smoke product, with the aims of spurring additional work on the impacts of wildfire smoke on the health of US Populations. Namely, these should include tracking potential wildfire smoke exposures to identify areas and times most heavily impacted by smoke, adding potential smoke exposures to population characteristics describing the social determinants of health in order to better distribute resources and contextualize public health messages and interventions, and combining information specific to wildfire smoke with other air pollution data to better isolate and understand the contribution of wildfires to poor health. (2020-02-24)\"  \n",
    "  \n",
    "---\n",
    "**source:** [cleaned/combined data](https://dataverse.harvard.edu/dataset.xhtml?persistentId=doi:10.7910/DVN/CTWGWE) , within this URL are links to original dfs sourced from NOAA and Census Centers, and Vargo's R script on github where he cleaned them\n",
    "\n",
    "---\n",
    "**citation:**  \n",
    "Vargo, Jason, 2020, \"Time Series of Potential US Wildland Fire Smoke Exposures\", https://doi.org/10.7910/DVN/CTWGWE, Harvard Dataverse, V1"
   ]
  },
  {
   "cell_type": "code",
   "execution_count": 1,
   "id": "a1d5d573",
   "metadata": {},
   "outputs": [],
   "source": [
    "import numpy as np\n",
    "import pandas as pd"
   ]
  },
  {
   "cell_type": "code",
   "execution_count": 2,
   "id": "bea02fea",
   "metadata": {},
   "outputs": [],
   "source": [
    "smoke = pd.read_csv('../scratch_data/HMS_USpopBG_2010_2019.csv')  #update w your filepath\n",
    "census = pd.read_csv('../scratch_data/census_merge_w_HMS.csv')  #update w your filepath"
   ]
  },
  {
   "cell_type": "code",
   "execution_count": 3,
   "id": "66809fe6",
   "metadata": {},
   "outputs": [],
   "source": [
    "smoke_all_counties = pd.merge(census, smoke, how = 'right')"
   ]
  },
  {
   "cell_type": "markdown",
   "id": "be348119",
   "metadata": {},
   "source": [
    "##### set States of interest and date range here:"
   ]
  },
  {
   "cell_type": "code",
   "execution_count": 4,
   "id": "17e3b749",
   "metadata": {},
   "outputs": [],
   "source": [
    "west_states = ['CA', 'OR', 'WA', 'AZ', 'NV', 'UT', 'ID']\n",
    "smoke_west_counties = smoke_all_counties.loc[smoke_all_counties['STATE'].isin(west_states)]\n",
    "smoke_west_counties = smoke_west_counties.loc[(smoke_west_counties['date']>20091231) & (smoke_west_counties['date']<=20161231)]"
   ]
  },
  {
   "cell_type": "code",
   "execution_count": 5,
   "id": "ce2d827d",
   "metadata": {},
   "outputs": [],
   "source": [
    "#looks like all NANs should be zeros.  fillna() then sum the classes to get smoke_score\n",
    "smoke_west_counties.fillna(0, inplace=True)\n",
    "smoke_west_counties['smoke_score'] = smoke_west_counties['light'] + smoke_west_counties['medium'] + smoke_west_counties['heavy']\n",
    "smoke_west_counties.drop(columns=['light','medium','heavy'], inplace=True)"
   ]
  },
  {
   "cell_type": "code",
   "execution_count": 6,
   "id": "a5534ccb",
   "metadata": {},
   "outputs": [],
   "source": [
    "#downcast numerics to reduce filesize\n",
    "downcast = ['STATEFP', 'COUNTYFP', 'BLKGRPCE','TRACTCE','POPULATION','date', 'smoke_score']\n",
    "for i in downcast:\n",
    "    smoke_west_counties[i] = pd.to_numeric(smoke_west_counties[i], downcast='unsigned')"
   ]
  },
  {
   "cell_type": "code",
   "execution_count": 7,
   "id": "95e9d701",
   "metadata": {},
   "outputs": [],
   "source": [
    "#still too big.  drop tractce and blkgrp\n",
    "smoke_west_counties.drop(['TRACTCE', 'BLKGRPCE'], axis=1, inplace=True)"
   ]
  },
  {
   "cell_type": "code",
   "execution_count": 8,
   "id": "54d84006",
   "metadata": {},
   "outputs": [],
   "source": [
    "# tractce/blkgrop were more granular than county\n",
    "# with those dropped, there will be duplicates at county level.  drop duplicates\n",
    "smoke_west_counties.drop_duplicates(inplace=True)"
   ]
  },
  {
   "cell_type": "code",
   "execution_count": 9,
   "id": "8e9fa8ec",
   "metadata": {},
   "outputs": [],
   "source": [
    "smoke_west_counties.reset_index(drop=True, inplace=True)"
   ]
  },
  {
   "cell_type": "code",
   "execution_count": 10,
   "id": "39a22b38",
   "metadata": {},
   "outputs": [],
   "source": [
    "# # github size limit 100MB unless LFS\n",
    "# # update w your filepath\n",
    "# smoke_west_counties.to_csv('../scratch_data/smoke_west_counties_2010_2016.csv', index=False)"
   ]
  }
 ],
 "metadata": {
  "kernelspec": {
   "display_name": "Python 3",
   "language": "python",
   "name": "python3"
  },
  "language_info": {
   "codemirror_mode": {
    "name": "ipython",
    "version": 3
   },
   "file_extension": ".py",
   "mimetype": "text/x-python",
   "name": "python",
   "nbconvert_exporter": "python",
   "pygments_lexer": "ipython3",
   "version": "3.9.2"
  }
 },
 "nbformat": 4,
 "nbformat_minor": 5
}
