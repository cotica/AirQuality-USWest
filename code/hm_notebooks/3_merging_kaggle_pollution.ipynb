{
 "cells": [
  {
   "cell_type": "code",
   "execution_count": 1,
   "id": "abeaba6d",
   "metadata": {
    "ExecuteTime": {
     "end_time": "2021-05-19T18:45:07.096154Z",
     "start_time": "2021-05-19T18:45:06.921249Z"
    }
   },
   "outputs": [],
   "source": [
    "import pandas as pd\n",
    "import numpy as np"
   ]
  },
  {
   "cell_type": "code",
   "execution_count": 2,
   "id": "e36628cf",
   "metadata": {
    "ExecuteTime": {
     "end_time": "2021-05-18T01:32:08.797905Z",
     "start_time": "2021-05-18T01:32:08.695227Z"
    }
   },
   "outputs": [],
   "source": [
    "smokefire = pd.read_csv('../scratch_data/MTBS_merge_smoke_inProgress.csv')"
   ]
  },
  {
   "cell_type": "code",
   "execution_count": 8,
   "id": "95335feb",
   "metadata": {
    "ExecuteTime": {
     "end_time": "2021-05-18T01:28:38.508584Z",
     "start_time": "2021-05-18T01:28:35.709018Z"
    }
   },
   "outputs": [],
   "source": [
    "kaggle = pd.read_csv('../scratch_data/pollution_us_2000_2016_orig.csv')"
   ]
  },
  {
   "cell_type": "markdown",
   "id": "00ffd6cd",
   "metadata": {},
   "source": [
    "##### New dataset found.  Filtered to pertinent info at bottom of this notebook and disseminated to group to see if we want to work with this to incorporate PM2.5."
   ]
  },
  {
   "cell_type": "code",
   "execution_count": 3,
   "id": "d06ca956",
   "metadata": {
    "ExecuteTime": {
     "end_time": "2021-05-19T18:45:38.153702Z",
     "start_time": "2021-05-19T18:45:18.635368Z"
    }
   },
   "outputs": [],
   "source": [
    "#new df with PM2.5 data, though by heavy metal compounds instead of general AQI (?)\n",
    "epa25 = pd.read_csv('../scratch_data/epa_hap_daily_summary.csv')"
   ]
  },
  {
   "cell_type": "markdown",
   "id": "ca5860a9",
   "metadata": {},
   "source": [
    "## Basic feng shui for EDA\n",
    "Notes for methodology:\n",
    "- AQI labels generated based on the daily maximum measurement. Air Qual will be reported as \"UP TO xyz level of concern\"\n",
    "- Ozone measurements converted from ppm to ppb, per most common units"
   ]
  },
  {
   "cell_type": "code",
   "execution_count": null,
   "id": "16465767",
   "metadata": {
    "ExecuteTime": {
     "end_time": "2021-05-18T01:29:53.319723Z",
     "start_time": "2021-05-18T01:28:18.687Z"
    }
   },
   "outputs": [],
   "source": [
    "kaggle.head()"
   ]
  },
  {
   "cell_type": "code",
   "execution_count": 223,
   "id": "ef9adaea",
   "metadata": {},
   "outputs": [],
   "source": [
    "kaggle.columns = kaggle.columns.str.lower().str.replace(' ','_')\n",
    "kaggle.drop(columns=['unnamed:_0', 'state_code', 'county_code'], inplace=True)"
   ]
  },
  {
   "cell_type": "code",
   "execution_count": 224,
   "id": "da563c20",
   "metadata": {},
   "outputs": [],
   "source": [
    "# pd.set_option('display.max_columns', None)\n",
    "# kaggle.head()"
   ]
  },
  {
   "cell_type": "code",
   "execution_count": 225,
   "id": "4f287d4c",
   "metadata": {},
   "outputs": [
    {
     "name": "stdout",
     "output_type": "stream",
     "text": [
      "1746661 1741629\n"
     ]
    }
   ],
   "source": [
    "print(len(kaggle), len(kaggle.drop_duplicates(inplace=False))) #5k dupes, drop\n",
    "kaggle.drop_duplicates(inplace=True)"
   ]
  },
  {
   "cell_type": "markdown",
   "id": "2e206e4e",
   "metadata": {},
   "source": [
    "Note: many Air Quality Indices consider O3 in units ppb.  This dataset uses ppm.  Converting to ppb (ppm * 1000) to make it more readable for us, and on the same scale as other pollutants."
   ]
  },
  {
   "cell_type": "code",
   "execution_count": 226,
   "id": "87b1b4dd",
   "metadata": {},
   "outputs": [],
   "source": [
    "kaggle['o3_mean'] = kaggle['o3_mean'] * 1000\n",
    "kaggle['o3_1st_max_value'] = kaggle['o3_1st_max_value'] * 1000"
   ]
  },
  {
   "cell_type": "code",
   "execution_count": 227,
   "id": "5ab3e490",
   "metadata": {},
   "outputs": [],
   "source": [
    "#consolidate unit & measurement cols\n",
    "kaggle.rename(columns = {'no2_mean': 'no2_mean_ppb', 'no2_1st_max_value': 'no2_max_ppb', 'no2_1st_max_hour':'no2_max_hr_ppb',\n",
    "                        'o3_mean':'o3_mean_ppb', 'o3_1st_max_value':'o3_max_ppb', 'o3_1st_max_hour':'o3_max_hr_ppb',\n",
    "                        'so2_mean':'so2_mean_ppb','so2_1st_max_value':'so2_max_ppb', 'so2_1st_max_hour':'so2_max_hr_ppb',\n",
    "                        'co_mean':'co_mean_ppm', 'co_1st_max_value':'co_max_ppm', 'co_1st_max_hour':'co_max_hr_ppm'},\n",
    "             inplace=True)\n",
    "kaggle.drop(columns = ['so2_units','co_units','o3_units','no2_units'], inplace=True)"
   ]
  },
  {
   "cell_type": "code",
   "execution_count": 228,
   "id": "5bf814d8",
   "metadata": {},
   "outputs": [],
   "source": [
    "keep_states = ['California', 'Washington', 'Oregon', 'Arizona', 'Nevada', 'Idaho', 'Utah']\n",
    "kaggle = kaggle.loc[kaggle['state'].isin(keep_states)]"
   ]
  },
  {
   "cell_type": "code",
   "execution_count": 229,
   "id": "963df567",
   "metadata": {},
   "outputs": [],
   "source": [
    "#mapping each pollutant value to it's AQI index 'class'\n",
    "\n",
    "def co_aqi_label(x): #for co, map to co_max_ppm column (NOT HOUR)\n",
    "    if x < 4.5:\n",
    "        return 'good'\n",
    "    if x < 9.5:\n",
    "        return 'moderate'\n",
    "    if x < 12.5:\n",
    "        return 'unhealthy for at-risk'\n",
    "    if x < 15.5:\n",
    "        return 'unhealthy'\n",
    "    if x < 30.5:\n",
    "        return 'very unhealthy'\n",
    "    if np.isnan(x) == True:\n",
    "        return np.nan\n",
    "    else:\n",
    "        return 'nope'\n",
    "    \n",
    "\n",
    "def no2_aqi_label(x): #map to no2_max, o3_max (NOT HOUR)\n",
    "    if x < 54:\n",
    "        return 'good'\n",
    "    if x < 101:\n",
    "        return 'moderate'\n",
    "    if x < 361:\n",
    "        return 'unhealthy for at-risk'\n",
    "    if x < 650:\n",
    "        return 'unhealthy'\n",
    "    if x < 1250:\n",
    "        return 'very unhealthy'\n",
    "    if x < 1650:\n",
    "        return 'hazardous'\n",
    "    if np.isnan(x) == True:\n",
    "        return np.nan\n",
    "    else:\n",
    "        return 'nope'\n",
    "    \n",
    "def so2_aqi_label(x): #map to so2_max (NOT HOUR)\n",
    "    if x < 36:\n",
    "        return 'good'\n",
    "    if x < 76:\n",
    "        return 'moderate'\n",
    "    if x < 186:\n",
    "        return 'unhealthy for at-risk'\n",
    "    if x < 305:\n",
    "        return 'unhealthy'\n",
    "    if x < 605:\n",
    "        return 'very unhealthy'\n",
    "    if x < 805:\n",
    "        return 'hazardous'\n",
    "    if np.isnan(x) == True:\n",
    "        return np.nan\n",
    "    else:\n",
    "        return 'nope'\n",
    "\n",
    "#o3_aqi_labels units in ppb **\n",
    "def o3_aqi_label(x): #mishmash of 1hr and 8hr classification regimens\n",
    "    if x < 55:\n",
    "        return 'good'\n",
    "    if x < 71:\n",
    "        return 'moderate'\n",
    "    if x < 86:\n",
    "        return 'unhealthy for at-risk'\n",
    "    if x < 106:\n",
    "        return 'unhealthy'\n",
    "    if x < 500:\n",
    "        return 'hazardous'\n",
    "    if x > 500:\n",
    "        return 'nope'\n",
    "    if np.isna(x) == True:\n",
    "        return np.nan"
   ]
  },
  {
   "cell_type": "code",
   "execution_count": 230,
   "id": "5f7acdff",
   "metadata": {},
   "outputs": [],
   "source": [
    "kaggle['co_aqi_label'] = kaggle['co_max_ppm'].map(lambda x: co_aqi_label(x))\n",
    "\n",
    "so2_col = kaggle['so2_max_ppb'].map(lambda x: so2_aqi_label(x))\n",
    "kaggle.insert(17, 'so2_aqi_label', so2_col) \n",
    "\n",
    "o3_col = kaggle['o3_max_ppb'].map(lambda x: o3_aqi_label(x))\n",
    "kaggle.insert(13, 'o3_aqi_label', o3_col) \n",
    "\n",
    "no2_col = kaggle['no2_max_ppb'].map(lambda x: no2_aqi_label(x))\n",
    "kaggle.insert(9, 'no2_aqi_label', no2_col) \n",
    "\n",
    "#testcopy.insert(10, 'no2_aqi2', new_col)"
   ]
  },
  {
   "cell_type": "code",
   "execution_count": 231,
   "id": "90498b72",
   "metadata": {},
   "outputs": [],
   "source": [
    "kaggle.reset_index(drop=True, inplace=True)"
   ]
  },
  {
   "cell_type": "code",
   "execution_count": 232,
   "id": "6588d6c6",
   "metadata": {},
   "outputs": [],
   "source": [
    "#kaggle.to_csv('../scratch_data/pollution_us_2000_2016.csv', index=False)"
   ]
  },
  {
   "cell_type": "markdown",
   "id": "7ad07a98",
   "metadata": {},
   "source": [
    "## On to merging\n",
    "* smokefire county_name all end in 'County'; kaggle 'county' column does not.  Add 'County' to end of kaggle counties.  And change kaggle col name to 'county_name'.\n",
    "* kaggle date = object, change to int"
   ]
  },
  {
   "cell_type": "code",
   "execution_count": 4,
   "id": "03649371",
   "metadata": {
    "ExecuteTime": {
     "end_time": "2021-05-18T01:33:15.722266Z",
     "start_time": "2021-05-18T01:33:14.697877Z"
    }
   },
   "outputs": [],
   "source": [
    "kaggle = pd.read_csv('../scratch_data/pollution_us_2000_2016.csv')"
   ]
  },
  {
   "cell_type": "code",
   "execution_count": 5,
   "id": "ec994dbc",
   "metadata": {
    "ExecuteTime": {
     "end_time": "2021-05-18T01:33:19.842214Z",
     "start_time": "2021-05-18T01:33:19.809926Z"
    },
    "scrolled": true
   },
   "outputs": [
    {
     "data": {
      "text/html": [
       "<div>\n",
       "<style scoped>\n",
       "    .dataframe tbody tr th:only-of-type {\n",
       "        vertical-align: middle;\n",
       "    }\n",
       "\n",
       "    .dataframe tbody tr th {\n",
       "        vertical-align: top;\n",
       "    }\n",
       "\n",
       "    .dataframe thead th {\n",
       "        text-align: right;\n",
       "    }\n",
       "</style>\n",
       "<table border=\"1\" class=\"dataframe\">\n",
       "  <thead>\n",
       "    <tr style=\"text-align: right;\">\n",
       "      <th></th>\n",
       "      <th>state</th>\n",
       "      <th>county_name</th>\n",
       "      <th>date</th>\n",
       "      <th>smoke_score</th>\n",
       "      <th>lat_smo</th>\n",
       "      <th>lon_smo</th>\n",
       "      <th>event_id</th>\n",
       "      <th>incid_name</th>\n",
       "      <th>incid_type</th>\n",
       "      <th>asmnt_type</th>\n",
       "      <th>...</th>\n",
       "      <th>nodata_t</th>\n",
       "      <th>incgreen_t</th>\n",
       "      <th>low_t</th>\n",
       "      <th>mod_t</th>\n",
       "      <th>high_t</th>\n",
       "      <th>geometry</th>\n",
       "      <th>lon_wf</th>\n",
       "      <th>lat_wf</th>\n",
       "      <th>reverse_geocode_fire_ig</th>\n",
       "      <th>state_full</th>\n",
       "    </tr>\n",
       "  </thead>\n",
       "  <tbody>\n",
       "    <tr>\n",
       "      <th>0</th>\n",
       "      <td>AZ</td>\n",
       "      <td>Gila County</td>\n",
       "      <td>20100604</td>\n",
       "      <td>1.0</td>\n",
       "      <td>33.799665</td>\n",
       "      <td>-110.811659</td>\n",
       "      <td>NaN</td>\n",
       "      <td>NaN</td>\n",
       "      <td>NaN</td>\n",
       "      <td>NaN</td>\n",
       "      <td>...</td>\n",
       "      <td>NaN</td>\n",
       "      <td>NaN</td>\n",
       "      <td>NaN</td>\n",
       "      <td>NaN</td>\n",
       "      <td>NaN</td>\n",
       "      <td>NaN</td>\n",
       "      <td>NaN</td>\n",
       "      <td>NaN</td>\n",
       "      <td>NaN</td>\n",
       "      <td>NaN</td>\n",
       "    </tr>\n",
       "  </tbody>\n",
       "</table>\n",
       "<p>1 rows × 24 columns</p>\n",
       "</div>"
      ],
      "text/plain": [
       "  state  county_name      date  smoke_score    lat_smo     lon_smo event_id  \\\n",
       "0    AZ  Gila County  20100604          1.0  33.799665 -110.811659      NaN   \n",
       "\n",
       "  incid_name incid_type asmnt_type  ...  nodata_t  incgreen_t  low_t  mod_t  \\\n",
       "0        NaN        NaN        NaN  ...       NaN         NaN    NaN    NaN   \n",
       "\n",
       "   high_t  geometry  lon_wf  lat_wf  reverse_geocode_fire_ig state_full  \n",
       "0     NaN       NaN     NaN     NaN                      NaN        NaN  \n",
       "\n",
       "[1 rows x 24 columns]"
      ]
     },
     "execution_count": 5,
     "metadata": {},
     "output_type": "execute_result"
    }
   ],
   "source": [
    "smokefire.head(1)"
   ]
  },
  {
   "cell_type": "code",
   "execution_count": 6,
   "id": "d9290022",
   "metadata": {
    "ExecuteTime": {
     "end_time": "2021-05-18T01:33:39.281849Z",
     "start_time": "2021-05-18T01:33:39.253113Z"
    }
   },
   "outputs": [
    {
     "data": {
      "text/html": [
       "<div>\n",
       "<style scoped>\n",
       "    .dataframe tbody tr th:only-of-type {\n",
       "        vertical-align: middle;\n",
       "    }\n",
       "\n",
       "    .dataframe tbody tr th {\n",
       "        vertical-align: top;\n",
       "    }\n",
       "\n",
       "    .dataframe thead th {\n",
       "        text-align: right;\n",
       "    }\n",
       "</style>\n",
       "<table border=\"1\" class=\"dataframe\">\n",
       "  <thead>\n",
       "    <tr style=\"text-align: right;\">\n",
       "      <th></th>\n",
       "      <th>site_num</th>\n",
       "      <th>address</th>\n",
       "      <th>state</th>\n",
       "      <th>county</th>\n",
       "      <th>city</th>\n",
       "      <th>date_local</th>\n",
       "      <th>no2_mean_ppb</th>\n",
       "      <th>no2_max_ppb</th>\n",
       "      <th>no2_max_hr_ppb</th>\n",
       "      <th>no2_aqi_label</th>\n",
       "      <th>...</th>\n",
       "      <th>so2_mean_ppb</th>\n",
       "      <th>so2_max_ppb</th>\n",
       "      <th>so2_max_hr_ppb</th>\n",
       "      <th>so2_aqi_label</th>\n",
       "      <th>so2_aqi</th>\n",
       "      <th>co_mean_ppm</th>\n",
       "      <th>co_max_ppm</th>\n",
       "      <th>co_max_hr_ppm</th>\n",
       "      <th>co_aqi</th>\n",
       "      <th>co_aqi_label</th>\n",
       "    </tr>\n",
       "  </thead>\n",
       "  <tbody>\n",
       "    <tr>\n",
       "      <th>0</th>\n",
       "      <td>3002</td>\n",
       "      <td>1645 E ROOSEVELT ST-CENTRAL PHOENIX STN</td>\n",
       "      <td>Arizona</td>\n",
       "      <td>Maricopa</td>\n",
       "      <td>Phoenix</td>\n",
       "      <td>2000-01-01</td>\n",
       "      <td>19.041667</td>\n",
       "      <td>49.0</td>\n",
       "      <td>19</td>\n",
       "      <td>good</td>\n",
       "      <td>...</td>\n",
       "      <td>3.000000</td>\n",
       "      <td>9.0</td>\n",
       "      <td>21</td>\n",
       "      <td>good</td>\n",
       "      <td>13.0</td>\n",
       "      <td>1.145833</td>\n",
       "      <td>4.2</td>\n",
       "      <td>21</td>\n",
       "      <td>NaN</td>\n",
       "      <td>good</td>\n",
       "    </tr>\n",
       "    <tr>\n",
       "      <th>1</th>\n",
       "      <td>3002</td>\n",
       "      <td>1645 E ROOSEVELT ST-CENTRAL PHOENIX STN</td>\n",
       "      <td>Arizona</td>\n",
       "      <td>Maricopa</td>\n",
       "      <td>Phoenix</td>\n",
       "      <td>2000-01-01</td>\n",
       "      <td>19.041667</td>\n",
       "      <td>49.0</td>\n",
       "      <td>19</td>\n",
       "      <td>good</td>\n",
       "      <td>...</td>\n",
       "      <td>3.000000</td>\n",
       "      <td>9.0</td>\n",
       "      <td>21</td>\n",
       "      <td>good</td>\n",
       "      <td>13.0</td>\n",
       "      <td>0.878947</td>\n",
       "      <td>2.2</td>\n",
       "      <td>23</td>\n",
       "      <td>25.0</td>\n",
       "      <td>good</td>\n",
       "    </tr>\n",
       "    <tr>\n",
       "      <th>2</th>\n",
       "      <td>3002</td>\n",
       "      <td>1645 E ROOSEVELT ST-CENTRAL PHOENIX STN</td>\n",
       "      <td>Arizona</td>\n",
       "      <td>Maricopa</td>\n",
       "      <td>Phoenix</td>\n",
       "      <td>2000-01-01</td>\n",
       "      <td>19.041667</td>\n",
       "      <td>49.0</td>\n",
       "      <td>19</td>\n",
       "      <td>good</td>\n",
       "      <td>...</td>\n",
       "      <td>2.975000</td>\n",
       "      <td>6.6</td>\n",
       "      <td>23</td>\n",
       "      <td>good</td>\n",
       "      <td>NaN</td>\n",
       "      <td>1.145833</td>\n",
       "      <td>4.2</td>\n",
       "      <td>21</td>\n",
       "      <td>NaN</td>\n",
       "      <td>good</td>\n",
       "    </tr>\n",
       "    <tr>\n",
       "      <th>3</th>\n",
       "      <td>3002</td>\n",
       "      <td>1645 E ROOSEVELT ST-CENTRAL PHOENIX STN</td>\n",
       "      <td>Arizona</td>\n",
       "      <td>Maricopa</td>\n",
       "      <td>Phoenix</td>\n",
       "      <td>2000-01-01</td>\n",
       "      <td>19.041667</td>\n",
       "      <td>49.0</td>\n",
       "      <td>19</td>\n",
       "      <td>good</td>\n",
       "      <td>...</td>\n",
       "      <td>2.975000</td>\n",
       "      <td>6.6</td>\n",
       "      <td>23</td>\n",
       "      <td>good</td>\n",
       "      <td>NaN</td>\n",
       "      <td>0.878947</td>\n",
       "      <td>2.2</td>\n",
       "      <td>23</td>\n",
       "      <td>25.0</td>\n",
       "      <td>good</td>\n",
       "    </tr>\n",
       "    <tr>\n",
       "      <th>4</th>\n",
       "      <td>3002</td>\n",
       "      <td>1645 E ROOSEVELT ST-CENTRAL PHOENIX STN</td>\n",
       "      <td>Arizona</td>\n",
       "      <td>Maricopa</td>\n",
       "      <td>Phoenix</td>\n",
       "      <td>2000-01-02</td>\n",
       "      <td>22.958333</td>\n",
       "      <td>36.0</td>\n",
       "      <td>19</td>\n",
       "      <td>good</td>\n",
       "      <td>...</td>\n",
       "      <td>1.958333</td>\n",
       "      <td>3.0</td>\n",
       "      <td>22</td>\n",
       "      <td>good</td>\n",
       "      <td>4.0</td>\n",
       "      <td>0.850000</td>\n",
       "      <td>1.6</td>\n",
       "      <td>23</td>\n",
       "      <td>NaN</td>\n",
       "      <td>good</td>\n",
       "    </tr>\n",
       "  </tbody>\n",
       "</table>\n",
       "<p>5 rows × 26 columns</p>\n",
       "</div>"
      ],
      "text/plain": [
       "   site_num                                  address    state    county  \\\n",
       "0      3002  1645 E ROOSEVELT ST-CENTRAL PHOENIX STN  Arizona  Maricopa   \n",
       "1      3002  1645 E ROOSEVELT ST-CENTRAL PHOENIX STN  Arizona  Maricopa   \n",
       "2      3002  1645 E ROOSEVELT ST-CENTRAL PHOENIX STN  Arizona  Maricopa   \n",
       "3      3002  1645 E ROOSEVELT ST-CENTRAL PHOENIX STN  Arizona  Maricopa   \n",
       "4      3002  1645 E ROOSEVELT ST-CENTRAL PHOENIX STN  Arizona  Maricopa   \n",
       "\n",
       "      city  date_local  no2_mean_ppb  no2_max_ppb  no2_max_hr_ppb  \\\n",
       "0  Phoenix  2000-01-01     19.041667         49.0              19   \n",
       "1  Phoenix  2000-01-01     19.041667         49.0              19   \n",
       "2  Phoenix  2000-01-01     19.041667         49.0              19   \n",
       "3  Phoenix  2000-01-01     19.041667         49.0              19   \n",
       "4  Phoenix  2000-01-02     22.958333         36.0              19   \n",
       "\n",
       "  no2_aqi_label  ...  so2_mean_ppb  so2_max_ppb  so2_max_hr_ppb  \\\n",
       "0          good  ...      3.000000          9.0              21   \n",
       "1          good  ...      3.000000          9.0              21   \n",
       "2          good  ...      2.975000          6.6              23   \n",
       "3          good  ...      2.975000          6.6              23   \n",
       "4          good  ...      1.958333          3.0              22   \n",
       "\n",
       "   so2_aqi_label so2_aqi  co_mean_ppm  co_max_ppm  co_max_hr_ppm  co_aqi  \\\n",
       "0           good    13.0     1.145833         4.2             21     NaN   \n",
       "1           good    13.0     0.878947         2.2             23    25.0   \n",
       "2           good     NaN     1.145833         4.2             21     NaN   \n",
       "3           good     NaN     0.878947         2.2             23    25.0   \n",
       "4           good     4.0     0.850000         1.6             23     NaN   \n",
       "\n",
       "  co_aqi_label  \n",
       "0         good  \n",
       "1         good  \n",
       "2         good  \n",
       "3         good  \n",
       "4         good  \n",
       "\n",
       "[5 rows x 26 columns]"
      ]
     },
     "execution_count": 6,
     "metadata": {},
     "output_type": "execute_result"
    }
   ],
   "source": [
    "kaggle.head()"
   ]
  },
  {
   "cell_type": "code",
   "execution_count": 7,
   "id": "41a78bab",
   "metadata": {
    "ExecuteTime": {
     "end_time": "2021-05-18T01:33:46.705424Z",
     "start_time": "2021-05-18T01:33:46.641061Z"
    }
   },
   "outputs": [],
   "source": [
    "k_county_col = kaggle['county'] + ' County'\n",
    "kaggle.insert(3,'county_name', k_county_col) "
   ]
  },
  {
   "cell_type": "code",
   "execution_count": 8,
   "id": "37269360",
   "metadata": {
    "ExecuteTime": {
     "end_time": "2021-05-18T01:33:50.768674Z",
     "start_time": "2021-05-18T01:33:50.570106Z"
    }
   },
   "outputs": [],
   "source": [
    "k_date = kaggle['date_local'].str.replace('-','').astype('int')\n",
    "kaggle.insert(5, 'date', k_date)"
   ]
  },
  {
   "cell_type": "code",
   "execution_count": 9,
   "id": "55eb886f",
   "metadata": {
    "ExecuteTime": {
     "end_time": "2021-05-18T01:33:57.806704Z",
     "start_time": "2021-05-18T01:33:57.717934Z"
    }
   },
   "outputs": [],
   "source": [
    "state_dict = {'Idaho':'ID', 'California': 'CA', 'Arizona':'AZ', 'Oregon':'OR', \n",
    "              'Washington':'WA', 'Nevada':'NV', 'Utah':'UT'}\n",
    "\n",
    "kaggle['state'] = kaggle['state'].map(state_dict)"
   ]
  },
  {
   "cell_type": "code",
   "execution_count": 12,
   "id": "d47613a0",
   "metadata": {
    "ExecuteTime": {
     "end_time": "2021-05-18T01:34:29.361298Z",
     "start_time": "2021-05-18T01:34:29.334313Z"
    }
   },
   "outputs": [
    {
     "data": {
      "text/html": [
       "<div>\n",
       "<style scoped>\n",
       "    .dataframe tbody tr th:only-of-type {\n",
       "        vertical-align: middle;\n",
       "    }\n",
       "\n",
       "    .dataframe tbody tr th {\n",
       "        vertical-align: top;\n",
       "    }\n",
       "\n",
       "    .dataframe thead th {\n",
       "        text-align: right;\n",
       "    }\n",
       "</style>\n",
       "<table border=\"1\" class=\"dataframe\">\n",
       "  <thead>\n",
       "    <tr style=\"text-align: right;\">\n",
       "      <th></th>\n",
       "      <th>site_num</th>\n",
       "      <th>address</th>\n",
       "      <th>state</th>\n",
       "      <th>county_name</th>\n",
       "      <th>county</th>\n",
       "      <th>date</th>\n",
       "      <th>city</th>\n",
       "      <th>date_local</th>\n",
       "      <th>no2_mean_ppb</th>\n",
       "      <th>no2_max_ppb</th>\n",
       "      <th>...</th>\n",
       "      <th>so2_mean_ppb</th>\n",
       "      <th>so2_max_ppb</th>\n",
       "      <th>so2_max_hr_ppb</th>\n",
       "      <th>so2_aqi_label</th>\n",
       "      <th>so2_aqi</th>\n",
       "      <th>co_mean_ppm</th>\n",
       "      <th>co_max_ppm</th>\n",
       "      <th>co_max_hr_ppm</th>\n",
       "      <th>co_aqi</th>\n",
       "      <th>co_aqi_label</th>\n",
       "    </tr>\n",
       "  </thead>\n",
       "  <tbody>\n",
       "    <tr>\n",
       "      <th>0</th>\n",
       "      <td>3002</td>\n",
       "      <td>1645 E ROOSEVELT ST-CENTRAL PHOENIX STN</td>\n",
       "      <td>AZ</td>\n",
       "      <td>Maricopa County</td>\n",
       "      <td>Maricopa</td>\n",
       "      <td>20000101</td>\n",
       "      <td>Phoenix</td>\n",
       "      <td>2000-01-01</td>\n",
       "      <td>19.041667</td>\n",
       "      <td>49.0</td>\n",
       "      <td>...</td>\n",
       "      <td>3.0</td>\n",
       "      <td>9.0</td>\n",
       "      <td>21</td>\n",
       "      <td>good</td>\n",
       "      <td>13.0</td>\n",
       "      <td>1.145833</td>\n",
       "      <td>4.2</td>\n",
       "      <td>21</td>\n",
       "      <td>NaN</td>\n",
       "      <td>good</td>\n",
       "    </tr>\n",
       "  </tbody>\n",
       "</table>\n",
       "<p>1 rows × 28 columns</p>\n",
       "</div>"
      ],
      "text/plain": [
       "   site_num                                  address state      county_name  \\\n",
       "0      3002  1645 E ROOSEVELT ST-CENTRAL PHOENIX STN    AZ  Maricopa County   \n",
       "\n",
       "     county      date     city  date_local  no2_mean_ppb  no2_max_ppb  ...  \\\n",
       "0  Maricopa  20000101  Phoenix  2000-01-01     19.041667         49.0  ...   \n",
       "\n",
       "   so2_mean_ppb so2_max_ppb  so2_max_hr_ppb  so2_aqi_label  so2_aqi  \\\n",
       "0           3.0         9.0              21           good     13.0   \n",
       "\n",
       "   co_mean_ppm co_max_ppm  co_max_hr_ppm  co_aqi  co_aqi_label  \n",
       "0     1.145833        4.2             21     NaN          good  \n",
       "\n",
       "[1 rows x 28 columns]"
      ]
     },
     "execution_count": 12,
     "metadata": {},
     "output_type": "execute_result"
    }
   ],
   "source": [
    "kaggle.head(1)"
   ]
  },
  {
   "cell_type": "code",
   "execution_count": 13,
   "id": "530af875",
   "metadata": {
    "ExecuteTime": {
     "end_time": "2021-05-18T01:34:52.315433Z",
     "start_time": "2021-05-18T01:34:52.159087Z"
    }
   },
   "outputs": [],
   "source": [
    "kaggle.drop(columns=['county', 'date_local'], inplace=True)"
   ]
  },
  {
   "cell_type": "code",
   "execution_count": 14,
   "id": "a50b027d",
   "metadata": {
    "ExecuteTime": {
     "end_time": "2021-05-18T01:35:11.509670Z",
     "start_time": "2021-05-18T01:35:11.446735Z"
    }
   },
   "outputs": [],
   "source": [
    "kagformerge = kaggle.loc[kaggle['date']>=20100604].copy()"
   ]
  },
  {
   "cell_type": "code",
   "execution_count": 15,
   "id": "76c1ce47",
   "metadata": {
    "ExecuteTime": {
     "end_time": "2021-05-18T01:35:42.709717Z",
     "start_time": "2021-05-18T01:35:42.673711Z"
    }
   },
   "outputs": [],
   "source": [
    "kagformerge.drop(columns=['site_num','no2_mean_ppb', 'no2_max_hr_ppb', 'o3_mean_ppb',\n",
    "                         'o3_max_hr_ppb', 'so2_mean_ppb', 'so2_max_hr_ppb', 'co_mean_ppm', \n",
    "                         'co_max_hr_ppm'], inplace=True)\n",
    "\n",
    "kagformerge.rename(columns={'address':'aqi_address'},inplace=True)"
   ]
  },
  {
   "cell_type": "code",
   "execution_count": 16,
   "id": "e2c9faa4",
   "metadata": {
    "ExecuteTime": {
     "end_time": "2021-05-18T01:35:45.928090Z",
     "start_time": "2021-05-18T01:35:45.922621Z"
    }
   },
   "outputs": [
    {
     "data": {
      "text/plain": [
       "((246308, 17), (83899, 24))"
      ]
     },
     "execution_count": 16,
     "metadata": {},
     "output_type": "execute_result"
    }
   ],
   "source": [
    "kagformerge.shape, smokefire.shape"
   ]
  },
  {
   "cell_type": "code",
   "execution_count": 17,
   "id": "b6289eb0",
   "metadata": {
    "ExecuteTime": {
     "end_time": "2021-05-18T01:35:55.143267Z",
     "start_time": "2021-05-18T01:35:55.077884Z"
    },
    "scrolled": true
   },
   "outputs": [
    {
     "name": "stdout",
     "output_type": "stream",
     "text": [
      "20100604 20160430\n",
      "20100604 20161221\n"
     ]
    }
   ],
   "source": [
    "print(min(kagformerge.date), max(kagformerge.date))\n",
    "print(min(smokefire.date), max(smokefire.date))"
   ]
  },
  {
   "cell_type": "code",
   "execution_count": 18,
   "id": "290c777a",
   "metadata": {
    "ExecuteTime": {
     "end_time": "2021-05-18T01:36:41.576876Z",
     "start_time": "2021-05-18T01:36:41.549912Z"
    }
   },
   "outputs": [],
   "source": [
    "smokeformerge = smokefire.loc[smokefire['date']<=20160430].copy()"
   ]
  },
  {
   "cell_type": "code",
   "execution_count": 19,
   "id": "3765d723",
   "metadata": {
    "ExecuteTime": {
     "end_time": "2021-05-18T01:36:45.252376Z",
     "start_time": "2021-05-18T01:36:45.104057Z"
    }
   },
   "outputs": [],
   "source": [
    "kagformerge.drop_duplicates(inplace=True)"
   ]
  },
  {
   "cell_type": "code",
   "execution_count": 20,
   "id": "acaa3687",
   "metadata": {
    "ExecuteTime": {
     "end_time": "2021-05-18T01:36:46.398239Z",
     "start_time": "2021-05-18T01:36:46.333258Z"
    }
   },
   "outputs": [
    {
     "name": "stdout",
     "output_type": "stream",
     "text": [
      "20100604 20160430\n",
      "20100604 20160428\n"
     ]
    }
   ],
   "source": [
    "print(min(kagformerge.date), max(kagformerge.date))\n",
    "print(min(smokeformerge.date), max(smokeformerge.date))"
   ]
  },
  {
   "cell_type": "code",
   "execution_count": 28,
   "id": "e1f1b202",
   "metadata": {
    "ExecuteTime": {
     "end_time": "2021-05-18T01:39:45.241407Z",
     "start_time": "2021-05-18T01:39:45.238515Z"
    }
   },
   "outputs": [],
   "source": [
    "# pd.set_option('display.max_columns',None)\n",
    "# smokeformerge.head()"
   ]
  },
  {
   "cell_type": "code",
   "execution_count": 24,
   "id": "95e49cc3",
   "metadata": {
    "ExecuteTime": {
     "end_time": "2021-05-18T01:38:35.597501Z",
     "start_time": "2021-05-18T01:38:35.538851Z"
    }
   },
   "outputs": [],
   "source": [
    "smokeformerge.drop(columns=['state_full', 'asmnt_type', 'lat_wf', 'lon_wf', 'nodata_t', 'incgreen_t',\n",
    "                            'low_t', 'mod_t', 'high_t'], inplace=True)\n",
    "smokeformerge.drop_duplicates(inplace=True)"
   ]
  },
  {
   "cell_type": "code",
   "execution_count": 26,
   "id": "331ef642",
   "metadata": {
    "ExecuteTime": {
     "end_time": "2021-05-18T01:39:27.875510Z",
     "start_time": "2021-05-18T01:39:27.869132Z"
    }
   },
   "outputs": [],
   "source": [
    "smokeformerge.rename(columns={'geometry':'geometry_wf'}, inplace=True)"
   ]
  },
  {
   "cell_type": "code",
   "execution_count": 29,
   "id": "7586b2ee",
   "metadata": {
    "ExecuteTime": {
     "end_time": "2021-05-18T01:39:47.959631Z",
     "start_time": "2021-05-18T01:39:47.954630Z"
    }
   },
   "outputs": [
    {
     "data": {
      "text/plain": [
       "(83899, 73187)"
      ]
     },
     "execution_count": 29,
     "metadata": {},
     "output_type": "execute_result"
    }
   ],
   "source": [
    "len(smokefire), len(smokeformerge) #from dropping dupes after dropping the above cols ^^ hmmm"
   ]
  },
  {
   "cell_type": "code",
   "execution_count": 30,
   "id": "b2811c17",
   "metadata": {
    "ExecuteTime": {
     "end_time": "2021-05-18T01:40:13.865984Z",
     "start_time": "2021-05-18T01:40:13.442221Z"
    }
   },
   "outputs": [],
   "source": [
    "all_smo_fire_poll = pd.merge(smokeformerge, kagformerge, on=['state', 'county_name', 'date'], how='outer')\n",
    "## inner join loses 70% of fires, I checked\n",
    "#inner_smo_fire_poll = pd.merge(smokeformerge, kagformerge, on=['state', 'county_name', 'date'], how='inner')\n",
    "#preserve all fire data, not pollution:\n",
    "mostlysmo = pd.merge(smokeformerge, kagformerge, on=['state', 'county_name', 'date'], how='left')"
   ]
  },
  {
   "cell_type": "code",
   "execution_count": 32,
   "id": "cdb984a8",
   "metadata": {
    "ExecuteTime": {
     "end_time": "2021-05-18T01:41:21.362045Z",
     "start_time": "2021-05-18T01:41:21.357978Z"
    },
    "scrolled": true
   },
   "outputs": [
    {
     "data": {
      "text/plain": [
       "((321580, 29), (26400, 29), (95303, 29))"
      ]
     },
     "execution_count": 32,
     "metadata": {},
     "output_type": "execute_result"
    }
   ],
   "source": [
    "all_smo_fire_poll.shape, inner_smo_fire_poll.shape, mostlysmo.shape"
   ]
  },
  {
   "cell_type": "code",
   "execution_count": 35,
   "id": "26411a06",
   "metadata": {
    "ExecuteTime": {
     "end_time": "2021-05-18T01:43:35.547876Z",
     "start_time": "2021-05-18T01:43:35.397766Z"
    }
   },
   "outputs": [],
   "source": [
    "#inner_smo_fire_poll = inner_smo_fire_poll[['state', 'city', 'county_name', 'date', 'incid_type', 'burnbndac',\n",
    "                                          'smoke_score', 'no2_max_ppb', 'no2_aqi_label', 'o3_max_ppb', 'o3_aqi_label',\n",
    "                                          'so2_max_ppb', 'so2_aqi_label', 'co_max_ppm', 'co_aqi_label', 'incid_name',\n",
    "                                          'event_id', 'burnbndlat', 'burnbndlon', 'lat_smo', 'lon_smo',\n",
    "                                          'aqi_address', 'geometry_wf','reverse_geocode_fire_ig']]\n",
    "\n",
    "all_smo_fire_poll = all_smo_fire_poll[['state', 'city', 'county_name', 'date', 'incid_type', 'burnbndac',\n",
    "                                          'smoke_score', 'no2_max_ppb', 'no2_aqi_label', 'o3_max_ppb', 'o3_aqi_label',\n",
    "                                          'so2_max_ppb', 'so2_aqi_label', 'co_max_ppm', 'co_aqi_label', 'incid_name',\n",
    "                                          'event_id', 'burnbndlat', 'burnbndlon', 'lat_smo', 'lon_smo',\n",
    "                                          'aqi_address', 'geometry_wf','reverse_geocode_fire_ig']]\n",
    "\n",
    "mostlysmo = mostlysmo[['state', 'city', 'county_name', 'date', 'incid_type', 'burnbndac',\n",
    "                                          'smoke_score', 'no2_max_ppb', 'no2_aqi_label', 'o3_max_ppb', 'o3_aqi_label',\n",
    "                                          'so2_max_ppb', 'so2_aqi_label', 'co_max_ppm', 'co_aqi_label', 'incid_name',\n",
    "                                          'event_id', 'burnbndlat', 'burnbndlon', 'lat_smo', 'lon_smo',\n",
    "                                          'aqi_address', 'geometry_wf','reverse_geocode_fire_ig']]"
   ]
  },
  {
   "cell_type": "code",
   "execution_count": 36,
   "id": "d5049a57",
   "metadata": {
    "ExecuteTime": {
     "end_time": "2021-05-18T01:43:58.607912Z",
     "start_time": "2021-05-18T01:43:58.313985Z"
    }
   },
   "outputs": [
    {
     "name": "stderr",
     "output_type": "stream",
     "text": [
      "<ipython-input-36-3304f0d1bc64>:3: SettingWithCopyWarning: \n",
      "A value is trying to be set on a copy of a slice from a DataFrame\n",
      "\n",
      "See the caveats in the documentation: https://pandas.pydata.org/pandas-docs/stable/user_guide/indexing.html#returning-a-view-versus-a-copy\n",
      "  inner_smo_fire_poll.drop_duplicates(inplace=True)\n"
     ]
    }
   ],
   "source": [
    "all_smo_fire_poll.drop_duplicates(inplace=True)\n",
    "mostlysmo.drop_duplicates(inplace=True)\n",
    "#inner_smo_fire_poll.drop_duplicates(inplace=True)"
   ]
  },
  {
   "cell_type": "code",
   "execution_count": 37,
   "id": "1eebae6d",
   "metadata": {
    "ExecuteTime": {
     "end_time": "2021-05-18T01:44:13.044757Z",
     "start_time": "2021-05-18T01:44:13.041128Z"
    }
   },
   "outputs": [],
   "source": [
    "all_smo_fire_poll.reset_index(drop=True, inplace=True)\n",
    "mostlysmo.reset_index(drop=True, inplace=True)\n",
    "#inner_smo_fire_poll.reset_index(drop=True, inplace=True)"
   ]
  },
  {
   "cell_type": "code",
   "execution_count": 42,
   "id": "925a56ed",
   "metadata": {
    "ExecuteTime": {
     "end_time": "2021-05-18T01:50:19.683814Z",
     "start_time": "2021-05-18T01:50:18.353840Z"
    }
   },
   "outputs": [],
   "source": [
    "all_smo_fire_poll.to_csv('../scratch_data/merges/all_smoke_fire_pollution.csv', index=False)\n",
    "mostlysmo.to_csv('../scratch_data/merges/matched_smoke_fire_pollution.csv', index=False)\n",
    "#inner_smo_fire_poll.to_csv('../scratch_data/merges/smoke-fire_inner_poll.csv', index=False)"
   ]
  },
  {
   "cell_type": "code",
   "execution_count": null,
   "id": "c6a8120d",
   "metadata": {},
   "outputs": [],
   "source": []
  },
  {
   "cell_type": "code",
   "execution_count": null,
   "id": "061ed51f",
   "metadata": {},
   "outputs": [],
   "source": []
  },
  {
   "cell_type": "code",
   "execution_count": null,
   "id": "c33caa31",
   "metadata": {},
   "outputs": [],
   "source": []
  },
  {
   "cell_type": "code",
   "execution_count": null,
   "id": "9ef25575",
   "metadata": {},
   "outputs": [],
   "source": []
  },
  {
   "cell_type": "code",
   "execution_count": null,
   "id": "a64a7569",
   "metadata": {},
   "outputs": [],
   "source": []
  },
  {
   "cell_type": "code",
   "execution_count": null,
   "id": "5e9c970a",
   "metadata": {},
   "outputs": [],
   "source": []
  },
  {
   "cell_type": "markdown",
   "id": "c1edde87",
   "metadata": {},
   "source": [
    "## Filter epa data to States, dates, and pollutants of interest; see if the group wants to work with this"
   ]
  },
  {
   "cell_type": "code",
   "execution_count": 5,
   "id": "92506b03",
   "metadata": {
    "ExecuteTime": {
     "end_time": "2021-05-19T18:48:27.672818Z",
     "start_time": "2021-05-19T18:48:27.146352Z"
    }
   },
   "outputs": [],
   "source": [
    "keep_states = ['California', 'Washington', 'Oregon', 'Arizona', 'Nevada', 'Idaho', 'Utah']\n",
    "\n",
    "epa25 = epa25.loc[epa25['state_name'].isin(keep_states)]"
   ]
  },
  {
   "cell_type": "code",
   "execution_count": 6,
   "id": "18bd7a40",
   "metadata": {
    "ExecuteTime": {
     "end_time": "2021-05-19T18:48:32.051737Z",
     "start_time": "2021-05-19T18:48:31.566031Z"
    }
   },
   "outputs": [],
   "source": [
    "epa25 = epa25.loc[epa25['parameter_name'].str.contains('2.5')]"
   ]
  },
  {
   "cell_type": "code",
   "execution_count": 7,
   "id": "ba3ef895",
   "metadata": {
    "ExecuteTime": {
     "end_time": "2021-05-19T18:48:38.127575Z",
     "start_time": "2021-05-19T18:48:37.988968Z"
    }
   },
   "outputs": [],
   "source": [
    "epa25 = epa25.loc[epa25['date_local']>='2010-01-01']"
   ]
  },
  {
   "cell_type": "code",
   "execution_count": 69,
   "id": "9c7f2e8b",
   "metadata": {},
   "outputs": [],
   "source": [
    "# epa25.to_csv('../scratch_data/pm2.5_epa_2010_2017.csv', index=False)"
   ]
  },
  {
   "cell_type": "code",
   "execution_count": null,
   "id": "684c7141",
   "metadata": {},
   "outputs": [],
   "source": []
  }
 ],
 "metadata": {
  "kernelspec": {
   "display_name": "Python 3",
   "language": "python",
   "name": "python3"
  },
  "language_info": {
   "codemirror_mode": {
    "name": "ipython",
    "version": 3
   },
   "file_extension": ".py",
   "mimetype": "text/x-python",
   "name": "python",
   "nbconvert_exporter": "python",
   "pygments_lexer": "ipython3",
   "version": "3.9.2"
  },
  "varInspector": {
   "cols": {
    "lenName": 16,
    "lenType": 16,
    "lenVar": 40
   },
   "kernels_config": {
    "python": {
     "delete_cmd_postfix": "",
     "delete_cmd_prefix": "del ",
     "library": "var_list.py",
     "varRefreshCmd": "print(var_dic_list())"
    },
    "r": {
     "delete_cmd_postfix": ") ",
     "delete_cmd_prefix": "rm(",
     "library": "var_list.r",
     "varRefreshCmd": "cat(var_dic_list()) "
    }
   },
   "types_to_exclude": [
    "module",
    "function",
    "builtin_function_or_method",
    "instance",
    "_Feature"
   ],
   "window_display": false
  }
 },
 "nbformat": 4,
 "nbformat_minor": 5
}
